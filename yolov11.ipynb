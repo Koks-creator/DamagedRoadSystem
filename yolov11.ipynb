{
  "nbformat": 4,
  "nbformat_minor": 0,
  "metadata": {
    "colab": {
      "provenance": [],
      "gpuType": "T4",
      "include_colab_link": true
    },
    "kernelspec": {
      "name": "python3",
      "display_name": "Python 3"
    },
    "language_info": {
      "name": "python"
    },
    "accelerator": "GPU"
  },
  "cells": [
    {
      "cell_type": "markdown",
      "metadata": {
        "id": "view-in-github",
        "colab_type": "text"
      },
      "source": [
        "<a href=\"https://colab.research.google.com/github/Koks-creator/DamagedRoadSystem/blob/main/yolov11.ipynb\" target=\"_parent\"><img src=\"https://colab.research.google.com/assets/colab-badge.svg\" alt=\"Open In Colab\"/></a>"
      ]
    },
    {
      "cell_type": "code",
      "execution_count": null,
      "metadata": {
        "colab": {
          "base_uri": "https://localhost:8080/"
        },
        "id": "7GmGOjdfc8K4",
        "outputId": "b7f541b7-d753-47d8-80af-87b525b3f310"
      },
      "outputs": [
        {
          "output_type": "stream",
          "name": "stdout",
          "text": [
            "Mounted at /content/gdrive\n"
          ]
        }
      ],
      "source": [
        "from google.colab import drive\n",
        "drive.mount('/content/gdrive')\n",
        "!ln -s /content/gdrive/My\\ Drive/ /mydrive"
      ]
    },
    {
      "cell_type": "code",
      "source": [
        "!unzip /mydrive/yoloTrain/train_data.zip -d /content"
      ],
      "metadata": {
        "colab": {
          "base_uri": "https://localhost:8080/"
        },
        "id": "Bg9LVFJOdXDW",
        "outputId": "58edde2f-7a5d-4e6c-cf71-8553cbd7c3cd"
      },
      "execution_count": null,
      "outputs": [
        {
          "output_type": "stream",
          "name": "stdout",
          "text": [
            "Archive:  /mydrive/yoloTrain/train_data.zip\n",
            "   creating: /content/train_data/\n",
            "   creating: /content/train_data/images/\n",
            "   creating: /content/train_data/images/train/\n",
            "  inflating: /content/train_data/images/train/nwm2_0_0.jpg  \n",
            "  inflating: /content/train_data/images/train/nwm2_0_11.png  \n",
            "  inflating: /content/train_data/images/train/nwm2_0_15.jpg  \n",
            "  inflating: /content/train_data/images/train/nwm2_0_16.jpg  \n",
            "  inflating: /content/train_data/images/train/nwm2_0_17.jpg  \n",
            "  inflating: /content/train_data/images/train/nwm2_0_18.jpg  \n",
            "  inflating: /content/train_data/images/train/nwm2_0_19.jpeg  \n",
            "  inflating: /content/train_data/images/train/nwm2_0_21.jpg  \n",
            "  inflating: /content/train_data/images/train/nwm2_0_22.jpg  \n",
            "  inflating: /content/train_data/images/train/nwm2_0_24.jpg  \n",
            "  inflating: /content/train_data/images/train/nwm2_0_26.jpg  \n",
            "  inflating: /content/train_data/images/train/nwm2_0_27.jpeg  \n",
            "  inflating: /content/train_data/images/train/nwm2_0_28.jpg  \n",
            "  inflating: /content/train_data/images/train/nwm2_0_32.jpg  \n",
            "  inflating: /content/train_data/images/train/nwm2_0_33.png  \n",
            "  inflating: /content/train_data/images/train/nwm2_0_34.jpg  \n",
            "  inflating: /content/train_data/images/train/nwm2_0_37.jpg  \n",
            "  inflating: /content/train_data/images/train/nwm2_0_38.jpg  \n",
            "  inflating: /content/train_data/images/train/nwm2_0_4.jpg  \n",
            "  inflating: /content/train_data/images/train/nwm2_0_47.jpg  \n",
            "  inflating: /content/train_data/images/train/nwm2_0_6.jpg  \n",
            "  inflating: /content/train_data/images/train/nwm2_0_61.jpg  \n",
            "  inflating: /content/train_data/images/train/nwm2_0_63.jpg  \n",
            "  inflating: /content/train_data/images/train/nwm2_0_64.png  \n",
            "  inflating: /content/train_data/images/train/nwm2_0_65.jpg  \n",
            "  inflating: /content/train_data/images/train/nwm2_0_66.jpg  \n",
            "  inflating: /content/train_data/images/train/nwm2_0_68.png  \n",
            "  inflating: /content/train_data/images/train/nwm2_0_70.png  \n",
            "  inflating: /content/train_data/images/train/nwm2_0_72.jpg  \n",
            "  inflating: /content/train_data/images/train/nwm2_0_73.jpg  \n",
            "  inflating: /content/train_data/images/train/nwm2_0_74.jpg  \n",
            "  inflating: /content/train_data/images/train/nwm2_0_78.png  \n",
            "  inflating: /content/train_data/images/train/nwm2_0_79.jpg  \n",
            "  inflating: /content/train_data/images/train/nwm2_0_8.jpg  \n",
            "  inflating: /content/train_data/images/train/nwm2_0_80.jpg  \n",
            "  inflating: /content/train_data/images/train/nwm2_1_12.png  \n",
            "  inflating: /content/train_data/images/train/nwm2_1_13.jpeg  \n",
            "  inflating: /content/train_data/images/train/nwm2_1_14.jpg  \n",
            "  inflating: /content/train_data/images/train/nwm2_1_15.jpg  \n",
            "  inflating: /content/train_data/images/train/nwm2_1_16.jpg  \n",
            "  inflating: /content/train_data/images/train/nwm2_1_18.jpg  \n",
            "  inflating: /content/train_data/images/train/nwm2_1_2.jpg  \n",
            "  inflating: /content/train_data/images/train/nwm2_1_20.png  \n",
            "  inflating: /content/train_data/images/train/nwm2_1_21.jpg  \n",
            "  inflating: /content/train_data/images/train/nwm2_1_22.jpg  \n",
            "  inflating: /content/train_data/images/train/nwm2_1_23.jpg  \n",
            "  inflating: /content/train_data/images/train/nwm2_1_25.jpg  \n",
            "  inflating: /content/train_data/images/train/nwm2_1_26.jpg  \n",
            "  inflating: /content/train_data/images/train/nwm2_1_27.jpg  \n",
            "  inflating: /content/train_data/images/train/nwm2_1_33.jpg  \n",
            "  inflating: /content/train_data/images/train/nwm2_1_34.jpg  \n",
            "  inflating: /content/train_data/images/train/nwm2_1_37.jpg  \n",
            "  inflating: /content/train_data/images/train/nwm2_1_48.jpg  \n",
            "  inflating: /content/train_data/images/train/nwm2_1_55.jpg  \n",
            "  inflating: /content/train_data/images/train/nwm2_1_60.jpg  \n",
            "  inflating: /content/train_data/images/train/nwm2_1_62.jpg  \n",
            "  inflating: /content/train_data/images/train/nwm2_1_65.jpg  \n",
            "  inflating: /content/train_data/images/train/nwm2_1_67.png  \n",
            "  inflating: /content/train_data/images/train/nwm2_1_7.jpeg  \n",
            "  inflating: /content/train_data/images/train/nwm2_1_71.jpg  \n",
            "  inflating: /content/train_data/images/train/nwm2_1_72.jpg  \n",
            "  inflating: /content/train_data/images/train/nwm2_1_75.png  \n",
            "  inflating: /content/train_data/images/train/nwm2_1_79.jpg  \n",
            "  inflating: /content/train_data/images/train/nwm2_2_0.jpg  \n",
            "  inflating: /content/train_data/images/train/nwm2_2_100.jpg  \n",
            "  inflating: /content/train_data/images/train/nwm2_2_104.jpg  \n",
            "  inflating: /content/train_data/images/train/nwm2_2_109.jpg  \n",
            "  inflating: /content/train_data/images/train/nwm2_2_11.jpg  \n",
            "  inflating: /content/train_data/images/train/nwm2_2_110.jpg  \n",
            "  inflating: /content/train_data/images/train/nwm2_2_111.jpg  \n",
            "  inflating: /content/train_data/images/train/nwm2_2_112.jpg  \n",
            "  inflating: /content/train_data/images/train/nwm2_2_113.jpg  \n",
            "  inflating: /content/train_data/images/train/nwm2_2_114.jpg  \n",
            "  inflating: /content/train_data/images/train/nwm2_2_116.jpg  \n",
            "  inflating: /content/train_data/images/train/nwm2_2_117.jpg  \n",
            "  inflating: /content/train_data/images/train/nwm2_2_118.jpg  \n",
            "  inflating: /content/train_data/images/train/nwm2_2_120.jpg  \n",
            "  inflating: /content/train_data/images/train/nwm2_2_121.jpg  \n",
            "  inflating: /content/train_data/images/train/nwm2_2_122.jpg  \n",
            "  inflating: /content/train_data/images/train/nwm2_2_123.jpg  \n",
            "  inflating: /content/train_data/images/train/nwm2_2_124.jpg  \n",
            "  inflating: /content/train_data/images/train/nwm2_2_125.jpg  \n",
            "  inflating: /content/train_data/images/train/nwm2_2_126.jpg  \n",
            "  inflating: /content/train_data/images/train/nwm2_2_129.jpg  \n",
            "  inflating: /content/train_data/images/train/nwm2_2_131.jpeg  \n",
            "  inflating: /content/train_data/images/train/nwm2_2_132.jpg  \n",
            "  inflating: /content/train_data/images/train/nwm2_2_133.jpg  \n",
            "  inflating: /content/train_data/images/train/nwm2_2_134.jpg  \n",
            "  inflating: /content/train_data/images/train/nwm2_2_135.jpg  \n",
            "  inflating: /content/train_data/images/train/nwm2_2_136.jpg  \n",
            "  inflating: /content/train_data/images/train/nwm2_2_137.jpg  \n",
            "  inflating: /content/train_data/images/train/nwm2_2_138.jpg  \n",
            "  inflating: /content/train_data/images/train/nwm2_2_139.png  \n",
            "  inflating: /content/train_data/images/train/nwm2_2_140.jpg  \n",
            "  inflating: /content/train_data/images/train/nwm2_2_141.png  \n",
            "  inflating: /content/train_data/images/train/nwm2_2_143.jpg  \n",
            "  inflating: /content/train_data/images/train/nwm2_2_144.png  \n",
            "  inflating: /content/train_data/images/train/nwm2_2_148.jpg  \n",
            "  inflating: /content/train_data/images/train/nwm2_2_15.jpg  \n",
            "  inflating: /content/train_data/images/train/nwm2_2_150.png  \n",
            "  inflating: /content/train_data/images/train/nwm2_2_151.jpg  \n",
            "  inflating: /content/train_data/images/train/nwm2_2_152.jpg  \n",
            "  inflating: /content/train_data/images/train/nwm2_2_16.jpg  \n",
            "  inflating: /content/train_data/images/train/nwm2_2_18.jpg  \n",
            "  inflating: /content/train_data/images/train/nwm2_2_20.jpg  \n",
            "  inflating: /content/train_data/images/train/nwm2_2_22.jpg  \n",
            "  inflating: /content/train_data/images/train/nwm2_2_23.jpg  \n",
            "  inflating: /content/train_data/images/train/nwm2_2_24.jpg  \n",
            "  inflating: /content/train_data/images/train/nwm2_2_25.jpg  \n",
            "  inflating: /content/train_data/images/train/nwm2_2_26.jpg  \n",
            "  inflating: /content/train_data/images/train/nwm2_2_28.jpg  \n",
            "  inflating: /content/train_data/images/train/nwm2_2_29.jpg  \n",
            "  inflating: /content/train_data/images/train/nwm2_2_3.jpg  \n",
            "  inflating: /content/train_data/images/train/nwm2_2_31.jpg  \n",
            "  inflating: /content/train_data/images/train/nwm2_2_32.jpg  \n",
            "  inflating: /content/train_data/images/train/nwm2_2_34.jpg  \n",
            "  inflating: /content/train_data/images/train/nwm2_2_35.jpg  \n",
            "  inflating: /content/train_data/images/train/nwm2_2_36.jpg  \n",
            "  inflating: /content/train_data/images/train/nwm2_2_37.jpg  \n",
            "  inflating: /content/train_data/images/train/nwm2_2_38.png  \n",
            "  inflating: /content/train_data/images/train/nwm2_2_40.jpeg  \n",
            "  inflating: /content/train_data/images/train/nwm2_2_41.jpeg  \n",
            "  inflating: /content/train_data/images/train/nwm2_2_5.jpg  \n",
            "  inflating: /content/train_data/images/train/nwm2_2_50.jpg  \n",
            "  inflating: /content/train_data/images/train/nwm2_2_57.jpg  \n",
            "  inflating: /content/train_data/images/train/nwm2_2_58.jpg  \n",
            "  inflating: /content/train_data/images/train/nwm2_2_59.jpg  \n",
            "  inflating: /content/train_data/images/train/nwm2_2_62.jpg  \n",
            "  inflating: /content/train_data/images/train/nwm2_2_63.jpg  \n",
            "  inflating: /content/train_data/images/train/nwm2_2_65.jpg  \n",
            "  inflating: /content/train_data/images/train/nwm2_2_66.jpg  \n",
            "  inflating: /content/train_data/images/train/nwm2_2_7.jpg  \n",
            "  inflating: /content/train_data/images/train/nwm2_2_75.jpg  \n",
            "  inflating: /content/train_data/images/train/nwm2_2_76.jpg  \n",
            "  inflating: /content/train_data/images/train/nwm2_2_82.jpg  \n",
            "  inflating: /content/train_data/images/train/nwm2_2_88.jpg  \n",
            "  inflating: /content/train_data/images/train/nwm2_2_9.png  \n",
            "  inflating: /content/train_data/images/train/nwm2_2_92.jpg  \n",
            "  inflating: /content/train_data/images/train/nwm2_2_94.jpg  \n",
            "  inflating: /content/train_data/images/train/nwm2_2_95.jpg  \n",
            "  inflating: /content/train_data/images/train/nwm2_2_98.jpg  \n",
            "  inflating: /content/train_data/images/train/nwm3_0_0.jpg  \n",
            "  inflating: /content/train_data/images/train/nwm3_0_10.jpg  \n",
            "  inflating: /content/train_data/images/train/nwm3_0_13.jpg  \n",
            "  inflating: /content/train_data/images/train/nwm3_0_15.jpg  \n",
            "  inflating: /content/train_data/images/train/nwm3_0_16.jpg  \n",
            "  inflating: /content/train_data/images/train/nwm3_0_17.jpg  \n",
            "  inflating: /content/train_data/images/train/nwm3_0_21.jpg  \n",
            "  inflating: /content/train_data/images/train/nwm3_0_22.jpg  \n",
            "  inflating: /content/train_data/images/train/nwm3_0_24.jpg  \n",
            "  inflating: /content/train_data/images/train/nwm3_0_27.jpg  \n",
            "  inflating: /content/train_data/images/train/nwm3_0_29.jpg  \n",
            "  inflating: /content/train_data/images/train/nwm3_0_30.jpg  \n",
            "  inflating: /content/train_data/images/train/nwm3_0_31.jpg  \n",
            "  inflating: /content/train_data/images/train/nwm3_0_32.jpg  \n",
            "  inflating: /content/train_data/images/train/nwm3_0_33.jpg  \n",
            "  inflating: /content/train_data/images/train/nwm3_0_34.jpg  \n",
            "  inflating: /content/train_data/images/train/nwm3_0_37.png  \n",
            "  inflating: /content/train_data/images/train/nwm3_0_38.jpg  \n",
            "  inflating: /content/train_data/images/train/nwm3_0_39.jpg  \n",
            "  inflating: /content/train_data/images/train/nwm3_0_4.jpg  \n",
            "  inflating: /content/train_data/images/train/nwm3_0_41.jpeg  \n",
            "  inflating: /content/train_data/images/train/nwm3_0_43.jpeg  \n",
            "  inflating: /content/train_data/images/train/nwm3_0_50.jpg  \n",
            "  inflating: /content/train_data/images/train/nwm3_0_61.jpg  \n",
            "  inflating: /content/train_data/images/train/nwm3_0_62.jpg  \n",
            "  inflating: /content/train_data/images/train/nwm3_0_66.jpeg  \n",
            "  inflating: /content/train_data/images/train/nwm3_0_67.jpg  \n",
            "  inflating: /content/train_data/images/train/nwm3_0_68.jpg  \n",
            "  inflating: /content/train_data/images/train/nwm3_0_7.jpg  \n",
            "  inflating: /content/train_data/images/train/nwm3_0_9.jpg  \n",
            "  inflating: /content/train_data/images/train/nwm3_1_1.jpg  \n",
            "  inflating: /content/train_data/images/train/nwm3_1_10.jpg  \n",
            "  inflating: /content/train_data/images/train/nwm3_1_12.jpg  \n",
            "  inflating: /content/train_data/images/train/nwm3_1_13.jpeg  \n",
            "  inflating: /content/train_data/images/train/nwm3_1_14.jpg  \n",
            "  inflating: /content/train_data/images/train/nwm3_1_16.jpg  \n",
            "  inflating: /content/train_data/images/train/nwm3_1_17.jpg  \n",
            "  inflating: /content/train_data/images/train/nwm3_1_19.jpg  \n",
            "  inflating: /content/train_data/images/train/nwm3_1_2.jpeg  \n",
            "  inflating: /content/train_data/images/train/nwm3_1_21.jpg  \n",
            "  inflating: /content/train_data/images/train/nwm3_1_22.jpeg  \n",
            "  inflating: /content/train_data/images/train/nwm3_1_24.jpg  \n",
            "  inflating: /content/train_data/images/train/nwm3_1_26.jpg  \n",
            "  inflating: /content/train_data/images/train/nwm3_1_27.jpeg  \n",
            "  inflating: /content/train_data/images/train/nwm3_1_28.png  \n",
            "  inflating: /content/train_data/images/train/nwm3_1_29.jpg  \n",
            "  inflating: /content/train_data/images/train/nwm3_1_3.jpg  \n",
            "  inflating: /content/train_data/images/train/nwm3_1_30.jpg  \n",
            "  inflating: /content/train_data/images/train/nwm3_1_31.jpg  \n",
            "  inflating: /content/train_data/images/train/nwm3_1_35.jpg  \n",
            "  inflating: /content/train_data/images/train/nwm3_1_36.jpeg  \n",
            "  inflating: /content/train_data/images/train/nwm3_1_37.jpeg  \n",
            "  inflating: /content/train_data/images/train/nwm3_1_39.jpg  \n",
            "  inflating: /content/train_data/images/train/nwm3_1_4.jpg  \n",
            "  inflating: /content/train_data/images/train/nwm3_1_42.jpg  \n",
            "  inflating: /content/train_data/images/train/nwm3_1_43.jpeg  \n",
            "  inflating: /content/train_data/images/train/nwm3_1_44.jpg  \n",
            "  inflating: /content/train_data/images/train/nwm3_1_45.jpg  \n",
            "  inflating: /content/train_data/images/train/nwm3_1_46.jpg  \n",
            "  inflating: /content/train_data/images/train/nwm3_1_47.jpg  \n",
            "  inflating: /content/train_data/images/train/nwm3_1_48.jpg  \n",
            "  inflating: /content/train_data/images/train/nwm3_1_49.png  \n",
            "  inflating: /content/train_data/images/train/nwm3_1_5.jpg  \n",
            "  inflating: /content/train_data/images/train/nwm3_1_50.jpg  \n",
            "  inflating: /content/train_data/images/train/nwm3_1_52.jpg  \n",
            "  inflating: /content/train_data/images/train/nwm3_1_54.jpg  \n",
            "  inflating: /content/train_data/images/train/nwm3_1_55.jpg  \n",
            "  inflating: /content/train_data/images/train/nwm3_1_56.jpg  \n",
            "  inflating: /content/train_data/images/train/nwm3_1_57.jpg  \n",
            "  inflating: /content/train_data/images/train/nwm3_1_58.jpg  \n",
            "  inflating: /content/train_data/images/train/nwm3_1_59.jpg  \n",
            "  inflating: /content/train_data/images/train/nwm3_1_6.jpg  \n",
            "  inflating: /content/train_data/images/train/nwm3_1_60.jpg  \n",
            "  inflating: /content/train_data/images/train/nwm3_1_65.jpg  \n",
            "  inflating: /content/train_data/images/train/nwm3_1_66.jpg  \n",
            "  inflating: /content/train_data/images/train/nwm3_1_67.jpg  \n",
            "  inflating: /content/train_data/images/train/nwm3_1_69.jpg  \n",
            "  inflating: /content/train_data/images/train/nwm3_1_7.jpg  \n",
            "  inflating: /content/train_data/images/train/nwm3_1_70.jpg  \n",
            "  inflating: /content/train_data/images/train/nwm3_1_72.jpg  \n",
            "  inflating: /content/train_data/images/train/nwm3_1_73.jpg  \n",
            "  inflating: /content/train_data/images/train/nwm3_1_75.jpeg  \n",
            "  inflating: /content/train_data/images/train/nwm3_1_76.jpg  \n",
            "  inflating: /content/train_data/images/train/nwm3_1_77.jpg  \n",
            "  inflating: /content/train_data/images/train/nwm3_1_78.jpg  \n",
            "  inflating: /content/train_data/images/train/nwm3_1_79.jpeg  \n",
            "  inflating: /content/train_data/images/train/nwm3_1_8.jpg  \n",
            "  inflating: /content/train_data/images/train/nwm3_1_80.jpg  \n",
            "  inflating: /content/train_data/images/train/nwm3_1_81.png  \n",
            "  inflating: /content/train_data/images/train/nwm3_1_83.jpg  \n",
            "  inflating: /content/train_data/images/train/nwm3_1_84.jpg  \n",
            "  inflating: /content/train_data/images/train/nwm3_1_86.jpg  \n",
            "  inflating: /content/train_data/images/train/nwm3_1_89.jpg  \n",
            "  inflating: /content/train_data/images/train/nwm3_1_9.jpg  \n",
            "  inflating: /content/train_data/images/train/nwm3_1_90.jpg  \n",
            "  inflating: /content/train_data/images/train/nwm3_1_91.jpg  \n",
            "  inflating: /content/train_data/images/train/nwm3_1_92.jpg  \n",
            "  inflating: /content/train_data/images/train/nwm3_1_93.jpg  \n",
            "  inflating: /content/train_data/images/train/nwm3_1_94.jpg  \n",
            "  inflating: /content/train_data/images/train/nwm3_1_95.jpg  \n",
            "  inflating: /content/train_data/images/train/nwm80_0_0.jpeg  \n",
            "  inflating: /content/train_data/images/train/nwm80_0_1.jpg  \n",
            "  inflating: /content/train_data/images/train/nwm80_0_10.jpg  \n",
            "  inflating: /content/train_data/images/train/nwm80_0_101.jpg  \n",
            "  inflating: /content/train_data/images/train/nwm80_0_102.jpg  \n",
            "  inflating: /content/train_data/images/train/nwm80_0_103.jpg  \n",
            "  inflating: /content/train_data/images/train/nwm80_0_105.jpg  \n",
            "  inflating: /content/train_data/images/train/nwm80_0_107.jpg  \n",
            "  inflating: /content/train_data/images/train/nwm80_0_11.jpg  \n",
            "  inflating: /content/train_data/images/train/nwm80_0_113.jpg  \n",
            "  inflating: /content/train_data/images/train/nwm80_0_12.jpg  \n",
            "  inflating: /content/train_data/images/train/nwm80_0_13.jpg  \n",
            "  inflating: /content/train_data/images/train/nwm80_0_14.jpg  \n",
            "  inflating: /content/train_data/images/train/nwm80_0_15.jpg  \n",
            "  inflating: /content/train_data/images/train/nwm80_0_17.jpg  \n",
            "  inflating: /content/train_data/images/train/nwm80_0_19.jpg  \n",
            "  inflating: /content/train_data/images/train/nwm80_0_2.jpg  \n",
            "  inflating: /content/train_data/images/train/nwm80_0_22.jpg  \n",
            "  inflating: /content/train_data/images/train/nwm80_0_24.jpg  \n",
            "  inflating: /content/train_data/images/train/nwm80_0_26.jpg  \n",
            "  inflating: /content/train_data/images/train/nwm80_0_27.jpg  \n",
            "  inflating: /content/train_data/images/train/nwm80_0_28.jpg  \n",
            "  inflating: /content/train_data/images/train/nwm80_0_29.jpg  \n",
            "  inflating: /content/train_data/images/train/nwm80_0_30.jpg  \n",
            "  inflating: /content/train_data/images/train/nwm80_0_31.jpg  \n",
            "  inflating: /content/train_data/images/train/nwm80_0_32.jpg  \n",
            "  inflating: /content/train_data/images/train/nwm80_0_33.jpg  \n",
            "  inflating: /content/train_data/images/train/nwm80_0_34.jpg  \n",
            "  inflating: /content/train_data/images/train/nwm80_0_36.jpg  \n",
            "  inflating: /content/train_data/images/train/nwm80_0_37.jpg  \n",
            "  inflating: /content/train_data/images/train/nwm80_0_38.jpg  \n",
            "  inflating: /content/train_data/images/train/nwm80_0_40.jpg  \n",
            "  inflating: /content/train_data/images/train/nwm80_0_42.jpg  \n",
            "  inflating: /content/train_data/images/train/nwm80_0_43.jpg  \n",
            "  inflating: /content/train_data/images/train/nwm80_0_44.jpg  \n",
            "  inflating: /content/train_data/images/train/nwm80_0_45.jpg  \n",
            "  inflating: /content/train_data/images/train/nwm80_0_46.jpg  \n",
            "  inflating: /content/train_data/images/train/nwm80_0_48.jpg  \n",
            "  inflating: /content/train_data/images/train/nwm80_0_49.jpg  \n",
            "  inflating: /content/train_data/images/train/nwm80_0_51.jpg  \n",
            "  inflating: /content/train_data/images/train/nwm80_0_53.jpg  \n",
            "  inflating: /content/train_data/images/train/nwm80_0_54.jpg  \n",
            "  inflating: /content/train_data/images/train/nwm80_0_55.jpg  \n",
            "  inflating: /content/train_data/images/train/nwm80_0_56.jpg  \n",
            "  inflating: /content/train_data/images/train/nwm80_0_61.jpeg  \n",
            "  inflating: /content/train_data/images/train/nwm80_0_63.jpg  \n",
            "  inflating: /content/train_data/images/train/nwm80_0_65.jpg  \n",
            "  inflating: /content/train_data/images/train/nwm80_0_67.jpg  \n",
            "  inflating: /content/train_data/images/train/nwm80_0_69.jpg  \n",
            "  inflating: /content/train_data/images/train/nwm80_0_7.jpg  \n",
            "  inflating: /content/train_data/images/train/nwm80_0_75.jpg  \n",
            "  inflating: /content/train_data/images/train/nwm80_0_85.jpg  \n",
            "  inflating: /content/train_data/images/train/nwm80_0_86.jpg  \n",
            "  inflating: /content/train_data/images/train/nwm80_0_87.jpg  \n",
            "  inflating: /content/train_data/images/train/nwm80_0_89.jpeg  \n",
            "  inflating: /content/train_data/images/train/nwm80_0_9.jpg  \n",
            "  inflating: /content/train_data/images/train/nwm80_0_90.jpeg  \n",
            "  inflating: /content/train_data/images/train/nwm80_0_91.jpeg  \n",
            "  inflating: /content/train_data/images/train/nwm80_0_92.jpg  \n",
            "  inflating: /content/train_data/images/train/nwm80_0_93.jpg  \n",
            "  inflating: /content/train_data/images/train/nwm80_0_94.jpg  \n",
            "  inflating: /content/train_data/images/train/nwm80_0_96.jpg  \n",
            "  inflating: /content/train_data/images/train/nwm80_0_97.jpg  \n",
            "  inflating: /content/train_data/images/train/nwm80_0_98.jpg  \n",
            "  inflating: /content/train_data/images/train/nwm80_0_99.jpg  \n",
            "  inflating: /content/train_data/images/train/nwm80_1_10.jpg  \n",
            "  inflating: /content/train_data/images/train/nwm80_1_100.jpg  \n",
            "  inflating: /content/train_data/images/train/nwm80_1_101.jpg  \n",
            "  inflating: /content/train_data/images/train/nwm80_1_102.jpg  \n",
            "  inflating: /content/train_data/images/train/nwm80_1_104.png  \n",
            "  inflating: /content/train_data/images/train/nwm80_1_105.jpg  \n",
            "  inflating: /content/train_data/images/train/nwm80_1_106.jpg  \n",
            "  inflating: /content/train_data/images/train/nwm80_1_107.jpg  \n",
            "  inflating: /content/train_data/images/train/nwm80_1_109.jpg  \n",
            "  inflating: /content/train_data/images/train/nwm80_1_11.jpg  \n",
            "  inflating: /content/train_data/images/train/nwm80_1_110.jpg  \n",
            "  inflating: /content/train_data/images/train/nwm80_1_111.jpg  \n",
            "  inflating: /content/train_data/images/train/nwm80_1_112.jpg  \n",
            "  inflating: /content/train_data/images/train/nwm80_1_113.jpg  \n",
            "  inflating: /content/train_data/images/train/nwm80_1_12.jpg  \n",
            "  inflating: /content/train_data/images/train/nwm80_1_13.jpg  \n",
            "  inflating: /content/train_data/images/train/nwm80_1_14.jpg  \n",
            "  inflating: /content/train_data/images/train/nwm80_1_15.jpg  \n",
            "  inflating: /content/train_data/images/train/nwm80_1_17.jpg  \n",
            "  inflating: /content/train_data/images/train/nwm80_1_19.jpg  \n",
            "  inflating: /content/train_data/images/train/nwm80_1_20.jpg  \n",
            "  inflating: /content/train_data/images/train/nwm80_1_21.jpg  \n",
            "  inflating: /content/train_data/images/train/nwm80_1_23.jpg  \n",
            "  inflating: /content/train_data/images/train/nwm80_1_27.jpg  \n",
            "  inflating: /content/train_data/images/train/nwm80_1_28.jpg  \n",
            "  inflating: /content/train_data/images/train/nwm80_1_29.jpg  \n",
            "  inflating: /content/train_data/images/train/nwm80_1_33.jpg  \n",
            "  inflating: /content/train_data/images/train/nwm80_1_34.jpg  \n",
            "  inflating: /content/train_data/images/train/nwm80_1_35.jpg  \n",
            "  inflating: /content/train_data/images/train/nwm80_1_37.jpg  \n",
            "  inflating: /content/train_data/images/train/nwm80_1_38.jpg  \n",
            "  inflating: /content/train_data/images/train/nwm80_1_4.jpg  \n",
            "  inflating: /content/train_data/images/train/nwm80_1_40.jpg  \n",
            "  inflating: /content/train_data/images/train/nwm80_1_41.jpg  \n",
            "  inflating: /content/train_data/images/train/nwm80_1_43.jpg  \n",
            "  inflating: /content/train_data/images/train/nwm80_1_44.jpg  \n",
            "  inflating: /content/train_data/images/train/nwm80_1_46.jpg  \n",
            "  inflating: /content/train_data/images/train/nwm80_1_47.jpg  \n",
            "  inflating: /content/train_data/images/train/nwm80_1_48.jpg  \n",
            "  inflating: /content/train_data/images/train/nwm80_1_50.jpg  \n",
            "  inflating: /content/train_data/images/train/nwm80_1_51.jpg  \n",
            "  inflating: /content/train_data/images/train/nwm80_1_6.jpg  \n",
            "  inflating: /content/train_data/images/train/nwm80_1_61.jpg  \n",
            "  inflating: /content/train_data/images/train/nwm80_1_64.jpg  \n",
            "  inflating: /content/train_data/images/train/nwm80_1_67.jpg  \n",
            "  inflating: /content/train_data/images/train/nwm80_1_68.jpg  \n",
            "  inflating: /content/train_data/images/train/nwm80_1_72.jpg  \n",
            "  inflating: /content/train_data/images/train/nwm80_1_74.jpg  \n",
            "  inflating: /content/train_data/images/train/nwm80_1_79.jpg  \n",
            "  inflating: /content/train_data/images/train/nwm80_1_8.jpg  \n",
            "  inflating: /content/train_data/images/train/nwm80_1_81.jpg  \n",
            "  inflating: /content/train_data/images/train/nwm80_1_83.jpg  \n",
            "  inflating: /content/train_data/images/train/nwm80_1_84.jpg  \n",
            "  inflating: /content/train_data/images/train/nwm80_1_9.jpg  \n",
            "  inflating: /content/train_data/images/train/nwm80_1_90.jpg  \n",
            "  inflating: /content/train_data/images/train/nwm80_1_91.jpg  \n",
            "  inflating: /content/train_data/images/train/nwm80_1_92.jpg  \n",
            "  inflating: /content/train_data/images/train/nwm80_1_93.jpg  \n",
            "  inflating: /content/train_data/images/train/nwm80_1_94.jpg  \n",
            "  inflating: /content/train_data/images/train/nwm80_1_95.jpg  \n",
            "  inflating: /content/train_data/images/train/nwm80_1_96.jpg  \n",
            "  inflating: /content/train_data/images/train/nwm80_1_97.jpg  \n",
            "  inflating: /content/train_data/images/train/nwm80_1_98.jpg  \n",
            "  inflating: /content/train_data/images/train/nwm80_1_99.jpg  \n",
            "  inflating: /content/train_data/images/train/nwm_0_0.jpg  \n",
            "  inflating: /content/train_data/images/train/nwm_0_1.jpg  \n",
            "  inflating: /content/train_data/images/train/nwm_0_10.jpg  \n",
            "  inflating: /content/train_data/images/train/nwm_0_100.jpg  \n",
            "  inflating: /content/train_data/images/train/nwm_0_101.jpg  \n",
            "  inflating: /content/train_data/images/train/nwm_0_105.jpg  \n",
            "  inflating: /content/train_data/images/train/nwm_0_11.jpg  \n",
            "  inflating: /content/train_data/images/train/nwm_0_114.jpg  \n",
            "  inflating: /content/train_data/images/train/nwm_0_117.png  \n",
            "  inflating: /content/train_data/images/train/nwm_0_118.jpg  \n",
            "  inflating: /content/train_data/images/train/nwm_0_119.png  \n",
            "  inflating: /content/train_data/images/train/nwm_0_12.jpg  \n",
            "  inflating: /content/train_data/images/train/nwm_0_124.jpg  \n",
            "  inflating: /content/train_data/images/train/nwm_0_125.png  \n",
            "  inflating: /content/train_data/images/train/nwm_0_127.png  \n",
            "  inflating: /content/train_data/images/train/nwm_0_128.jpg  \n",
            "  inflating: /content/train_data/images/train/nwm_0_129.jpg  \n",
            "  inflating: /content/train_data/images/train/nwm_0_13.jpg  \n",
            "  inflating: /content/train_data/images/train/nwm_0_131.png  \n",
            "  inflating: /content/train_data/images/train/nwm_0_132.jpg  \n",
            "  inflating: /content/train_data/images/train/nwm_0_133.jpg  \n",
            "  inflating: /content/train_data/images/train/nwm_0_135.jpg  \n",
            "  inflating: /content/train_data/images/train/nwm_0_138.png  \n",
            "  inflating: /content/train_data/images/train/nwm_0_140.jpg  \n",
            "  inflating: /content/train_data/images/train/nwm_0_141.jpg  \n",
            "  inflating: /content/train_data/images/train/nwm_0_142.jpg  \n",
            "  inflating: /content/train_data/images/train/nwm_0_143.jpg  \n",
            "  inflating: /content/train_data/images/train/nwm_0_145.png  \n",
            "  inflating: /content/train_data/images/train/nwm_0_146.jpg  \n",
            "  inflating: /content/train_data/images/train/nwm_0_147.jpg  \n",
            "  inflating: /content/train_data/images/train/nwm_0_149.jpg  \n",
            "  inflating: /content/train_data/images/train/nwm_0_15.jpeg  \n",
            "  inflating: /content/train_data/images/train/nwm_0_16.jpg  \n",
            "  inflating: /content/train_data/images/train/nwm_0_17.jpg  \n",
            "  inflating: /content/train_data/images/train/nwm_0_2.jpg  \n",
            "  inflating: /content/train_data/images/train/nwm_0_20.jpg  \n",
            "  inflating: /content/train_data/images/train/nwm_0_21.jpg  \n",
            "  inflating: /content/train_data/images/train/nwm_0_22.jpg  \n",
            "  inflating: /content/train_data/images/train/nwm_0_23.jpg  \n",
            "  inflating: /content/train_data/images/train/nwm_0_24.jpg  \n",
            "  inflating: /content/train_data/images/train/nwm_0_31.jpg  \n",
            "  inflating: /content/train_data/images/train/nwm_0_33.jpg  \n",
            "  inflating: /content/train_data/images/train/nwm_0_36.jpg  \n",
            "  inflating: /content/train_data/images/train/nwm_0_38.jpg  \n",
            "  inflating: /content/train_data/images/train/nwm_0_39.jpg  \n",
            "  inflating: /content/train_data/images/train/nwm_0_4.jpeg  \n",
            "  inflating: /content/train_data/images/train/nwm_0_42.jpg  \n",
            "  inflating: /content/train_data/images/train/nwm_0_43.jpg  \n",
            "  inflating: /content/train_data/images/train/nwm_0_44.png  \n",
            "  inflating: /content/train_data/images/train/nwm_0_45.jpeg  \n",
            "  inflating: /content/train_data/images/train/nwm_0_48.jpg  \n",
            "  inflating: /content/train_data/images/train/nwm_0_5.jpg  \n",
            "  inflating: /content/train_data/images/train/nwm_0_50.jpg  \n",
            "  inflating: /content/train_data/images/train/nwm_0_56.jpg  \n",
            "  inflating: /content/train_data/images/train/nwm_0_58.jpg  \n",
            "  inflating: /content/train_data/images/train/nwm_0_6.jpeg  \n",
            "  inflating: /content/train_data/images/train/nwm_0_63.jpg  \n",
            "  inflating: /content/train_data/images/train/nwm_0_66.jpg  \n",
            "  inflating: /content/train_data/images/train/nwm_0_68.jpg  \n",
            "  inflating: /content/train_data/images/train/nwm_0_7.jpg  \n",
            "  inflating: /content/train_data/images/train/nwm_0_70.jpg  \n",
            "  inflating: /content/train_data/images/train/nwm_0_71.jpg  \n",
            "  inflating: /content/train_data/images/train/nwm_0_72.jpg  \n",
            "  inflating: /content/train_data/images/train/nwm_0_76.jpg  \n",
            "  inflating: /content/train_data/images/train/nwm_0_8.jpeg  \n",
            "  inflating: /content/train_data/images/train/nwm_0_84.jpg  \n",
            "  inflating: /content/train_data/images/train/nwm_0_87.jpg  \n",
            "  inflating: /content/train_data/images/train/nwm_0_88.jpg  \n",
            "  inflating: /content/train_data/images/train/nwm_1_0.jpg  \n",
            "  inflating: /content/train_data/images/train/nwm_1_1.jpg  \n",
            "  inflating: /content/train_data/images/train/nwm_1_100.jpeg  \n",
            "  inflating: /content/train_data/images/train/nwm_1_11.jpg  \n",
            "  inflating: /content/train_data/images/train/nwm_1_12.jpg  \n",
            "  inflating: /content/train_data/images/train/nwm_1_16.jpg  \n",
            "  inflating: /content/train_data/images/train/nwm_1_17.jpg  \n",
            "  inflating: /content/train_data/images/train/nwm_1_18.jpg  \n",
            "  inflating: /content/train_data/images/train/nwm_1_19.jpg  \n",
            "  inflating: /content/train_data/images/train/nwm_1_22.jpg  \n",
            "  inflating: /content/train_data/images/train/nwm_1_23.jpg  \n",
            "  inflating: /content/train_data/images/train/nwm_1_25.jpeg  \n",
            "  inflating: /content/train_data/images/train/nwm_1_27.jpg  \n",
            "  inflating: /content/train_data/images/train/nwm_1_29.jpg  \n",
            "  inflating: /content/train_data/images/train/nwm_1_3.jpg  \n",
            "  inflating: /content/train_data/images/train/nwm_1_30.jpg  \n",
            "  inflating: /content/train_data/images/train/nwm_1_31.jpeg  \n",
            "  inflating: /content/train_data/images/train/nwm_1_33.jpg  \n",
            "  inflating: /content/train_data/images/train/nwm_1_35.jpg  \n",
            "  inflating: /content/train_data/images/train/nwm_1_36.jpg  \n",
            "  inflating: /content/train_data/images/train/nwm_1_37.jpg  \n",
            "  inflating: /content/train_data/images/train/nwm_1_39.png  \n",
            "  inflating: /content/train_data/images/train/nwm_1_4.jpg  \n",
            "  inflating: /content/train_data/images/train/nwm_1_40.jpg  \n",
            "  inflating: /content/train_data/images/train/nwm_1_42.jpg  \n",
            "  inflating: /content/train_data/images/train/nwm_1_45.jpeg  \n",
            "  inflating: /content/train_data/images/train/nwm_1_47.jpg  \n",
            "  inflating: /content/train_data/images/train/nwm_1_48.jpg  \n",
            "  inflating: /content/train_data/images/train/nwm_1_49.jpg  \n",
            "  inflating: /content/train_data/images/train/nwm_1_5.jpg  \n",
            "  inflating: /content/train_data/images/train/nwm_1_51.jpeg  \n",
            "  inflating: /content/train_data/images/train/nwm_1_52.jpeg  \n",
            "  inflating: /content/train_data/images/train/nwm_1_54.jpeg  \n",
            "  inflating: /content/train_data/images/train/nwm_1_58.jpg  \n",
            "  inflating: /content/train_data/images/train/nwm_1_60.jpg  \n",
            "  inflating: /content/train_data/images/train/nwm_1_61.jpg  \n",
            "  inflating: /content/train_data/images/train/nwm_1_63.jpg  \n",
            "  inflating: /content/train_data/images/train/nwm_1_64.jpg  \n",
            "  inflating: /content/train_data/images/train/nwm_1_69.jpg  \n",
            "  inflating: /content/train_data/images/train/nwm_1_73.jpg  \n",
            "  inflating: /content/train_data/images/train/nwm_1_80.jpg  \n",
            "  inflating: /content/train_data/images/train/nwm_1_82.png  \n",
            "  inflating: /content/train_data/images/train/nwm_1_84.jpg  \n",
            "  inflating: /content/train_data/images/train/nwm_1_86.jpg  \n",
            "  inflating: /content/train_data/images/train/nwm_1_9.jpg  \n",
            "  inflating: /content/train_data/images/train/nwm_1_90.jpg  \n",
            "  inflating: /content/train_data/images/train/nwm_1_91.jpg  \n",
            "  inflating: /content/train_data/images/train/nwm_1_94.jpg  \n",
            "  inflating: /content/train_data/images/train/nwm_1_95.jpg  \n",
            "  inflating: /content/train_data/images/train/nwm_1_96.jpg  \n",
            "  inflating: /content/train_data/images/train/nwm_1_99.jpg  \n",
            "  inflating: /content/train_data/images/train/nwm_2_1.jpg  \n",
            "  inflating: /content/train_data/images/train/nwm_2_10.jpg  \n",
            "  inflating: /content/train_data/images/train/nwm_2_100.jpg  \n",
            "  inflating: /content/train_data/images/train/nwm_2_102.jpg  \n",
            "  inflating: /content/train_data/images/train/nwm_2_103.jpg  \n",
            "  inflating: /content/train_data/images/train/nwm_2_104.jpg  \n",
            "  inflating: /content/train_data/images/train/nwm_2_106.jpg  \n",
            "  inflating: /content/train_data/images/train/nwm_2_107.jpg  \n",
            "  inflating: /content/train_data/images/train/nwm_2_108.jpg  \n",
            "  inflating: /content/train_data/images/train/nwm_2_12.jpg  \n",
            "  inflating: /content/train_data/images/train/nwm_2_13.jpg  \n",
            "  inflating: /content/train_data/images/train/nwm_2_14.jpg  \n",
            "  inflating: /content/train_data/images/train/nwm_2_16.jpg  \n",
            "  inflating: /content/train_data/images/train/nwm_2_17.jpg  \n",
            "  inflating: /content/train_data/images/train/nwm_2_18.jpg  \n",
            "  inflating: /content/train_data/images/train/nwm_2_19.jpg  \n",
            "  inflating: /content/train_data/images/train/nwm_2_20.jpeg  \n",
            "  inflating: /content/train_data/images/train/nwm_2_22.jpg  \n",
            "  inflating: /content/train_data/images/train/nwm_2_23.jpg  \n",
            "  inflating: /content/train_data/images/train/nwm_2_24.jpg  \n",
            "  inflating: /content/train_data/images/train/nwm_2_25.jpg  \n",
            "  inflating: /content/train_data/images/train/nwm_2_26.jpg  \n",
            "  inflating: /content/train_data/images/train/nwm_2_28.jpg  \n",
            "  inflating: /content/train_data/images/train/nwm_2_29.png  \n",
            "  inflating: /content/train_data/images/train/nwm_2_3.jpg  \n",
            "  inflating: /content/train_data/images/train/nwm_2_31.jpg  \n",
            "  inflating: /content/train_data/images/train/nwm_2_32.jpg  \n",
            "  inflating: /content/train_data/images/train/nwm_2_33.jpg  \n",
            "  inflating: /content/train_data/images/train/nwm_2_34.jpg  \n",
            "  inflating: /content/train_data/images/train/nwm_2_35.jpeg  \n",
            "  inflating: /content/train_data/images/train/nwm_2_36.jpg  \n",
            "  inflating: /content/train_data/images/train/nwm_2_37.jpg  \n",
            "  inflating: /content/train_data/images/train/nwm_2_38.jpeg  \n",
            "  inflating: /content/train_data/images/train/nwm_2_40.jpeg  \n",
            "  inflating: /content/train_data/images/train/nwm_2_46.jpg  \n",
            "  inflating: /content/train_data/images/train/nwm_2_48.jpg  \n",
            "  inflating: /content/train_data/images/train/nwm_2_49.jpg  \n",
            "  inflating: /content/train_data/images/train/nwm_2_5.jpg  \n",
            "  inflating: /content/train_data/images/train/nwm_2_50.jpg  \n",
            "  inflating: /content/train_data/images/train/nwm_2_54.jpg  \n",
            "  inflating: /content/train_data/images/train/nwm_2_55.jpg  \n",
            "  inflating: /content/train_data/images/train/nwm_2_57.jpg  \n",
            "  inflating: /content/train_data/images/train/nwm_2_6.png  \n",
            "  inflating: /content/train_data/images/train/nwm_2_66.jpg  \n",
            "  inflating: /content/train_data/images/train/nwm_2_68.jpg  \n",
            "  inflating: /content/train_data/images/train/nwm_2_7.jpg  \n",
            "  inflating: /content/train_data/images/train/nwm_2_72.jpg  \n",
            "  inflating: /content/train_data/images/train/nwm_2_74.jpg  \n",
            "  inflating: /content/train_data/images/train/nwm_2_76.jpg  \n",
            "  inflating: /content/train_data/images/train/nwm_2_77.jpg  \n",
            "  inflating: /content/train_data/images/train/nwm_2_78.png  \n",
            "  inflating: /content/train_data/images/train/nwm_2_79.png  \n",
            "  inflating: /content/train_data/images/train/nwm_2_8.jpg  \n",
            "  inflating: /content/train_data/images/train/nwm_2_80.jpg  \n",
            "  inflating: /content/train_data/images/train/nwm_2_82.jpg  \n",
            "  inflating: /content/train_data/images/train/nwm_2_83.jpg  \n",
            "  inflating: /content/train_data/images/train/nwm_2_86.jpg  \n",
            "  inflating: /content/train_data/images/train/nwm_2_87.jpeg  \n",
            "  inflating: /content/train_data/images/train/nwm_2_89.jpg  \n",
            "  inflating: /content/train_data/images/train/nwm_2_9.jpg  \n",
            "  inflating: /content/train_data/images/train/nwm_2_90.jpg  \n",
            "  inflating: /content/train_data/images/train/nwm_2_92.jpg  \n",
            "  inflating: /content/train_data/images/train/nwm_2_93.jpg  \n",
            "  inflating: /content/train_data/images/train/nwm_2_97.jpg  \n",
            "  inflating: /content/train_data/images/train/nwm_2_98.jpg  \n",
            "  inflating: /content/train_data/images/train/nwm_2_99.png  \n",
            "  inflating: /content/train_data/images/train/nwm_3_0.jpg  \n",
            "  inflating: /content/train_data/images/train/nwm_3_100.jpg  \n",
            "  inflating: /content/train_data/images/train/nwm_3_11.jpg  \n",
            "  inflating: /content/train_data/images/train/nwm_3_13.jpg  \n",
            "  inflating: /content/train_data/images/train/nwm_3_14.jpg  \n",
            "  inflating: /content/train_data/images/train/nwm_3_18.jpg  \n",
            "  inflating: /content/train_data/images/train/nwm_3_2.jpg  \n",
            "  inflating: /content/train_data/images/train/nwm_3_20.jpg  \n",
            "  inflating: /content/train_data/images/train/nwm_3_21.jpg  \n",
            "  inflating: /content/train_data/images/train/nwm_3_22.jpg  \n",
            "  inflating: /content/train_data/images/train/nwm_3_23.jpg  \n",
            "  inflating: /content/train_data/images/train/nwm_3_24.jpg  \n",
            "  inflating: /content/train_data/images/train/nwm_3_25.jpg  \n",
            "  inflating: /content/train_data/images/train/nwm_3_27.jpg  \n",
            "  inflating: /content/train_data/images/train/nwm_3_28.jpg  \n",
            "  inflating: /content/train_data/images/train/nwm_3_30.jpg  \n",
            "  inflating: /content/train_data/images/train/nwm_3_31.jpg  \n",
            "  inflating: /content/train_data/images/train/nwm_3_32.jpg  \n",
            "  inflating: /content/train_data/images/train/nwm_3_33.jpg  \n",
            "  inflating: /content/train_data/images/train/nwm_3_36.jpg  \n",
            "  inflating: /content/train_data/images/train/nwm_3_4.jpg  \n",
            "  inflating: /content/train_data/images/train/nwm_3_40.jpeg  \n",
            "  inflating: /content/train_data/images/train/nwm_3_48.jpg  \n",
            "  inflating: /content/train_data/images/train/nwm_3_52.jpg  \n",
            "  inflating: /content/train_data/images/train/nwm_3_57.jpg  \n",
            "  inflating: /content/train_data/images/train/nwm_3_63.jpg  \n",
            "  inflating: /content/train_data/images/train/nwm_3_64.jpg  \n",
            "  inflating: /content/train_data/images/train/nwm_3_65.jpeg  \n",
            "  inflating: /content/train_data/images/train/nwm_3_67.jpg  \n",
            "  inflating: /content/train_data/images/train/nwm_3_68.jpg  \n",
            "  inflating: /content/train_data/images/train/nwm_3_69.jpg  \n",
            "  inflating: /content/train_data/images/train/nwm_3_73.jpg  \n",
            "  inflating: /content/train_data/images/train/nwm_3_75.jpg  \n",
            "  inflating: /content/train_data/images/train/nwm_3_79.jpg  \n",
            "  inflating: /content/train_data/images/train/nwm_3_80.jpg  \n",
            "  inflating: /content/train_data/images/train/nwm_3_83.jpg  \n",
            "  inflating: /content/train_data/images/train/nwm_3_88.png  \n",
            "  inflating: /content/train_data/images/train/nwm_3_91.jpg  \n",
            "  inflating: /content/train_data/images/train/nwm_3_92.jpg  \n",
            "  inflating: /content/train_data/images/train/nwm_3_95.jpg  \n",
            "  inflating: /content/train_data/images/train/nwm_3_96.jpg  \n",
            "  inflating: /content/train_data/images/train/nwm_3_97.jpg  \n",
            "  inflating: /content/train_data/images/train/nwm_3_98.jpg  \n",
            "  inflating: /content/train_data/images/train/nwm_3_99.jpg  \n",
            "  inflating: /content/train_data/images/train/nwm_4_0.jpeg  \n",
            "  inflating: /content/train_data/images/train/nwm_4_104.jpg  \n",
            "  inflating: /content/train_data/images/train/nwm_4_11.jpeg  \n",
            "  inflating: /content/train_data/images/train/nwm_4_110.jpg  \n",
            "  inflating: /content/train_data/images/train/nwm_4_113.jpg  \n",
            "  inflating: /content/train_data/images/train/nwm_4_114.jpeg  \n",
            "  inflating: /content/train_data/images/train/nwm_4_12.jpg  \n",
            "  inflating: /content/train_data/images/train/nwm_4_14.jpg  \n",
            "  inflating: /content/train_data/images/train/nwm_4_15.jpeg  \n",
            "  inflating: /content/train_data/images/train/nwm_4_16.jpg  \n",
            "  inflating: /content/train_data/images/train/nwm_4_18.jpg  \n",
            "  inflating: /content/train_data/images/train/nwm_4_22.jpeg  \n",
            "  inflating: /content/train_data/images/train/nwm_4_23.jpeg  \n",
            "  inflating: /content/train_data/images/train/nwm_4_24.jpg  \n",
            "  inflating: /content/train_data/images/train/nwm_4_26.jpg  \n",
            "  inflating: /content/train_data/images/train/nwm_4_27.jpg  \n",
            "  inflating: /content/train_data/images/train/nwm_4_28.jpg  \n",
            "  inflating: /content/train_data/images/train/nwm_4_3.jpg  \n",
            "  inflating: /content/train_data/images/train/nwm_4_30.jpg  \n",
            "  inflating: /content/train_data/images/train/nwm_4_31.jpg  \n",
            "  inflating: /content/train_data/images/train/nwm_4_32.jpg  \n",
            "  inflating: /content/train_data/images/train/nwm_4_33.jpg  \n",
            "  inflating: /content/train_data/images/train/nwm_4_36.jpg  \n",
            "  inflating: /content/train_data/images/train/nwm_4_37.jpg  \n",
            "  inflating: /content/train_data/images/train/nwm_4_38.jpg  \n",
            "  inflating: /content/train_data/images/train/nwm_4_39.jpg  \n",
            "  inflating: /content/train_data/images/train/nwm_4_40.jpg  \n",
            "  inflating: /content/train_data/images/train/nwm_4_41.jpg  \n",
            "  inflating: /content/train_data/images/train/nwm_4_42.jpg  \n",
            "  inflating: /content/train_data/images/train/nwm_4_48.jpg  \n",
            "  inflating: /content/train_data/images/train/nwm_4_53.jpg  \n",
            "  inflating: /content/train_data/images/train/nwm_4_56.jpg  \n",
            "  inflating: /content/train_data/images/train/nwm_4_57.jpg  \n",
            "  inflating: /content/train_data/images/train/nwm_4_59.jpg  \n",
            "  inflating: /content/train_data/images/train/nwm_4_6.jpg  \n",
            "  inflating: /content/train_data/images/train/nwm_4_61.jpg  \n",
            "  inflating: /content/train_data/images/train/nwm_4_62.jpg  \n",
            "  inflating: /content/train_data/images/train/nwm_4_65.jpg  \n",
            "  inflating: /content/train_data/images/train/nwm_4_67.jpg  \n",
            "  inflating: /content/train_data/images/train/nwm_4_69.png  \n",
            "  inflating: /content/train_data/images/train/nwm_4_7.jpg  \n",
            "  inflating: /content/train_data/images/train/nwm_4_71.jpg  \n",
            "  inflating: /content/train_data/images/train/nwm_4_74.jpg  \n",
            "  inflating: /content/train_data/images/train/nwm_4_76.jpg  \n",
            "  inflating: /content/train_data/images/train/nwm_4_89.jpg  \n",
            "  inflating: /content/train_data/images/train/nwm_4_96.jpg  \n",
            "  inflating: /content/train_data/images/train/nwm_5_10.jpg  \n",
            "  inflating: /content/train_data/images/train/nwm_5_100.jpg  \n",
            "  inflating: /content/train_data/images/train/nwm_5_119.jpg  \n",
            "  inflating: /content/train_data/images/train/nwm_5_12.jpg  \n",
            "  inflating: /content/train_data/images/train/nwm_5_122.jpg  \n",
            "  inflating: /content/train_data/images/train/nwm_5_125.jpg  \n",
            "  inflating: /content/train_data/images/train/nwm_5_126.jpg  \n",
            "  inflating: /content/train_data/images/train/nwm_5_13.jpg  \n",
            "  inflating: /content/train_data/images/train/nwm_5_133.jpg  \n",
            "  inflating: /content/train_data/images/train/nwm_5_138.jpg  \n",
            "  inflating: /content/train_data/images/train/nwm_5_14.jpeg  \n",
            "  inflating: /content/train_data/images/train/nwm_5_140.jpg  \n",
            "  inflating: /content/train_data/images/train/nwm_5_143.jpg  \n",
            "  inflating: /content/train_data/images/train/nwm_5_149.jpg  \n",
            "  inflating: /content/train_data/images/train/nwm_5_15.jpeg  \n",
            "  inflating: /content/train_data/images/train/nwm_5_153.jpg  \n",
            "  inflating: /content/train_data/images/train/nwm_5_155.jpg  \n",
            "  inflating: /content/train_data/images/train/nwm_5_157.jpg  \n",
            "  inflating: /content/train_data/images/train/nwm_5_162.jpg  \n",
            "  inflating: /content/train_data/images/train/nwm_5_17.jpg  \n",
            "  inflating: /content/train_data/images/train/nwm_5_183.jpg  \n",
            "  inflating: /content/train_data/images/train/nwm_5_185.jpg  \n",
            "  inflating: /content/train_data/images/train/nwm_5_19.jpg  \n",
            "  inflating: /content/train_data/images/train/nwm_5_192.jpg  \n",
            "  inflating: /content/train_data/images/train/nwm_5_194.jpg  \n",
            "  inflating: /content/train_data/images/train/nwm_5_195.jpg  \n",
            "  inflating: /content/train_data/images/train/nwm_5_2.jpeg  \n",
            "  inflating: /content/train_data/images/train/nwm_5_20.jpg  \n",
            "  inflating: /content/train_data/images/train/nwm_5_200.jpg  \n",
            "  inflating: /content/train_data/images/train/nwm_5_203.jpg  \n",
            "  inflating: /content/train_data/images/train/nwm_5_204.jpg  \n",
            "  inflating: /content/train_data/images/train/nwm_5_205.jpg  \n",
            "  inflating: /content/train_data/images/train/nwm_5_206.jpg  \n",
            "  inflating: /content/train_data/images/train/nwm_5_207.jpg  \n",
            "  inflating: /content/train_data/images/train/nwm_5_208.jpg  \n",
            "  inflating: /content/train_data/images/train/nwm_5_210.jpg  \n",
            "  inflating: /content/train_data/images/train/nwm_5_213.jpg  \n",
            "  inflating: /content/train_data/images/train/nwm_5_214.png  \n",
            "  inflating: /content/train_data/images/train/nwm_5_216.jpg  \n",
            "  inflating: /content/train_data/images/train/nwm_5_218.jpeg  \n",
            "  inflating: /content/train_data/images/train/nwm_5_22.jpg  \n",
            "  inflating: /content/train_data/images/train/nwm_5_24.jpeg  \n",
            "  inflating: /content/train_data/images/train/nwm_5_25.jpg  \n",
            "  inflating: /content/train_data/images/train/nwm_5_26.jpg  \n",
            "  inflating: /content/train_data/images/train/road90_0_0.jpeg  \n",
            "  inflating: /content/train_data/images/train/road90_0_10.jpg  \n",
            "  inflating: /content/train_data/images/train/road90_0_103.jpg  \n",
            "  inflating: /content/train_data/images/train/road90_0_112.jpg  \n",
            "  inflating: /content/train_data/images/train/road90_0_117.jpg  \n",
            "  inflating: /content/train_data/images/train/road90_0_12.jpg  \n",
            "  inflating: /content/train_data/images/train/road90_0_121.jpg  \n",
            "  inflating: /content/train_data/images/train/road90_0_125.jpg  \n",
            "  inflating: /content/train_data/images/train/road90_0_126.jpg  \n",
            "  inflating: /content/train_data/images/train/road90_0_128.jpg  \n",
            "  inflating: /content/train_data/images/train/road90_0_13.jpg  \n",
            "  inflating: /content/train_data/images/train/road90_0_132.jpg  \n",
            "  inflating: /content/train_data/images/train/road90_0_133.jpg  \n",
            "  inflating: /content/train_data/images/train/road90_0_135.jpg  \n",
            "  inflating: /content/train_data/images/train/road90_0_138.jpg  \n",
            "  inflating: /content/train_data/images/train/road90_0_14.jpg  \n",
            "  inflating: /content/train_data/images/train/road90_0_143.jpg  \n",
            "  inflating: /content/train_data/images/train/road90_0_144.jpg  \n",
            "  inflating: /content/train_data/images/train/road90_0_148.jpg  \n",
            "  inflating: /content/train_data/images/train/road90_0_15.jpg  \n",
            "  inflating: /content/train_data/images/train/road90_0_155.jpg  \n",
            "  inflating: /content/train_data/images/train/road90_0_158.jpg  \n",
            "  inflating: /content/train_data/images/train/road90_0_160.jpg  \n",
            "  inflating: /content/train_data/images/train/road90_0_164.jpg  \n",
            "  inflating: /content/train_data/images/train/road90_0_166.jpg  \n",
            "  inflating: /content/train_data/images/train/road90_0_168.jpg  \n",
            "  inflating: /content/train_data/images/train/road90_0_17.jpg  \n",
            "  inflating: /content/train_data/images/train/road90_0_177.jpg  \n",
            "  inflating: /content/train_data/images/train/road90_0_181.jpg  \n",
            "  inflating: /content/train_data/images/train/road90_0_182.jpg  \n",
            "  inflating: /content/train_data/images/train/road90_0_183.jpg  \n",
            "  inflating: /content/train_data/images/train/road90_0_184.jpg  \n",
            "  inflating: /content/train_data/images/train/road90_0_188.jpg  \n",
            "  inflating: /content/train_data/images/train/road90_0_193.jpg  \n",
            "  inflating: /content/train_data/images/train/road90_0_2.jpg  \n",
            "  inflating: /content/train_data/images/train/road90_0_20.jpg  \n",
            "  inflating: /content/train_data/images/train/road90_0_200.jpg  \n",
            "  inflating: /content/train_data/images/train/road90_0_201.jpg  \n",
            "  inflating: /content/train_data/images/train/road90_0_204.jpg  \n",
            "  inflating: /content/train_data/images/train/road90_0_208.jpg  \n",
            "  inflating: /content/train_data/images/train/road90_0_209.jpg  \n",
            "  inflating: /content/train_data/images/train/road90_0_21.jpg  \n",
            "  inflating: /content/train_data/images/train/road90_0_210.jpg  \n",
            "  inflating: /content/train_data/images/train/road90_0_211.jpg  \n",
            "  inflating: /content/train_data/images/train/road90_0_212.jpg  \n",
            "  inflating: /content/train_data/images/train/road90_0_213.jpg  \n",
            "  inflating: /content/train_data/images/train/road90_0_214.jpg  \n",
            "  inflating: /content/train_data/images/train/road90_0_215.jpg  \n",
            "  inflating: /content/train_data/images/train/road90_0_216.jpg  \n",
            "  inflating: /content/train_data/images/train/road90_0_217.jpg  \n",
            "  inflating: /content/train_data/images/train/road90_0_219.png  \n",
            "  inflating: /content/train_data/images/train/road90_0_22.jpg  \n",
            "  inflating: /content/train_data/images/train/road90_0_220.jpg  \n",
            "  inflating: /content/train_data/images/train/road90_0_222.jpg  \n",
            "  inflating: /content/train_data/images/train/road90_0_223.jpg  \n",
            "  inflating: /content/train_data/images/train/road90_0_224.jpg  \n",
            "  inflating: /content/train_data/images/train/road90_0_225.jpg  \n",
            "  inflating: /content/train_data/images/train/road90_0_226.jpg  \n",
            "  inflating: /content/train_data/images/train/road90_0_228.jpg  \n",
            "  inflating: /content/train_data/images/train/road90_0_229.png  \n",
            "  inflating: /content/train_data/images/train/road90_0_230.jpg  \n",
            "  inflating: /content/train_data/images/train/road90_0_231.jpg  \n",
            "  inflating: /content/train_data/images/train/road90_0_233.jpg  \n",
            "  inflating: /content/train_data/images/train/road90_0_234.jpg  \n",
            "  inflating: /content/train_data/images/train/road90_0_235.jpg  \n",
            "  inflating: /content/train_data/images/train/road90_0_236.jpg  \n",
            "  inflating: /content/train_data/images/train/road90_0_237.jpg  \n",
            "  inflating: /content/train_data/images/train/road90_0_24.jpg  \n",
            "  inflating: /content/train_data/images/train/road90_0_240.jpg  \n",
            "  inflating: /content/train_data/images/train/road90_0_243.jpg  \n",
            "  inflating: /content/train_data/images/train/road90_0_244.jpg  \n",
            "  inflating: /content/train_data/images/train/road90_0_25.jpg  \n",
            "  inflating: /content/train_data/images/train/road90_0_26.jpg  \n",
            "  inflating: /content/train_data/images/train/road90_0_28.jpg  \n",
            "  inflating: /content/train_data/images/train/road90_0_29.jpg  \n",
            "  inflating: /content/train_data/images/train/road90_0_3.png  \n",
            "  inflating: /content/train_data/images/train/road90_0_30.jpg  \n",
            "  inflating: /content/train_data/images/train/road90_0_31.jpg  \n",
            "  inflating: /content/train_data/images/train/road90_0_33.jpg  \n",
            "  inflating: /content/train_data/images/train/road90_0_34.jpg  \n",
            "  inflating: /content/train_data/images/train/road90_0_36.jpg  \n",
            "  inflating: /content/train_data/images/train/road90_0_37.jpg  \n",
            "  inflating: /content/train_data/images/train/road90_0_38.jpg  \n",
            "  inflating: /content/train_data/images/train/road90_0_4.jpg  \n",
            "  inflating: /content/train_data/images/train/road90_0_44.png  \n",
            "  inflating: /content/train_data/images/train/road90_0_47.jpeg  \n",
            "  inflating: /content/train_data/images/train/road90_0_49.jpeg  \n",
            "  inflating: /content/train_data/images/train/road90_0_5.jpg  \n",
            "  inflating: /content/train_data/images/train/road90_0_50.jpeg  \n",
            "  inflating: /content/train_data/images/train/road90_0_52.jpg  \n",
            "  inflating: /content/train_data/images/train/road90_0_59.jpg  \n",
            "  inflating: /content/train_data/images/train/road90_0_60.jpg  \n",
            "  inflating: /content/train_data/images/train/road90_0_61.jpg  \n",
            "  inflating: /content/train_data/images/train/road90_0_66.jpg  \n",
            "  inflating: /content/train_data/images/train/road90_0_72.jpg  \n",
            "  inflating: /content/train_data/images/train/road90_0_8.jpg  \n",
            "  inflating: /content/train_data/images/train/road90_0_83.jpg  \n",
            "  inflating: /content/train_data/images/train/road90_0_92.jpg  \n",
            "  inflating: /content/train_data/images/train/road90_0_93.jpg  \n",
            "  inflating: /content/train_data/images/train/road90_0_96.jpg  \n",
            "  inflating: /content/train_data/images/train/road90_0_98.jpg  \n",
            "   creating: /content/train_data/images/val/\n",
            "  inflating: /content/train_data/images/val/nwm_5_29.jpg  \n",
            "  inflating: /content/train_data/images/val/nwm_5_3.jpg  \n",
            "  inflating: /content/train_data/images/val/nwm_5_30.jpg  \n",
            "  inflating: /content/train_data/images/val/nwm_5_33.jpg  \n",
            "  inflating: /content/train_data/images/val/nwm_5_36.jpg  \n",
            "  inflating: /content/train_data/images/val/nwm_5_37.jpg  \n",
            "  inflating: /content/train_data/images/val/nwm_5_38.jpg  \n",
            "  inflating: /content/train_data/images/val/nwm_5_39.jpg  \n",
            "  inflating: /content/train_data/images/val/nwm_5_41.jpg  \n",
            "  inflating: /content/train_data/images/val/nwm_5_43.jpg  \n",
            "  inflating: /content/train_data/images/val/nwm_5_44.jpg  \n",
            "  inflating: /content/train_data/images/val/nwm_5_45.jpeg  \n",
            "  inflating: /content/train_data/images/val/nwm_5_46.jpeg  \n",
            "  inflating: /content/train_data/images/val/nwm_5_47.jpg  \n",
            "  inflating: /content/train_data/images/val/nwm_5_48.jpg  \n",
            "  inflating: /content/train_data/images/val/nwm_5_52.jpg  \n",
            "  inflating: /content/train_data/images/val/nwm_5_56.jpeg  \n",
            "  inflating: /content/train_data/images/val/nwm_5_57.jpeg  \n",
            "  inflating: /content/train_data/images/val/nwm_5_61.jpg  \n",
            "  inflating: /content/train_data/images/val/nwm_5_7.jpg  \n",
            "  inflating: /content/train_data/images/val/nwm_5_70.jpg  \n",
            "  inflating: /content/train_data/images/val/nwm_5_76.jpg  \n",
            "  inflating: /content/train_data/images/val/nwm_5_78.jpg  \n",
            "  inflating: /content/train_data/images/val/nwm_5_86.jpg  \n",
            "  inflating: /content/train_data/images/val/nwm_5_87.jpg  \n",
            "  inflating: /content/train_data/images/val/nwm_5_9.jpg  \n",
            "   creating: /content/train_data/labels/\n",
            "   creating: /content/train_data/labels/train/\n",
            "  inflating: /content/train_data/labels/train/classes.txt  \n",
            "  inflating: /content/train_data/labels/train/nwm2_0_0.txt  \n",
            "  inflating: /content/train_data/labels/train/nwm2_0_11.txt  \n",
            "  inflating: /content/train_data/labels/train/nwm2_0_15.txt  \n",
            "  inflating: /content/train_data/labels/train/nwm2_0_16.txt  \n",
            "  inflating: /content/train_data/labels/train/nwm2_0_17.txt  \n",
            "  inflating: /content/train_data/labels/train/nwm2_0_18.txt  \n",
            "  inflating: /content/train_data/labels/train/nwm2_0_19.txt  \n",
            "  inflating: /content/train_data/labels/train/nwm2_0_21.txt  \n",
            "  inflating: /content/train_data/labels/train/nwm2_0_22.txt  \n",
            "  inflating: /content/train_data/labels/train/nwm2_0_24.txt  \n",
            "  inflating: /content/train_data/labels/train/nwm2_0_26.txt  \n",
            "  inflating: /content/train_data/labels/train/nwm2_0_27.txt  \n",
            "  inflating: /content/train_data/labels/train/nwm2_0_28.txt  \n",
            "  inflating: /content/train_data/labels/train/nwm2_0_32.txt  \n",
            "  inflating: /content/train_data/labels/train/nwm2_0_33.txt  \n",
            "  inflating: /content/train_data/labels/train/nwm2_0_34.txt  \n",
            "  inflating: /content/train_data/labels/train/nwm2_0_37.txt  \n",
            "  inflating: /content/train_data/labels/train/nwm2_0_38.txt  \n",
            "  inflating: /content/train_data/labels/train/nwm2_0_4.txt  \n",
            "  inflating: /content/train_data/labels/train/nwm2_0_47.txt  \n",
            "  inflating: /content/train_data/labels/train/nwm2_0_6.txt  \n",
            "  inflating: /content/train_data/labels/train/nwm2_0_61.txt  \n",
            "  inflating: /content/train_data/labels/train/nwm2_0_63.txt  \n",
            "  inflating: /content/train_data/labels/train/nwm2_0_64.txt  \n",
            "  inflating: /content/train_data/labels/train/nwm2_0_65.txt  \n",
            "  inflating: /content/train_data/labels/train/nwm2_0_66.txt  \n",
            "  inflating: /content/train_data/labels/train/nwm2_0_68.txt  \n",
            "  inflating: /content/train_data/labels/train/nwm2_0_70.txt  \n",
            "  inflating: /content/train_data/labels/train/nwm2_0_72.txt  \n",
            "  inflating: /content/train_data/labels/train/nwm2_0_73.txt  \n",
            "  inflating: /content/train_data/labels/train/nwm2_0_74.txt  \n",
            "  inflating: /content/train_data/labels/train/nwm2_0_78.txt  \n",
            "  inflating: /content/train_data/labels/train/nwm2_0_79.txt  \n",
            "  inflating: /content/train_data/labels/train/nwm2_0_8.txt  \n",
            "  inflating: /content/train_data/labels/train/nwm2_0_80.txt  \n",
            "  inflating: /content/train_data/labels/train/nwm2_1_12.txt  \n",
            "  inflating: /content/train_data/labels/train/nwm2_1_13.txt  \n",
            "  inflating: /content/train_data/labels/train/nwm2_1_14.txt  \n",
            "  inflating: /content/train_data/labels/train/nwm2_1_15.txt  \n",
            "  inflating: /content/train_data/labels/train/nwm2_1_16.txt  \n",
            "  inflating: /content/train_data/labels/train/nwm2_1_18.txt  \n",
            "  inflating: /content/train_data/labels/train/nwm2_1_2.txt  \n",
            "  inflating: /content/train_data/labels/train/nwm2_1_20.txt  \n",
            "  inflating: /content/train_data/labels/train/nwm2_1_21.txt  \n",
            "  inflating: /content/train_data/labels/train/nwm2_1_22.txt  \n",
            "  inflating: /content/train_data/labels/train/nwm2_1_23.txt  \n",
            "  inflating: /content/train_data/labels/train/nwm2_1_25.txt  \n",
            "  inflating: /content/train_data/labels/train/nwm2_1_26.txt  \n",
            "  inflating: /content/train_data/labels/train/nwm2_1_27.txt  \n",
            "  inflating: /content/train_data/labels/train/nwm2_1_33.txt  \n",
            "  inflating: /content/train_data/labels/train/nwm2_1_34.txt  \n",
            "  inflating: /content/train_data/labels/train/nwm2_1_37.txt  \n",
            "  inflating: /content/train_data/labels/train/nwm2_1_48.txt  \n",
            "  inflating: /content/train_data/labels/train/nwm2_1_55.txt  \n",
            "  inflating: /content/train_data/labels/train/nwm2_1_60.txt  \n",
            "  inflating: /content/train_data/labels/train/nwm2_1_62.txt  \n",
            "  inflating: /content/train_data/labels/train/nwm2_1_65.txt  \n",
            "  inflating: /content/train_data/labels/train/nwm2_1_67.txt  \n",
            "  inflating: /content/train_data/labels/train/nwm2_1_7.txt  \n",
            "  inflating: /content/train_data/labels/train/nwm2_1_71.txt  \n",
            "  inflating: /content/train_data/labels/train/nwm2_1_72.txt  \n",
            "  inflating: /content/train_data/labels/train/nwm2_1_75.txt  \n",
            "  inflating: /content/train_data/labels/train/nwm2_1_79.txt  \n",
            "  inflating: /content/train_data/labels/train/nwm2_2_0.txt  \n",
            "  inflating: /content/train_data/labels/train/nwm2_2_100.txt  \n",
            "  inflating: /content/train_data/labels/train/nwm2_2_104.txt  \n",
            "  inflating: /content/train_data/labels/train/nwm2_2_109.txt  \n",
            "  inflating: /content/train_data/labels/train/nwm2_2_11.txt  \n",
            "  inflating: /content/train_data/labels/train/nwm2_2_110.txt  \n",
            "  inflating: /content/train_data/labels/train/nwm2_2_111.txt  \n",
            "  inflating: /content/train_data/labels/train/nwm2_2_112.txt  \n",
            "  inflating: /content/train_data/labels/train/nwm2_2_113.txt  \n",
            "  inflating: /content/train_data/labels/train/nwm2_2_114.txt  \n",
            "  inflating: /content/train_data/labels/train/nwm2_2_116.txt  \n",
            "  inflating: /content/train_data/labels/train/nwm2_2_117.txt  \n",
            "  inflating: /content/train_data/labels/train/nwm2_2_118.txt  \n",
            "  inflating: /content/train_data/labels/train/nwm2_2_120.txt  \n",
            "  inflating: /content/train_data/labels/train/nwm2_2_121.txt  \n",
            "  inflating: /content/train_data/labels/train/nwm2_2_122.txt  \n",
            "  inflating: /content/train_data/labels/train/nwm2_2_123.txt  \n",
            "  inflating: /content/train_data/labels/train/nwm2_2_124.txt  \n",
            "  inflating: /content/train_data/labels/train/nwm2_2_125.txt  \n",
            "  inflating: /content/train_data/labels/train/nwm2_2_126.txt  \n",
            "  inflating: /content/train_data/labels/train/nwm2_2_129.txt  \n",
            "  inflating: /content/train_data/labels/train/nwm2_2_131.txt  \n",
            "  inflating: /content/train_data/labels/train/nwm2_2_132.txt  \n",
            "  inflating: /content/train_data/labels/train/nwm2_2_133.txt  \n",
            "  inflating: /content/train_data/labels/train/nwm2_2_134.txt  \n",
            "  inflating: /content/train_data/labels/train/nwm2_2_135.txt  \n",
            "  inflating: /content/train_data/labels/train/nwm2_2_136.txt  \n",
            "  inflating: /content/train_data/labels/train/nwm2_2_137.txt  \n",
            "  inflating: /content/train_data/labels/train/nwm2_2_138.txt  \n",
            "  inflating: /content/train_data/labels/train/nwm2_2_139.txt  \n",
            "  inflating: /content/train_data/labels/train/nwm2_2_140.txt  \n",
            "  inflating: /content/train_data/labels/train/nwm2_2_141.txt  \n",
            "  inflating: /content/train_data/labels/train/nwm2_2_143.txt  \n",
            "  inflating: /content/train_data/labels/train/nwm2_2_144.txt  \n",
            "  inflating: /content/train_data/labels/train/nwm2_2_148.txt  \n",
            "  inflating: /content/train_data/labels/train/nwm2_2_15.txt  \n",
            "  inflating: /content/train_data/labels/train/nwm2_2_150.txt  \n",
            "  inflating: /content/train_data/labels/train/nwm2_2_151.txt  \n",
            "  inflating: /content/train_data/labels/train/nwm2_2_152.txt  \n",
            "  inflating: /content/train_data/labels/train/nwm2_2_16.txt  \n",
            "  inflating: /content/train_data/labels/train/nwm2_2_18.txt  \n",
            "  inflating: /content/train_data/labels/train/nwm2_2_20.txt  \n",
            "  inflating: /content/train_data/labels/train/nwm2_2_22.txt  \n",
            "  inflating: /content/train_data/labels/train/nwm2_2_23.txt  \n",
            "  inflating: /content/train_data/labels/train/nwm2_2_24.txt  \n",
            "  inflating: /content/train_data/labels/train/nwm2_2_25.txt  \n",
            "  inflating: /content/train_data/labels/train/nwm2_2_26.txt  \n",
            "  inflating: /content/train_data/labels/train/nwm2_2_28.txt  \n",
            "  inflating: /content/train_data/labels/train/nwm2_2_29.txt  \n",
            "  inflating: /content/train_data/labels/train/nwm2_2_3.txt  \n",
            "  inflating: /content/train_data/labels/train/nwm2_2_31.txt  \n",
            "  inflating: /content/train_data/labels/train/nwm2_2_32.txt  \n",
            "  inflating: /content/train_data/labels/train/nwm2_2_34.txt  \n",
            "  inflating: /content/train_data/labels/train/nwm2_2_35.txt  \n",
            "  inflating: /content/train_data/labels/train/nwm2_2_36.txt  \n",
            "  inflating: /content/train_data/labels/train/nwm2_2_37.txt  \n",
            "  inflating: /content/train_data/labels/train/nwm2_2_38.txt  \n",
            "  inflating: /content/train_data/labels/train/nwm2_2_40.txt  \n",
            "  inflating: /content/train_data/labels/train/nwm2_2_41.txt  \n",
            "  inflating: /content/train_data/labels/train/nwm2_2_5.txt  \n",
            "  inflating: /content/train_data/labels/train/nwm2_2_50.txt  \n",
            "  inflating: /content/train_data/labels/train/nwm2_2_57.txt  \n",
            "  inflating: /content/train_data/labels/train/nwm2_2_58.txt  \n",
            "  inflating: /content/train_data/labels/train/nwm2_2_59.txt  \n",
            "  inflating: /content/train_data/labels/train/nwm2_2_62.txt  \n",
            "  inflating: /content/train_data/labels/train/nwm2_2_63.txt  \n",
            "  inflating: /content/train_data/labels/train/nwm2_2_65.txt  \n",
            "  inflating: /content/train_data/labels/train/nwm2_2_66.txt  \n",
            "  inflating: /content/train_data/labels/train/nwm2_2_7.txt  \n",
            "  inflating: /content/train_data/labels/train/nwm2_2_75.txt  \n",
            "  inflating: /content/train_data/labels/train/nwm2_2_76.txt  \n",
            "  inflating: /content/train_data/labels/train/nwm2_2_82.txt  \n",
            "  inflating: /content/train_data/labels/train/nwm2_2_88.txt  \n",
            "  inflating: /content/train_data/labels/train/nwm2_2_9.txt  \n",
            "  inflating: /content/train_data/labels/train/nwm2_2_92.txt  \n",
            "  inflating: /content/train_data/labels/train/nwm2_2_94.txt  \n",
            "  inflating: /content/train_data/labels/train/nwm2_2_95.txt  \n",
            "  inflating: /content/train_data/labels/train/nwm2_2_98.txt  \n",
            "  inflating: /content/train_data/labels/train/nwm3_0_0.txt  \n",
            "  inflating: /content/train_data/labels/train/nwm3_0_10.txt  \n",
            "  inflating: /content/train_data/labels/train/nwm3_0_13.txt  \n",
            "  inflating: /content/train_data/labels/train/nwm3_0_15.txt  \n",
            "  inflating: /content/train_data/labels/train/nwm3_0_16.txt  \n",
            "  inflating: /content/train_data/labels/train/nwm3_0_17.txt  \n",
            "  inflating: /content/train_data/labels/train/nwm3_0_21.txt  \n",
            "  inflating: /content/train_data/labels/train/nwm3_0_22.txt  \n",
            "  inflating: /content/train_data/labels/train/nwm3_0_24.txt  \n",
            "  inflating: /content/train_data/labels/train/nwm3_0_27.txt  \n",
            "  inflating: /content/train_data/labels/train/nwm3_0_29.txt  \n",
            "  inflating: /content/train_data/labels/train/nwm3_0_30.txt  \n",
            "  inflating: /content/train_data/labels/train/nwm3_0_31.txt  \n",
            "  inflating: /content/train_data/labels/train/nwm3_0_32.txt  \n",
            "  inflating: /content/train_data/labels/train/nwm3_0_33.txt  \n",
            "  inflating: /content/train_data/labels/train/nwm3_0_34.txt  \n",
            "  inflating: /content/train_data/labels/train/nwm3_0_37.txt  \n",
            "  inflating: /content/train_data/labels/train/nwm3_0_38.txt  \n",
            "  inflating: /content/train_data/labels/train/nwm3_0_39.txt  \n",
            "  inflating: /content/train_data/labels/train/nwm3_0_4.txt  \n",
            "  inflating: /content/train_data/labels/train/nwm3_0_41.txt  \n",
            "  inflating: /content/train_data/labels/train/nwm3_0_43.txt  \n",
            "  inflating: /content/train_data/labels/train/nwm3_0_50.txt  \n",
            "  inflating: /content/train_data/labels/train/nwm3_0_61.txt  \n",
            "  inflating: /content/train_data/labels/train/nwm3_0_62.txt  \n",
            "  inflating: /content/train_data/labels/train/nwm3_0_66.txt  \n",
            "  inflating: /content/train_data/labels/train/nwm3_0_67.txt  \n",
            "  inflating: /content/train_data/labels/train/nwm3_0_68.txt  \n",
            "  inflating: /content/train_data/labels/train/nwm3_0_7.txt  \n",
            "  inflating: /content/train_data/labels/train/nwm3_0_9.txt  \n",
            "  inflating: /content/train_data/labels/train/nwm3_1_1.txt  \n",
            "  inflating: /content/train_data/labels/train/nwm3_1_10.txt  \n",
            "  inflating: /content/train_data/labels/train/nwm3_1_12.txt  \n",
            "  inflating: /content/train_data/labels/train/nwm3_1_13.txt  \n",
            "  inflating: /content/train_data/labels/train/nwm3_1_14.txt  \n",
            "  inflating: /content/train_data/labels/train/nwm3_1_16.txt  \n",
            "  inflating: /content/train_data/labels/train/nwm3_1_17.txt  \n",
            "  inflating: /content/train_data/labels/train/nwm3_1_19.txt  \n",
            "  inflating: /content/train_data/labels/train/nwm3_1_2.txt  \n",
            "  inflating: /content/train_data/labels/train/nwm3_1_21.txt  \n",
            "  inflating: /content/train_data/labels/train/nwm3_1_22.txt  \n",
            "  inflating: /content/train_data/labels/train/nwm3_1_24.txt  \n",
            "  inflating: /content/train_data/labels/train/nwm3_1_26.txt  \n",
            "  inflating: /content/train_data/labels/train/nwm3_1_27.txt  \n",
            "  inflating: /content/train_data/labels/train/nwm3_1_28.txt  \n",
            "  inflating: /content/train_data/labels/train/nwm3_1_29.txt  \n",
            "  inflating: /content/train_data/labels/train/nwm3_1_3.txt  \n",
            "  inflating: /content/train_data/labels/train/nwm3_1_30.txt  \n",
            "  inflating: /content/train_data/labels/train/nwm3_1_31.txt  \n",
            "  inflating: /content/train_data/labels/train/nwm3_1_35.txt  \n",
            "  inflating: /content/train_data/labels/train/nwm3_1_36.txt  \n",
            "  inflating: /content/train_data/labels/train/nwm3_1_37.txt  \n",
            "  inflating: /content/train_data/labels/train/nwm3_1_39.txt  \n",
            "  inflating: /content/train_data/labels/train/nwm3_1_4.txt  \n",
            "  inflating: /content/train_data/labels/train/nwm3_1_42.txt  \n",
            "  inflating: /content/train_data/labels/train/nwm3_1_43.txt  \n",
            "  inflating: /content/train_data/labels/train/nwm3_1_44.txt  \n",
            "  inflating: /content/train_data/labels/train/nwm3_1_45.txt  \n",
            "  inflating: /content/train_data/labels/train/nwm3_1_46.txt  \n",
            "  inflating: /content/train_data/labels/train/nwm3_1_47.txt  \n",
            "  inflating: /content/train_data/labels/train/nwm3_1_48.txt  \n",
            "  inflating: /content/train_data/labels/train/nwm3_1_49.txt  \n",
            "  inflating: /content/train_data/labels/train/nwm3_1_5.txt  \n",
            "  inflating: /content/train_data/labels/train/nwm3_1_50.txt  \n",
            "  inflating: /content/train_data/labels/train/nwm3_1_52.txt  \n",
            "  inflating: /content/train_data/labels/train/nwm3_1_54.txt  \n",
            "  inflating: /content/train_data/labels/train/nwm3_1_55.txt  \n",
            "  inflating: /content/train_data/labels/train/nwm3_1_56.txt  \n",
            "  inflating: /content/train_data/labels/train/nwm3_1_57.txt  \n",
            "  inflating: /content/train_data/labels/train/nwm3_1_58.txt  \n",
            "  inflating: /content/train_data/labels/train/nwm3_1_59.txt  \n",
            "  inflating: /content/train_data/labels/train/nwm3_1_6.txt  \n",
            "  inflating: /content/train_data/labels/train/nwm3_1_60.txt  \n",
            "  inflating: /content/train_data/labels/train/nwm3_1_65.txt  \n",
            "  inflating: /content/train_data/labels/train/nwm3_1_66.txt  \n",
            "  inflating: /content/train_data/labels/train/nwm3_1_67.txt  \n",
            "  inflating: /content/train_data/labels/train/nwm3_1_69.txt  \n",
            "  inflating: /content/train_data/labels/train/nwm3_1_7.txt  \n",
            "  inflating: /content/train_data/labels/train/nwm3_1_70.txt  \n",
            "  inflating: /content/train_data/labels/train/nwm3_1_72.txt  \n",
            "  inflating: /content/train_data/labels/train/nwm3_1_73.txt  \n",
            "  inflating: /content/train_data/labels/train/nwm3_1_75.txt  \n",
            "  inflating: /content/train_data/labels/train/nwm3_1_76.txt  \n",
            "  inflating: /content/train_data/labels/train/nwm3_1_77.txt  \n",
            "  inflating: /content/train_data/labels/train/nwm3_1_78.txt  \n",
            "  inflating: /content/train_data/labels/train/nwm3_1_79.txt  \n",
            "  inflating: /content/train_data/labels/train/nwm3_1_8.txt  \n",
            "  inflating: /content/train_data/labels/train/nwm3_1_80.txt  \n",
            "  inflating: /content/train_data/labels/train/nwm3_1_81.txt  \n",
            "  inflating: /content/train_data/labels/train/nwm3_1_83.txt  \n",
            "  inflating: /content/train_data/labels/train/nwm3_1_84.txt  \n",
            "  inflating: /content/train_data/labels/train/nwm3_1_86.txt  \n",
            "  inflating: /content/train_data/labels/train/nwm3_1_89.txt  \n",
            "  inflating: /content/train_data/labels/train/nwm3_1_9.txt  \n",
            "  inflating: /content/train_data/labels/train/nwm3_1_90.txt  \n",
            "  inflating: /content/train_data/labels/train/nwm3_1_91.txt  \n",
            "  inflating: /content/train_data/labels/train/nwm3_1_92.txt  \n",
            "  inflating: /content/train_data/labels/train/nwm3_1_93.txt  \n",
            "  inflating: /content/train_data/labels/train/nwm3_1_94.txt  \n",
            "  inflating: /content/train_data/labels/train/nwm3_1_95.txt  \n",
            "  inflating: /content/train_data/labels/train/nwm80_0_0.txt  \n",
            "  inflating: /content/train_data/labels/train/nwm80_0_1.txt  \n",
            "  inflating: /content/train_data/labels/train/nwm80_0_10.txt  \n",
            "  inflating: /content/train_data/labels/train/nwm80_0_101.txt  \n",
            "  inflating: /content/train_data/labels/train/nwm80_0_102.txt  \n",
            "  inflating: /content/train_data/labels/train/nwm80_0_103.txt  \n",
            "  inflating: /content/train_data/labels/train/nwm80_0_105.txt  \n",
            "  inflating: /content/train_data/labels/train/nwm80_0_107.txt  \n",
            "  inflating: /content/train_data/labels/train/nwm80_0_11.txt  \n",
            "  inflating: /content/train_data/labels/train/nwm80_0_113.txt  \n",
            "  inflating: /content/train_data/labels/train/nwm80_0_12.txt  \n",
            "  inflating: /content/train_data/labels/train/nwm80_0_13.txt  \n",
            "  inflating: /content/train_data/labels/train/nwm80_0_14.txt  \n",
            "  inflating: /content/train_data/labels/train/nwm80_0_15.txt  \n",
            "  inflating: /content/train_data/labels/train/nwm80_0_17.txt  \n",
            "  inflating: /content/train_data/labels/train/nwm80_0_19.txt  \n",
            "  inflating: /content/train_data/labels/train/nwm80_0_2.txt  \n",
            "  inflating: /content/train_data/labels/train/nwm80_0_22.txt  \n",
            "  inflating: /content/train_data/labels/train/nwm80_0_24.txt  \n",
            "  inflating: /content/train_data/labels/train/nwm80_0_26.txt  \n",
            "  inflating: /content/train_data/labels/train/nwm80_0_27.txt  \n",
            "  inflating: /content/train_data/labels/train/nwm80_0_28.txt  \n",
            "  inflating: /content/train_data/labels/train/nwm80_0_29.txt  \n",
            "  inflating: /content/train_data/labels/train/nwm80_0_30.txt  \n",
            "  inflating: /content/train_data/labels/train/nwm80_0_31.txt  \n",
            "  inflating: /content/train_data/labels/train/nwm80_0_32.txt  \n",
            "  inflating: /content/train_data/labels/train/nwm80_0_33.txt  \n",
            "  inflating: /content/train_data/labels/train/nwm80_0_34.txt  \n",
            "  inflating: /content/train_data/labels/train/nwm80_0_36.txt  \n",
            "  inflating: /content/train_data/labels/train/nwm80_0_37.txt  \n",
            "  inflating: /content/train_data/labels/train/nwm80_0_38.txt  \n",
            "  inflating: /content/train_data/labels/train/nwm80_0_40.txt  \n",
            "  inflating: /content/train_data/labels/train/nwm80_0_42.txt  \n",
            "  inflating: /content/train_data/labels/train/nwm80_0_43.txt  \n",
            "  inflating: /content/train_data/labels/train/nwm80_0_44.txt  \n",
            "  inflating: /content/train_data/labels/train/nwm80_0_45.txt  \n",
            "  inflating: /content/train_data/labels/train/nwm80_0_46.txt  \n",
            "  inflating: /content/train_data/labels/train/nwm80_0_48.txt  \n",
            "  inflating: /content/train_data/labels/train/nwm80_0_49.txt  \n",
            "  inflating: /content/train_data/labels/train/nwm80_0_51.txt  \n",
            "  inflating: /content/train_data/labels/train/nwm80_0_53.txt  \n",
            "  inflating: /content/train_data/labels/train/nwm80_0_54.txt  \n",
            "  inflating: /content/train_data/labels/train/nwm80_0_55.txt  \n",
            "  inflating: /content/train_data/labels/train/nwm80_0_56.txt  \n",
            "  inflating: /content/train_data/labels/train/nwm80_0_61.txt  \n",
            "  inflating: /content/train_data/labels/train/nwm80_0_63.txt  \n",
            "  inflating: /content/train_data/labels/train/nwm80_0_65.txt  \n",
            "  inflating: /content/train_data/labels/train/nwm80_0_67.txt  \n",
            "  inflating: /content/train_data/labels/train/nwm80_0_69.txt  \n",
            "  inflating: /content/train_data/labels/train/nwm80_0_7.txt  \n",
            "  inflating: /content/train_data/labels/train/nwm80_0_75.txt  \n",
            "  inflating: /content/train_data/labels/train/nwm80_0_85.txt  \n",
            "  inflating: /content/train_data/labels/train/nwm80_0_86.txt  \n",
            "  inflating: /content/train_data/labels/train/nwm80_0_87.txt  \n",
            "  inflating: /content/train_data/labels/train/nwm80_0_89.txt  \n",
            "  inflating: /content/train_data/labels/train/nwm80_0_9.txt  \n",
            "  inflating: /content/train_data/labels/train/nwm80_0_90.txt  \n",
            "  inflating: /content/train_data/labels/train/nwm80_0_91.txt  \n",
            "  inflating: /content/train_data/labels/train/nwm80_0_92.txt  \n",
            "  inflating: /content/train_data/labels/train/nwm80_0_93.txt  \n",
            "  inflating: /content/train_data/labels/train/nwm80_0_94.txt  \n",
            "  inflating: /content/train_data/labels/train/nwm80_0_96.txt  \n",
            "  inflating: /content/train_data/labels/train/nwm80_0_97.txt  \n",
            "  inflating: /content/train_data/labels/train/nwm80_0_98.txt  \n",
            "  inflating: /content/train_data/labels/train/nwm80_0_99.txt  \n",
            "  inflating: /content/train_data/labels/train/nwm80_1_10.txt  \n",
            "  inflating: /content/train_data/labels/train/nwm80_1_100.txt  \n",
            "  inflating: /content/train_data/labels/train/nwm80_1_101.txt  \n",
            "  inflating: /content/train_data/labels/train/nwm80_1_102.txt  \n",
            "  inflating: /content/train_data/labels/train/nwm80_1_104.txt  \n",
            "  inflating: /content/train_data/labels/train/nwm80_1_105.txt  \n",
            "  inflating: /content/train_data/labels/train/nwm80_1_106.txt  \n",
            "  inflating: /content/train_data/labels/train/nwm80_1_107.txt  \n",
            "  inflating: /content/train_data/labels/train/nwm80_1_109.txt  \n",
            "  inflating: /content/train_data/labels/train/nwm80_1_11.txt  \n",
            "  inflating: /content/train_data/labels/train/nwm80_1_110.txt  \n",
            "  inflating: /content/train_data/labels/train/nwm80_1_111.txt  \n",
            "  inflating: /content/train_data/labels/train/nwm80_1_112.txt  \n",
            "  inflating: /content/train_data/labels/train/nwm80_1_113.txt  \n",
            "  inflating: /content/train_data/labels/train/nwm80_1_12.txt  \n",
            "  inflating: /content/train_data/labels/train/nwm80_1_13.txt  \n",
            "  inflating: /content/train_data/labels/train/nwm80_1_14.txt  \n",
            "  inflating: /content/train_data/labels/train/nwm80_1_15.txt  \n",
            "  inflating: /content/train_data/labels/train/nwm80_1_17.txt  \n",
            "  inflating: /content/train_data/labels/train/nwm80_1_19.txt  \n",
            "  inflating: /content/train_data/labels/train/nwm80_1_20.txt  \n",
            "  inflating: /content/train_data/labels/train/nwm80_1_21.txt  \n",
            "  inflating: /content/train_data/labels/train/nwm80_1_23.txt  \n",
            "  inflating: /content/train_data/labels/train/nwm80_1_27.txt  \n",
            "  inflating: /content/train_data/labels/train/nwm80_1_28.txt  \n",
            "  inflating: /content/train_data/labels/train/nwm80_1_29.txt  \n",
            "  inflating: /content/train_data/labels/train/nwm80_1_33.txt  \n",
            "  inflating: /content/train_data/labels/train/nwm80_1_34.txt  \n",
            "  inflating: /content/train_data/labels/train/nwm80_1_35.txt  \n",
            "  inflating: /content/train_data/labels/train/nwm80_1_37.txt  \n",
            "  inflating: /content/train_data/labels/train/nwm80_1_38.txt  \n",
            "  inflating: /content/train_data/labels/train/nwm80_1_4.txt  \n",
            "  inflating: /content/train_data/labels/train/nwm80_1_40.txt  \n",
            "  inflating: /content/train_data/labels/train/nwm80_1_41.txt  \n",
            "  inflating: /content/train_data/labels/train/nwm80_1_43.txt  \n",
            "  inflating: /content/train_data/labels/train/nwm80_1_44.txt  \n",
            "  inflating: /content/train_data/labels/train/nwm80_1_46.txt  \n",
            "  inflating: /content/train_data/labels/train/nwm80_1_47.txt  \n",
            "  inflating: /content/train_data/labels/train/nwm80_1_48.txt  \n",
            "  inflating: /content/train_data/labels/train/nwm80_1_50.txt  \n",
            "  inflating: /content/train_data/labels/train/nwm80_1_51.txt  \n",
            "  inflating: /content/train_data/labels/train/nwm80_1_6.txt  \n",
            "  inflating: /content/train_data/labels/train/nwm80_1_61.txt  \n",
            "  inflating: /content/train_data/labels/train/nwm80_1_64.txt  \n",
            "  inflating: /content/train_data/labels/train/nwm80_1_67.txt  \n",
            "  inflating: /content/train_data/labels/train/nwm80_1_68.txt  \n",
            "  inflating: /content/train_data/labels/train/nwm80_1_72.txt  \n",
            "  inflating: /content/train_data/labels/train/nwm80_1_74.txt  \n",
            "  inflating: /content/train_data/labels/train/nwm80_1_79.txt  \n",
            "  inflating: /content/train_data/labels/train/nwm80_1_8.txt  \n",
            "  inflating: /content/train_data/labels/train/nwm80_1_81.txt  \n",
            "  inflating: /content/train_data/labels/train/nwm80_1_83.txt  \n",
            "  inflating: /content/train_data/labels/train/nwm80_1_84.txt  \n",
            "  inflating: /content/train_data/labels/train/nwm80_1_9.txt  \n",
            "  inflating: /content/train_data/labels/train/nwm80_1_90.txt  \n",
            "  inflating: /content/train_data/labels/train/nwm80_1_91.txt  \n",
            "  inflating: /content/train_data/labels/train/nwm80_1_92.txt  \n",
            "  inflating: /content/train_data/labels/train/nwm80_1_93.txt  \n",
            "  inflating: /content/train_data/labels/train/nwm80_1_94.txt  \n",
            "  inflating: /content/train_data/labels/train/nwm80_1_95.txt  \n",
            "  inflating: /content/train_data/labels/train/nwm80_1_96.txt  \n",
            "  inflating: /content/train_data/labels/train/nwm80_1_97.txt  \n",
            "  inflating: /content/train_data/labels/train/nwm80_1_98.txt  \n",
            "  inflating: /content/train_data/labels/train/nwm80_1_99.txt  \n",
            "  inflating: /content/train_data/labels/train/nwm_0_0.txt  \n",
            "  inflating: /content/train_data/labels/train/nwm_0_1.txt  \n",
            "  inflating: /content/train_data/labels/train/nwm_0_10.txt  \n",
            "  inflating: /content/train_data/labels/train/nwm_0_100.txt  \n",
            "  inflating: /content/train_data/labels/train/nwm_0_101.txt  \n",
            "  inflating: /content/train_data/labels/train/nwm_0_105.txt  \n",
            "  inflating: /content/train_data/labels/train/nwm_0_11.txt  \n",
            "  inflating: /content/train_data/labels/train/nwm_0_114.txt  \n",
            "  inflating: /content/train_data/labels/train/nwm_0_117.txt  \n",
            "  inflating: /content/train_data/labels/train/nwm_0_118.txt  \n",
            "  inflating: /content/train_data/labels/train/nwm_0_119.txt  \n",
            "  inflating: /content/train_data/labels/train/nwm_0_12.txt  \n",
            "  inflating: /content/train_data/labels/train/nwm_0_124.txt  \n",
            "  inflating: /content/train_data/labels/train/nwm_0_125.txt  \n",
            "  inflating: /content/train_data/labels/train/nwm_0_127.txt  \n",
            "  inflating: /content/train_data/labels/train/nwm_0_128.txt  \n",
            "  inflating: /content/train_data/labels/train/nwm_0_129.txt  \n",
            "  inflating: /content/train_data/labels/train/nwm_0_13.txt  \n",
            "  inflating: /content/train_data/labels/train/nwm_0_131.txt  \n",
            "  inflating: /content/train_data/labels/train/nwm_0_132.txt  \n",
            "  inflating: /content/train_data/labels/train/nwm_0_133.txt  \n",
            "  inflating: /content/train_data/labels/train/nwm_0_135.txt  \n",
            "  inflating: /content/train_data/labels/train/nwm_0_138.txt  \n",
            "  inflating: /content/train_data/labels/train/nwm_0_140.txt  \n",
            "  inflating: /content/train_data/labels/train/nwm_0_141.txt  \n",
            "  inflating: /content/train_data/labels/train/nwm_0_142.txt  \n",
            "  inflating: /content/train_data/labels/train/nwm_0_143.txt  \n",
            "  inflating: /content/train_data/labels/train/nwm_0_145.txt  \n",
            "  inflating: /content/train_data/labels/train/nwm_0_146.txt  \n",
            "  inflating: /content/train_data/labels/train/nwm_0_147.txt  \n",
            "  inflating: /content/train_data/labels/train/nwm_0_149.txt  \n",
            "  inflating: /content/train_data/labels/train/nwm_0_15.txt  \n",
            "  inflating: /content/train_data/labels/train/nwm_0_16.txt  \n",
            "  inflating: /content/train_data/labels/train/nwm_0_17.txt  \n",
            "  inflating: /content/train_data/labels/train/nwm_0_2.txt  \n",
            "  inflating: /content/train_data/labels/train/nwm_0_20.txt  \n",
            "  inflating: /content/train_data/labels/train/nwm_0_21.txt  \n",
            "  inflating: /content/train_data/labels/train/nwm_0_22.txt  \n",
            "  inflating: /content/train_data/labels/train/nwm_0_23.txt  \n",
            "  inflating: /content/train_data/labels/train/nwm_0_24.txt  \n",
            "  inflating: /content/train_data/labels/train/nwm_0_31.txt  \n",
            "  inflating: /content/train_data/labels/train/nwm_0_33.txt  \n",
            "  inflating: /content/train_data/labels/train/nwm_0_36.txt  \n",
            "  inflating: /content/train_data/labels/train/nwm_0_38.txt  \n",
            "  inflating: /content/train_data/labels/train/nwm_0_39.txt  \n",
            "  inflating: /content/train_data/labels/train/nwm_0_4.txt  \n",
            "  inflating: /content/train_data/labels/train/nwm_0_42.txt  \n",
            "  inflating: /content/train_data/labels/train/nwm_0_43.txt  \n",
            "  inflating: /content/train_data/labels/train/nwm_0_44.txt  \n",
            "  inflating: /content/train_data/labels/train/nwm_0_45.txt  \n",
            "  inflating: /content/train_data/labels/train/nwm_0_48.txt  \n",
            "  inflating: /content/train_data/labels/train/nwm_0_5.txt  \n",
            "  inflating: /content/train_data/labels/train/nwm_0_50.txt  \n",
            "  inflating: /content/train_data/labels/train/nwm_0_56.txt  \n",
            "  inflating: /content/train_data/labels/train/nwm_0_58.txt  \n",
            "  inflating: /content/train_data/labels/train/nwm_0_6.txt  \n",
            "  inflating: /content/train_data/labels/train/nwm_0_63.txt  \n",
            "  inflating: /content/train_data/labels/train/nwm_0_66.txt  \n",
            "  inflating: /content/train_data/labels/train/nwm_0_68.txt  \n",
            "  inflating: /content/train_data/labels/train/nwm_0_7.txt  \n",
            "  inflating: /content/train_data/labels/train/nwm_0_70.txt  \n",
            "  inflating: /content/train_data/labels/train/nwm_0_71.txt  \n",
            "  inflating: /content/train_data/labels/train/nwm_0_72.txt  \n",
            "  inflating: /content/train_data/labels/train/nwm_0_76.txt  \n",
            "  inflating: /content/train_data/labels/train/nwm_0_8.txt  \n",
            "  inflating: /content/train_data/labels/train/nwm_0_84.txt  \n",
            "  inflating: /content/train_data/labels/train/nwm_0_87.txt  \n",
            "  inflating: /content/train_data/labels/train/nwm_0_88.txt  \n",
            "  inflating: /content/train_data/labels/train/nwm_1_0.txt  \n",
            "  inflating: /content/train_data/labels/train/nwm_1_1.txt  \n",
            "  inflating: /content/train_data/labels/train/nwm_1_100.txt  \n",
            "  inflating: /content/train_data/labels/train/nwm_1_11.txt  \n",
            "  inflating: /content/train_data/labels/train/nwm_1_12.txt  \n",
            "  inflating: /content/train_data/labels/train/nwm_1_16.txt  \n",
            "  inflating: /content/train_data/labels/train/nwm_1_17.txt  \n",
            "  inflating: /content/train_data/labels/train/nwm_1_18.txt  \n",
            "  inflating: /content/train_data/labels/train/nwm_1_19.txt  \n",
            "  inflating: /content/train_data/labels/train/nwm_1_22.txt  \n",
            "  inflating: /content/train_data/labels/train/nwm_1_23.txt  \n",
            "  inflating: /content/train_data/labels/train/nwm_1_25.txt  \n",
            "  inflating: /content/train_data/labels/train/nwm_1_27.txt  \n",
            "  inflating: /content/train_data/labels/train/nwm_1_29.txt  \n",
            "  inflating: /content/train_data/labels/train/nwm_1_3.txt  \n",
            "  inflating: /content/train_data/labels/train/nwm_1_30.txt  \n",
            "  inflating: /content/train_data/labels/train/nwm_1_31.txt  \n",
            "  inflating: /content/train_data/labels/train/nwm_1_33.txt  \n",
            "  inflating: /content/train_data/labels/train/nwm_1_35.txt  \n",
            "  inflating: /content/train_data/labels/train/nwm_1_36.txt  \n",
            "  inflating: /content/train_data/labels/train/nwm_1_37.txt  \n",
            "  inflating: /content/train_data/labels/train/nwm_1_39.txt  \n",
            "  inflating: /content/train_data/labels/train/nwm_1_4.txt  \n",
            "  inflating: /content/train_data/labels/train/nwm_1_40.txt  \n",
            "  inflating: /content/train_data/labels/train/nwm_1_42.txt  \n",
            "  inflating: /content/train_data/labels/train/nwm_1_45.txt  \n",
            "  inflating: /content/train_data/labels/train/nwm_1_47.txt  \n",
            "  inflating: /content/train_data/labels/train/nwm_1_48.txt  \n",
            "  inflating: /content/train_data/labels/train/nwm_1_49.txt  \n",
            "  inflating: /content/train_data/labels/train/nwm_1_5.txt  \n",
            "  inflating: /content/train_data/labels/train/nwm_1_51.txt  \n",
            "  inflating: /content/train_data/labels/train/nwm_1_52.txt  \n",
            "  inflating: /content/train_data/labels/train/nwm_1_54.txt  \n",
            "  inflating: /content/train_data/labels/train/nwm_1_58.txt  \n",
            "  inflating: /content/train_data/labels/train/nwm_1_60.txt  \n",
            "  inflating: /content/train_data/labels/train/nwm_1_61.txt  \n",
            "  inflating: /content/train_data/labels/train/nwm_1_63.txt  \n",
            "  inflating: /content/train_data/labels/train/nwm_1_64.txt  \n",
            "  inflating: /content/train_data/labels/train/nwm_1_69.txt  \n",
            "  inflating: /content/train_data/labels/train/nwm_1_73.txt  \n",
            "  inflating: /content/train_data/labels/train/nwm_1_80.txt  \n",
            "  inflating: /content/train_data/labels/train/nwm_1_82.txt  \n",
            "  inflating: /content/train_data/labels/train/nwm_1_84.txt  \n",
            "  inflating: /content/train_data/labels/train/nwm_1_86.txt  \n",
            "  inflating: /content/train_data/labels/train/nwm_1_9.txt  \n",
            "  inflating: /content/train_data/labels/train/nwm_1_90.txt  \n",
            "  inflating: /content/train_data/labels/train/nwm_1_91.txt  \n",
            "  inflating: /content/train_data/labels/train/nwm_1_94.txt  \n",
            "  inflating: /content/train_data/labels/train/nwm_1_95.txt  \n",
            "  inflating: /content/train_data/labels/train/nwm_1_96.txt  \n",
            "  inflating: /content/train_data/labels/train/nwm_1_99.txt  \n",
            "  inflating: /content/train_data/labels/train/nwm_2_0.txt  \n",
            "  inflating: /content/train_data/labels/train/nwm_2_1.txt  \n",
            "  inflating: /content/train_data/labels/train/nwm_2_10.txt  \n",
            "  inflating: /content/train_data/labels/train/nwm_2_100.txt  \n",
            "  inflating: /content/train_data/labels/train/nwm_2_102.txt  \n",
            "  inflating: /content/train_data/labels/train/nwm_2_103.txt  \n",
            "  inflating: /content/train_data/labels/train/nwm_2_104.txt  \n",
            "  inflating: /content/train_data/labels/train/nwm_2_106.txt  \n",
            "  inflating: /content/train_data/labels/train/nwm_2_107.txt  \n",
            "  inflating: /content/train_data/labels/train/nwm_2_108.txt  \n",
            "  inflating: /content/train_data/labels/train/nwm_2_12.txt  \n",
            "  inflating: /content/train_data/labels/train/nwm_2_13.txt  \n",
            "  inflating: /content/train_data/labels/train/nwm_2_14.txt  \n",
            "  inflating: /content/train_data/labels/train/nwm_2_16.txt  \n",
            "  inflating: /content/train_data/labels/train/nwm_2_17.txt  \n",
            "  inflating: /content/train_data/labels/train/nwm_2_18.txt  \n",
            "  inflating: /content/train_data/labels/train/nwm_2_19.txt  \n",
            "  inflating: /content/train_data/labels/train/nwm_2_20.txt  \n",
            "  inflating: /content/train_data/labels/train/nwm_2_22.txt  \n",
            "  inflating: /content/train_data/labels/train/nwm_2_23.txt  \n",
            "  inflating: /content/train_data/labels/train/nwm_2_24.txt  \n",
            "  inflating: /content/train_data/labels/train/nwm_2_25.txt  \n",
            "  inflating: /content/train_data/labels/train/nwm_2_26.txt  \n",
            "  inflating: /content/train_data/labels/train/nwm_2_28.txt  \n",
            "  inflating: /content/train_data/labels/train/nwm_2_29.txt  \n",
            "  inflating: /content/train_data/labels/train/nwm_2_3.txt  \n",
            "  inflating: /content/train_data/labels/train/nwm_2_31.txt  \n",
            "  inflating: /content/train_data/labels/train/nwm_2_32.txt  \n",
            "  inflating: /content/train_data/labels/train/nwm_2_33.txt  \n",
            "  inflating: /content/train_data/labels/train/nwm_2_34.txt  \n",
            "  inflating: /content/train_data/labels/train/nwm_2_35.txt  \n",
            "  inflating: /content/train_data/labels/train/nwm_2_36.txt  \n",
            "  inflating: /content/train_data/labels/train/nwm_2_37.txt  \n",
            "  inflating: /content/train_data/labels/train/nwm_2_38.txt  \n",
            "  inflating: /content/train_data/labels/train/nwm_2_40.txt  \n",
            "  inflating: /content/train_data/labels/train/nwm_2_46.txt  \n",
            "  inflating: /content/train_data/labels/train/nwm_2_48.txt  \n",
            "  inflating: /content/train_data/labels/train/nwm_2_49.txt  \n",
            "  inflating: /content/train_data/labels/train/nwm_2_5.txt  \n",
            "  inflating: /content/train_data/labels/train/nwm_2_50.txt  \n",
            "  inflating: /content/train_data/labels/train/nwm_2_54.txt  \n",
            "  inflating: /content/train_data/labels/train/nwm_2_55.txt  \n",
            "  inflating: /content/train_data/labels/train/nwm_2_57.txt  \n",
            "  inflating: /content/train_data/labels/train/nwm_2_6.txt  \n",
            "  inflating: /content/train_data/labels/train/nwm_2_66.txt  \n",
            "  inflating: /content/train_data/labels/train/nwm_2_68.txt  \n",
            "  inflating: /content/train_data/labels/train/nwm_2_7.txt  \n",
            "  inflating: /content/train_data/labels/train/nwm_2_72.txt  \n",
            "  inflating: /content/train_data/labels/train/nwm_2_74.txt  \n",
            "  inflating: /content/train_data/labels/train/nwm_2_76.txt  \n",
            "  inflating: /content/train_data/labels/train/nwm_2_77.txt  \n",
            "  inflating: /content/train_data/labels/train/nwm_2_78.txt  \n",
            "  inflating: /content/train_data/labels/train/nwm_2_79.txt  \n",
            "  inflating: /content/train_data/labels/train/nwm_2_8.txt  \n",
            "  inflating: /content/train_data/labels/train/nwm_2_80.txt  \n",
            "  inflating: /content/train_data/labels/train/nwm_2_82.txt  \n",
            "  inflating: /content/train_data/labels/train/nwm_2_83.txt  \n",
            "  inflating: /content/train_data/labels/train/nwm_2_86.txt  \n",
            "  inflating: /content/train_data/labels/train/nwm_2_87.txt  \n",
            "  inflating: /content/train_data/labels/train/nwm_2_89.txt  \n",
            "  inflating: /content/train_data/labels/train/nwm_2_9.txt  \n",
            "  inflating: /content/train_data/labels/train/nwm_2_90.txt  \n",
            "  inflating: /content/train_data/labels/train/nwm_2_92.txt  \n",
            "  inflating: /content/train_data/labels/train/nwm_2_93.txt  \n",
            "  inflating: /content/train_data/labels/train/nwm_2_97.txt  \n",
            "  inflating: /content/train_data/labels/train/nwm_2_98.txt  \n",
            "  inflating: /content/train_data/labels/train/nwm_2_99.txt  \n",
            "  inflating: /content/train_data/labels/train/nwm_3_0.txt  \n",
            "  inflating: /content/train_data/labels/train/nwm_3_100.txt  \n",
            "  inflating: /content/train_data/labels/train/nwm_3_11.txt  \n",
            "  inflating: /content/train_data/labels/train/nwm_3_13.txt  \n",
            "  inflating: /content/train_data/labels/train/nwm_3_14.txt  \n",
            "  inflating: /content/train_data/labels/train/nwm_3_18.txt  \n",
            "  inflating: /content/train_data/labels/train/nwm_3_2.txt  \n",
            "  inflating: /content/train_data/labels/train/nwm_3_20.txt  \n",
            "  inflating: /content/train_data/labels/train/nwm_3_21.txt  \n",
            "  inflating: /content/train_data/labels/train/nwm_3_22.txt  \n",
            "  inflating: /content/train_data/labels/train/nwm_3_23.txt  \n",
            "  inflating: /content/train_data/labels/train/nwm_3_24.txt  \n",
            "  inflating: /content/train_data/labels/train/nwm_3_25.txt  \n",
            "  inflating: /content/train_data/labels/train/nwm_3_27.txt  \n",
            "  inflating: /content/train_data/labels/train/nwm_3_28.txt  \n",
            "  inflating: /content/train_data/labels/train/nwm_3_30.txt  \n",
            "  inflating: /content/train_data/labels/train/nwm_3_31.txt  \n",
            "  inflating: /content/train_data/labels/train/nwm_3_32.txt  \n",
            "  inflating: /content/train_data/labels/train/nwm_3_33.txt  \n",
            "  inflating: /content/train_data/labels/train/nwm_3_36.txt  \n",
            "  inflating: /content/train_data/labels/train/nwm_3_4.txt  \n",
            "  inflating: /content/train_data/labels/train/nwm_3_40.txt  \n",
            "  inflating: /content/train_data/labels/train/nwm_3_48.txt  \n",
            "  inflating: /content/train_data/labels/train/nwm_3_52.txt  \n",
            "  inflating: /content/train_data/labels/train/nwm_3_57.txt  \n",
            "  inflating: /content/train_data/labels/train/nwm_3_63.txt  \n",
            "  inflating: /content/train_data/labels/train/nwm_3_64.txt  \n",
            "  inflating: /content/train_data/labels/train/nwm_3_65.txt  \n",
            "  inflating: /content/train_data/labels/train/nwm_3_67.txt  \n",
            "  inflating: /content/train_data/labels/train/nwm_3_68.txt  \n",
            "  inflating: /content/train_data/labels/train/nwm_3_69.txt  \n",
            "  inflating: /content/train_data/labels/train/nwm_3_73.txt  \n",
            "  inflating: /content/train_data/labels/train/nwm_3_75.txt  \n",
            "  inflating: /content/train_data/labels/train/nwm_3_79.txt  \n",
            "  inflating: /content/train_data/labels/train/nwm_3_80.txt  \n",
            "  inflating: /content/train_data/labels/train/nwm_3_83.txt  \n",
            "  inflating: /content/train_data/labels/train/nwm_3_88.txt  \n",
            "  inflating: /content/train_data/labels/train/nwm_3_91.txt  \n",
            "  inflating: /content/train_data/labels/train/nwm_3_92.txt  \n",
            "  inflating: /content/train_data/labels/train/nwm_3_95.txt  \n",
            "  inflating: /content/train_data/labels/train/nwm_3_96.txt  \n",
            "  inflating: /content/train_data/labels/train/nwm_3_97.txt  \n",
            "  inflating: /content/train_data/labels/train/nwm_3_98.txt  \n",
            "  inflating: /content/train_data/labels/train/nwm_3_99.txt  \n",
            "  inflating: /content/train_data/labels/train/nwm_4_0.txt  \n",
            "  inflating: /content/train_data/labels/train/nwm_4_104.txt  \n",
            "  inflating: /content/train_data/labels/train/nwm_4_11.txt  \n",
            "  inflating: /content/train_data/labels/train/nwm_4_110.txt  \n",
            "  inflating: /content/train_data/labels/train/nwm_4_113.txt  \n",
            "  inflating: /content/train_data/labels/train/nwm_4_114.txt  \n",
            "  inflating: /content/train_data/labels/train/nwm_4_12.txt  \n",
            "  inflating: /content/train_data/labels/train/nwm_4_14.txt  \n",
            "  inflating: /content/train_data/labels/train/nwm_4_15.txt  \n",
            "  inflating: /content/train_data/labels/train/nwm_4_16.txt  \n",
            "  inflating: /content/train_data/labels/train/nwm_4_18.txt  \n",
            "  inflating: /content/train_data/labels/train/nwm_4_22.txt  \n",
            "  inflating: /content/train_data/labels/train/nwm_4_23.txt  \n",
            "  inflating: /content/train_data/labels/train/nwm_4_24.txt  \n",
            "  inflating: /content/train_data/labels/train/nwm_4_26.txt  \n",
            "  inflating: /content/train_data/labels/train/nwm_4_27.txt  \n",
            "  inflating: /content/train_data/labels/train/nwm_4_28.txt  \n",
            "  inflating: /content/train_data/labels/train/nwm_4_3.txt  \n",
            "  inflating: /content/train_data/labels/train/nwm_4_30.txt  \n",
            "  inflating: /content/train_data/labels/train/nwm_4_31.txt  \n",
            "  inflating: /content/train_data/labels/train/nwm_4_32.txt  \n",
            "  inflating: /content/train_data/labels/train/nwm_4_33.txt  \n",
            "  inflating: /content/train_data/labels/train/nwm_4_36.txt  \n",
            "  inflating: /content/train_data/labels/train/nwm_4_37.txt  \n",
            "  inflating: /content/train_data/labels/train/nwm_4_38.txt  \n",
            "  inflating: /content/train_data/labels/train/nwm_4_39.txt  \n",
            "  inflating: /content/train_data/labels/train/nwm_4_40.txt  \n",
            "  inflating: /content/train_data/labels/train/nwm_4_41.txt  \n",
            "  inflating: /content/train_data/labels/train/nwm_4_42.txt  \n",
            "  inflating: /content/train_data/labels/train/nwm_4_48.txt  \n",
            "  inflating: /content/train_data/labels/train/nwm_4_53.txt  \n",
            "  inflating: /content/train_data/labels/train/nwm_4_56.txt  \n",
            "  inflating: /content/train_data/labels/train/nwm_4_57.txt  \n",
            "  inflating: /content/train_data/labels/train/nwm_4_59.txt  \n",
            "  inflating: /content/train_data/labels/train/nwm_4_6.txt  \n",
            "  inflating: /content/train_data/labels/train/nwm_4_61.txt  \n",
            "  inflating: /content/train_data/labels/train/nwm_4_62.txt  \n",
            "  inflating: /content/train_data/labels/train/nwm_4_65.txt  \n",
            "  inflating: /content/train_data/labels/train/nwm_4_67.txt  \n",
            "  inflating: /content/train_data/labels/train/nwm_4_69.txt  \n",
            "  inflating: /content/train_data/labels/train/nwm_4_7.txt  \n",
            "  inflating: /content/train_data/labels/train/nwm_4_71.txt  \n",
            "  inflating: /content/train_data/labels/train/nwm_4_74.txt  \n",
            "  inflating: /content/train_data/labels/train/nwm_4_76.txt  \n",
            "  inflating: /content/train_data/labels/train/nwm_4_89.txt  \n",
            "  inflating: /content/train_data/labels/train/nwm_4_96.txt  \n",
            "  inflating: /content/train_data/labels/train/nwm_5_10.txt  \n",
            "  inflating: /content/train_data/labels/train/nwm_5_100.txt  \n",
            "  inflating: /content/train_data/labels/train/nwm_5_119.txt  \n",
            "  inflating: /content/train_data/labels/train/nwm_5_12.txt  \n",
            "  inflating: /content/train_data/labels/train/nwm_5_122.txt  \n",
            "  inflating: /content/train_data/labels/train/nwm_5_125.txt  \n",
            "  inflating: /content/train_data/labels/train/nwm_5_126.txt  \n",
            "  inflating: /content/train_data/labels/train/nwm_5_13.txt  \n",
            "  inflating: /content/train_data/labels/train/nwm_5_133.txt  \n",
            "  inflating: /content/train_data/labels/train/nwm_5_138.txt  \n",
            "  inflating: /content/train_data/labels/train/nwm_5_14.txt  \n",
            "  inflating: /content/train_data/labels/train/nwm_5_140.txt  \n",
            "  inflating: /content/train_data/labels/train/nwm_5_143.txt  \n",
            "  inflating: /content/train_data/labels/train/nwm_5_149.txt  \n",
            "  inflating: /content/train_data/labels/train/nwm_5_15.txt  \n",
            "  inflating: /content/train_data/labels/train/nwm_5_153.txt  \n",
            "  inflating: /content/train_data/labels/train/nwm_5_155.txt  \n",
            "  inflating: /content/train_data/labels/train/nwm_5_157.txt  \n",
            "  inflating: /content/train_data/labels/train/nwm_5_162.txt  \n",
            "  inflating: /content/train_data/labels/train/nwm_5_17.txt  \n",
            "  inflating: /content/train_data/labels/train/nwm_5_183.txt  \n",
            "  inflating: /content/train_data/labels/train/nwm_5_185.txt  \n",
            "  inflating: /content/train_data/labels/train/nwm_5_19.txt  \n",
            "  inflating: /content/train_data/labels/train/nwm_5_192.txt  \n",
            "  inflating: /content/train_data/labels/train/nwm_5_194.txt  \n",
            "  inflating: /content/train_data/labels/train/nwm_5_195.txt  \n",
            "  inflating: /content/train_data/labels/train/nwm_5_2.txt  \n",
            "  inflating: /content/train_data/labels/train/nwm_5_20.txt  \n",
            "  inflating: /content/train_data/labels/train/nwm_5_200.txt  \n",
            "  inflating: /content/train_data/labels/train/nwm_5_203.txt  \n",
            "  inflating: /content/train_data/labels/train/nwm_5_204.txt  \n",
            "  inflating: /content/train_data/labels/train/nwm_5_205.txt  \n",
            "  inflating: /content/train_data/labels/train/nwm_5_206.txt  \n",
            "  inflating: /content/train_data/labels/train/nwm_5_207.txt  \n",
            "  inflating: /content/train_data/labels/train/nwm_5_208.txt  \n",
            "  inflating: /content/train_data/labels/train/nwm_5_210.txt  \n",
            "  inflating: /content/train_data/labels/train/nwm_5_213.txt  \n",
            "  inflating: /content/train_data/labels/train/nwm_5_214.txt  \n",
            "  inflating: /content/train_data/labels/train/nwm_5_216.txt  \n",
            "  inflating: /content/train_data/labels/train/nwm_5_218.txt  \n",
            "  inflating: /content/train_data/labels/train/nwm_5_22.txt  \n",
            "  inflating: /content/train_data/labels/train/nwm_5_24.txt  \n",
            "  inflating: /content/train_data/labels/train/nwm_5_25.txt  \n",
            "  inflating: /content/train_data/labels/train/nwm_5_26.txt  \n",
            "  inflating: /content/train_data/labels/train/road90_0_0.txt  \n",
            "  inflating: /content/train_data/labels/train/road90_0_10.txt  \n",
            "  inflating: /content/train_data/labels/train/road90_0_103.txt  \n",
            "  inflating: /content/train_data/labels/train/road90_0_112.txt  \n",
            "  inflating: /content/train_data/labels/train/road90_0_117.txt  \n",
            "  inflating: /content/train_data/labels/train/road90_0_12.txt  \n",
            "  inflating: /content/train_data/labels/train/road90_0_121.txt  \n",
            "  inflating: /content/train_data/labels/train/road90_0_125.txt  \n",
            "  inflating: /content/train_data/labels/train/road90_0_126.txt  \n",
            "  inflating: /content/train_data/labels/train/road90_0_128.txt  \n",
            "  inflating: /content/train_data/labels/train/road90_0_13.txt  \n",
            "  inflating: /content/train_data/labels/train/road90_0_132.txt  \n",
            "  inflating: /content/train_data/labels/train/road90_0_133.txt  \n",
            "  inflating: /content/train_data/labels/train/road90_0_135.txt  \n",
            "  inflating: /content/train_data/labels/train/road90_0_138.txt  \n",
            "  inflating: /content/train_data/labels/train/road90_0_14.txt  \n",
            "  inflating: /content/train_data/labels/train/road90_0_143.txt  \n",
            "  inflating: /content/train_data/labels/train/road90_0_144.txt  \n",
            "  inflating: /content/train_data/labels/train/road90_0_148.txt  \n",
            "  inflating: /content/train_data/labels/train/road90_0_15.txt  \n",
            "  inflating: /content/train_data/labels/train/road90_0_155.txt  \n",
            "  inflating: /content/train_data/labels/train/road90_0_158.txt  \n",
            "  inflating: /content/train_data/labels/train/road90_0_160.txt  \n",
            "  inflating: /content/train_data/labels/train/road90_0_164.txt  \n",
            "  inflating: /content/train_data/labels/train/road90_0_166.txt  \n",
            "  inflating: /content/train_data/labels/train/road90_0_168.txt  \n",
            "  inflating: /content/train_data/labels/train/road90_0_17.txt  \n",
            "  inflating: /content/train_data/labels/train/road90_0_177.txt  \n",
            "  inflating: /content/train_data/labels/train/road90_0_181.txt  \n",
            "  inflating: /content/train_data/labels/train/road90_0_182.txt  \n",
            "  inflating: /content/train_data/labels/train/road90_0_183.txt  \n",
            "  inflating: /content/train_data/labels/train/road90_0_184.txt  \n",
            "  inflating: /content/train_data/labels/train/road90_0_188.txt  \n",
            "  inflating: /content/train_data/labels/train/road90_0_193.txt  \n",
            "  inflating: /content/train_data/labels/train/road90_0_2.txt  \n",
            "  inflating: /content/train_data/labels/train/road90_0_20.txt  \n",
            "  inflating: /content/train_data/labels/train/road90_0_200.txt  \n",
            "  inflating: /content/train_data/labels/train/road90_0_201.txt  \n",
            "  inflating: /content/train_data/labels/train/road90_0_204.txt  \n",
            "  inflating: /content/train_data/labels/train/road90_0_208.txt  \n",
            "  inflating: /content/train_data/labels/train/road90_0_209.txt  \n",
            "  inflating: /content/train_data/labels/train/road90_0_21.txt  \n",
            "  inflating: /content/train_data/labels/train/road90_0_210.txt  \n",
            "  inflating: /content/train_data/labels/train/road90_0_211.txt  \n",
            "  inflating: /content/train_data/labels/train/road90_0_212.txt  \n",
            "  inflating: /content/train_data/labels/train/road90_0_213.txt  \n",
            "  inflating: /content/train_data/labels/train/road90_0_214.txt  \n",
            "  inflating: /content/train_data/labels/train/road90_0_215.txt  \n",
            "  inflating: /content/train_data/labels/train/road90_0_216.txt  \n",
            "  inflating: /content/train_data/labels/train/road90_0_217.txt  \n",
            "  inflating: /content/train_data/labels/train/road90_0_219.txt  \n",
            "  inflating: /content/train_data/labels/train/road90_0_22.txt  \n",
            "  inflating: /content/train_data/labels/train/road90_0_220.txt  \n",
            "  inflating: /content/train_data/labels/train/road90_0_222.txt  \n",
            "  inflating: /content/train_data/labels/train/road90_0_223.txt  \n",
            "  inflating: /content/train_data/labels/train/road90_0_224.txt  \n",
            "  inflating: /content/train_data/labels/train/road90_0_225.txt  \n",
            "  inflating: /content/train_data/labels/train/road90_0_226.txt  \n",
            "  inflating: /content/train_data/labels/train/road90_0_228.txt  \n",
            "  inflating: /content/train_data/labels/train/road90_0_229.txt  \n",
            "  inflating: /content/train_data/labels/train/road90_0_230.txt  \n",
            "  inflating: /content/train_data/labels/train/road90_0_231.txt  \n",
            "  inflating: /content/train_data/labels/train/road90_0_233.txt  \n",
            "  inflating: /content/train_data/labels/train/road90_0_234.txt  \n",
            "  inflating: /content/train_data/labels/train/road90_0_235.txt  \n",
            "  inflating: /content/train_data/labels/train/road90_0_236.txt  \n",
            "  inflating: /content/train_data/labels/train/road90_0_237.txt  \n",
            "  inflating: /content/train_data/labels/train/road90_0_24.txt  \n",
            "  inflating: /content/train_data/labels/train/road90_0_240.txt  \n",
            "  inflating: /content/train_data/labels/train/road90_0_243.txt  \n",
            "  inflating: /content/train_data/labels/train/road90_0_244.txt  \n",
            "  inflating: /content/train_data/labels/train/road90_0_25.txt  \n",
            "  inflating: /content/train_data/labels/train/road90_0_26.txt  \n",
            "  inflating: /content/train_data/labels/train/road90_0_28.txt  \n",
            "  inflating: /content/train_data/labels/train/road90_0_29.txt  \n",
            "  inflating: /content/train_data/labels/train/road90_0_3.txt  \n",
            "  inflating: /content/train_data/labels/train/road90_0_30.txt  \n",
            "  inflating: /content/train_data/labels/train/road90_0_31.txt  \n",
            "  inflating: /content/train_data/labels/train/road90_0_33.txt  \n",
            "  inflating: /content/train_data/labels/train/road90_0_34.txt  \n",
            "  inflating: /content/train_data/labels/train/road90_0_36.txt  \n",
            "  inflating: /content/train_data/labels/train/road90_0_37.txt  \n",
            "  inflating: /content/train_data/labels/train/road90_0_38.txt  \n",
            "  inflating: /content/train_data/labels/train/road90_0_4.txt  \n",
            "  inflating: /content/train_data/labels/train/road90_0_44.txt  \n",
            "  inflating: /content/train_data/labels/train/road90_0_47.txt  \n",
            "  inflating: /content/train_data/labels/train/road90_0_49.txt  \n",
            "  inflating: /content/train_data/labels/train/road90_0_5.txt  \n",
            "  inflating: /content/train_data/labels/train/road90_0_50.txt  \n",
            "  inflating: /content/train_data/labels/train/road90_0_52.txt  \n",
            "  inflating: /content/train_data/labels/train/road90_0_59.txt  \n",
            "  inflating: /content/train_data/labels/train/road90_0_60.txt  \n",
            "  inflating: /content/train_data/labels/train/road90_0_61.txt  \n",
            "  inflating: /content/train_data/labels/train/road90_0_66.txt  \n",
            "  inflating: /content/train_data/labels/train/road90_0_72.txt  \n",
            "  inflating: /content/train_data/labels/train/road90_0_8.txt  \n",
            "  inflating: /content/train_data/labels/train/road90_0_83.txt  \n",
            "  inflating: /content/train_data/labels/train/road90_0_92.txt  \n",
            "  inflating: /content/train_data/labels/train/road90_0_93.txt  \n",
            "  inflating: /content/train_data/labels/train/road90_0_96.txt  \n",
            "  inflating: /content/train_data/labels/train/road90_0_98.txt  \n",
            "   creating: /content/train_data/labels/val/\n",
            "  inflating: /content/train_data/labels/val/classes.txt  \n",
            "  inflating: /content/train_data/labels/val/nwm_5_29.txt  \n",
            "  inflating: /content/train_data/labels/val/nwm_5_3.txt  \n",
            "  inflating: /content/train_data/labels/val/nwm_5_30.txt  \n",
            "  inflating: /content/train_data/labels/val/nwm_5_33.txt  \n",
            "  inflating: /content/train_data/labels/val/nwm_5_36.txt  \n",
            "  inflating: /content/train_data/labels/val/nwm_5_37.txt  \n",
            "  inflating: /content/train_data/labels/val/nwm_5_38.txt  \n",
            "  inflating: /content/train_data/labels/val/nwm_5_39.txt  \n",
            "  inflating: /content/train_data/labels/val/nwm_5_41.txt  \n",
            "  inflating: /content/train_data/labels/val/nwm_5_43.txt  \n",
            "  inflating: /content/train_data/labels/val/nwm_5_44.txt  \n",
            "  inflating: /content/train_data/labels/val/nwm_5_45.txt  \n",
            "  inflating: /content/train_data/labels/val/nwm_5_46.txt  \n",
            "  inflating: /content/train_data/labels/val/nwm_5_47.txt  \n",
            "  inflating: /content/train_data/labels/val/nwm_5_48.txt  \n",
            "  inflating: /content/train_data/labels/val/nwm_5_52.txt  \n",
            "  inflating: /content/train_data/labels/val/nwm_5_56.txt  \n",
            "  inflating: /content/train_data/labels/val/nwm_5_57.txt  \n",
            "  inflating: /content/train_data/labels/val/nwm_5_61.txt  \n",
            "  inflating: /content/train_data/labels/val/nwm_5_7.txt  \n",
            "  inflating: /content/train_data/labels/val/nwm_5_70.txt  \n",
            "  inflating: /content/train_data/labels/val/nwm_5_76.txt  \n",
            "  inflating: /content/train_data/labels/val/nwm_5_78.txt  \n",
            "  inflating: /content/train_data/labels/val/nwm_5_86.txt  \n",
            "  inflating: /content/train_data/labels/val/nwm_5_87.txt  \n",
            "  inflating: /content/train_data/labels/val/nwm_5_9.txt  \n"
          ]
        }
      ]
    },
    {
      "cell_type": "code",
      "source": [
        "!pip install ultralytics==8.3.89 sahi==0.11.22"
      ],
      "metadata": {
        "colab": {
          "base_uri": "https://localhost:8080/"
        },
        "id": "Z4gcejapdQvu",
        "outputId": "d0f66947-a492-4be3-af23-8618c38254c4"
      },
      "execution_count": null,
      "outputs": [
        {
          "output_type": "stream",
          "name": "stdout",
          "text": [
            "Collecting ultralytics==8.3.89\n",
            "  Downloading ultralytics-8.3.89-py3-none-any.whl.metadata (35 kB)\n",
            "Collecting sahi==0.11.22\n",
            "  Downloading sahi-0.11.22-py3-none-any.whl.metadata (17 kB)\n",
            "Requirement already satisfied: numpy<=2.1.1,>=1.23.0 in /usr/local/lib/python3.11/dist-packages (from ultralytics==8.3.89) (2.0.2)\n",
            "Requirement already satisfied: matplotlib>=3.3.0 in /usr/local/lib/python3.11/dist-packages (from ultralytics==8.3.89) (3.10.0)\n",
            "Requirement already satisfied: opencv-python>=4.6.0 in /usr/local/lib/python3.11/dist-packages (from ultralytics==8.3.89) (4.11.0.86)\n",
            "Requirement already satisfied: pillow>=7.1.2 in /usr/local/lib/python3.11/dist-packages (from ultralytics==8.3.89) (11.2.1)\n",
            "Requirement already satisfied: pyyaml>=5.3.1 in /usr/local/lib/python3.11/dist-packages (from ultralytics==8.3.89) (6.0.2)\n",
            "Requirement already satisfied: requests>=2.23.0 in /usr/local/lib/python3.11/dist-packages (from ultralytics==8.3.89) (2.32.3)\n",
            "Requirement already satisfied: scipy>=1.4.1 in /usr/local/lib/python3.11/dist-packages (from ultralytics==8.3.89) (1.15.2)\n",
            "Requirement already satisfied: torch>=1.8.0 in /usr/local/lib/python3.11/dist-packages (from ultralytics==8.3.89) (2.6.0+cu124)\n",
            "Requirement already satisfied: torchvision>=0.9.0 in /usr/local/lib/python3.11/dist-packages (from ultralytics==8.3.89) (0.21.0+cu124)\n",
            "Requirement already satisfied: tqdm>=4.64.0 in /usr/local/lib/python3.11/dist-packages (from ultralytics==8.3.89) (4.67.1)\n",
            "Requirement already satisfied: psutil in /usr/local/lib/python3.11/dist-packages (from ultralytics==8.3.89) (5.9.5)\n",
            "Requirement already satisfied: py-cpuinfo in /usr/local/lib/python3.11/dist-packages (from ultralytics==8.3.89) (9.0.0)\n",
            "Requirement already satisfied: pandas>=1.1.4 in /usr/local/lib/python3.11/dist-packages (from ultralytics==8.3.89) (2.2.2)\n",
            "Requirement already satisfied: seaborn>=0.11.0 in /usr/local/lib/python3.11/dist-packages (from ultralytics==8.3.89) (0.13.2)\n",
            "Collecting ultralytics-thop>=2.0.0 (from ultralytics==8.3.89)\n",
            "  Downloading ultralytics_thop-2.0.14-py3-none-any.whl.metadata (9.4 kB)\n",
            "Requirement already satisfied: click in /usr/local/lib/python3.11/dist-packages (from sahi==0.11.22) (8.1.8)\n",
            "Collecting fire (from sahi==0.11.22)\n",
            "  Downloading fire-0.7.0.tar.gz (87 kB)\n",
            "\u001b[2K     \u001b[90m━━━━━━━━━━━━━━━━━━━━━━━━━━━━━━━━━━━━━━━━\u001b[0m \u001b[32m87.2/87.2 kB\u001b[0m \u001b[31m5.9 MB/s\u001b[0m eta \u001b[36m0:00:00\u001b[0m\n",
            "\u001b[?25h  Preparing metadata (setup.py) ... \u001b[?25l\u001b[?25hdone\n",
            "Collecting opencv-python>=4.6.0 (from ultralytics==8.3.89)\n",
            "  Downloading opencv_python-4.10.0.84-cp37-abi3-manylinux_2_17_x86_64.manylinux2014_x86_64.whl.metadata (20 kB)\n",
            "Collecting pybboxes==0.1.6 (from sahi==0.11.22)\n",
            "  Downloading pybboxes-0.1.6-py3-none-any.whl.metadata (9.9 kB)\n",
            "Requirement already satisfied: shapely>=2.0.0 in /usr/local/lib/python3.11/dist-packages (from sahi==0.11.22) (2.1.0)\n",
            "Collecting terminaltables (from sahi==0.11.22)\n",
            "  Downloading terminaltables-3.1.10-py2.py3-none-any.whl.metadata (3.5 kB)\n",
            "Requirement already satisfied: contourpy>=1.0.1 in /usr/local/lib/python3.11/dist-packages (from matplotlib>=3.3.0->ultralytics==8.3.89) (1.3.2)\n",
            "Requirement already satisfied: cycler>=0.10 in /usr/local/lib/python3.11/dist-packages (from matplotlib>=3.3.0->ultralytics==8.3.89) (0.12.1)\n",
            "Requirement already satisfied: fonttools>=4.22.0 in /usr/local/lib/python3.11/dist-packages (from matplotlib>=3.3.0->ultralytics==8.3.89) (4.57.0)\n",
            "Requirement already satisfied: kiwisolver>=1.3.1 in /usr/local/lib/python3.11/dist-packages (from matplotlib>=3.3.0->ultralytics==8.3.89) (1.4.8)\n",
            "Requirement already satisfied: packaging>=20.0 in /usr/local/lib/python3.11/dist-packages (from matplotlib>=3.3.0->ultralytics==8.3.89) (24.2)\n",
            "Requirement already satisfied: pyparsing>=2.3.1 in /usr/local/lib/python3.11/dist-packages (from matplotlib>=3.3.0->ultralytics==8.3.89) (3.2.3)\n",
            "Requirement already satisfied: python-dateutil>=2.7 in /usr/local/lib/python3.11/dist-packages (from matplotlib>=3.3.0->ultralytics==8.3.89) (2.9.0.post0)\n",
            "Requirement already satisfied: pytz>=2020.1 in /usr/local/lib/python3.11/dist-packages (from pandas>=1.1.4->ultralytics==8.3.89) (2025.2)\n",
            "Requirement already satisfied: tzdata>=2022.7 in /usr/local/lib/python3.11/dist-packages (from pandas>=1.1.4->ultralytics==8.3.89) (2025.2)\n",
            "Requirement already satisfied: charset-normalizer<4,>=2 in /usr/local/lib/python3.11/dist-packages (from requests>=2.23.0->ultralytics==8.3.89) (3.4.1)\n",
            "Requirement already satisfied: idna<4,>=2.5 in /usr/local/lib/python3.11/dist-packages (from requests>=2.23.0->ultralytics==8.3.89) (3.10)\n",
            "Requirement already satisfied: urllib3<3,>=1.21.1 in /usr/local/lib/python3.11/dist-packages (from requests>=2.23.0->ultralytics==8.3.89) (2.4.0)\n",
            "Requirement already satisfied: certifi>=2017.4.17 in /usr/local/lib/python3.11/dist-packages (from requests>=2.23.0->ultralytics==8.3.89) (2025.4.26)\n",
            "Requirement already satisfied: filelock in /usr/local/lib/python3.11/dist-packages (from torch>=1.8.0->ultralytics==8.3.89) (3.18.0)\n",
            "Requirement already satisfied: typing-extensions>=4.10.0 in /usr/local/lib/python3.11/dist-packages (from torch>=1.8.0->ultralytics==8.3.89) (4.13.2)\n",
            "Requirement already satisfied: networkx in /usr/local/lib/python3.11/dist-packages (from torch>=1.8.0->ultralytics==8.3.89) (3.4.2)\n",
            "Requirement already satisfied: jinja2 in /usr/local/lib/python3.11/dist-packages (from torch>=1.8.0->ultralytics==8.3.89) (3.1.6)\n",
            "Requirement already satisfied: fsspec in /usr/local/lib/python3.11/dist-packages (from torch>=1.8.0->ultralytics==8.3.89) (2025.3.2)\n",
            "Collecting nvidia-cuda-nvrtc-cu12==12.4.127 (from torch>=1.8.0->ultralytics==8.3.89)\n",
            "  Downloading nvidia_cuda_nvrtc_cu12-12.4.127-py3-none-manylinux2014_x86_64.whl.metadata (1.5 kB)\n",
            "Collecting nvidia-cuda-runtime-cu12==12.4.127 (from torch>=1.8.0->ultralytics==8.3.89)\n",
            "  Downloading nvidia_cuda_runtime_cu12-12.4.127-py3-none-manylinux2014_x86_64.whl.metadata (1.5 kB)\n",
            "Collecting nvidia-cuda-cupti-cu12==12.4.127 (from torch>=1.8.0->ultralytics==8.3.89)\n",
            "  Downloading nvidia_cuda_cupti_cu12-12.4.127-py3-none-manylinux2014_x86_64.whl.metadata (1.6 kB)\n",
            "Collecting nvidia-cudnn-cu12==9.1.0.70 (from torch>=1.8.0->ultralytics==8.3.89)\n",
            "  Downloading nvidia_cudnn_cu12-9.1.0.70-py3-none-manylinux2014_x86_64.whl.metadata (1.6 kB)\n",
            "Collecting nvidia-cublas-cu12==12.4.5.8 (from torch>=1.8.0->ultralytics==8.3.89)\n",
            "  Downloading nvidia_cublas_cu12-12.4.5.8-py3-none-manylinux2014_x86_64.whl.metadata (1.5 kB)\n",
            "Collecting nvidia-cufft-cu12==11.2.1.3 (from torch>=1.8.0->ultralytics==8.3.89)\n",
            "  Downloading nvidia_cufft_cu12-11.2.1.3-py3-none-manylinux2014_x86_64.whl.metadata (1.5 kB)\n",
            "Collecting nvidia-curand-cu12==10.3.5.147 (from torch>=1.8.0->ultralytics==8.3.89)\n",
            "  Downloading nvidia_curand_cu12-10.3.5.147-py3-none-manylinux2014_x86_64.whl.metadata (1.5 kB)\n",
            "Collecting nvidia-cusolver-cu12==11.6.1.9 (from torch>=1.8.0->ultralytics==8.3.89)\n",
            "  Downloading nvidia_cusolver_cu12-11.6.1.9-py3-none-manylinux2014_x86_64.whl.metadata (1.6 kB)\n",
            "Collecting nvidia-cusparse-cu12==12.3.1.170 (from torch>=1.8.0->ultralytics==8.3.89)\n",
            "  Downloading nvidia_cusparse_cu12-12.3.1.170-py3-none-manylinux2014_x86_64.whl.metadata (1.6 kB)\n",
            "Requirement already satisfied: nvidia-cusparselt-cu12==0.6.2 in /usr/local/lib/python3.11/dist-packages (from torch>=1.8.0->ultralytics==8.3.89) (0.6.2)\n",
            "Requirement already satisfied: nvidia-nccl-cu12==2.21.5 in /usr/local/lib/python3.11/dist-packages (from torch>=1.8.0->ultralytics==8.3.89) (2.21.5)\n",
            "Requirement already satisfied: nvidia-nvtx-cu12==12.4.127 in /usr/local/lib/python3.11/dist-packages (from torch>=1.8.0->ultralytics==8.3.89) (12.4.127)\n",
            "Collecting nvidia-nvjitlink-cu12==12.4.127 (from torch>=1.8.0->ultralytics==8.3.89)\n",
            "  Downloading nvidia_nvjitlink_cu12-12.4.127-py3-none-manylinux2014_x86_64.whl.metadata (1.5 kB)\n",
            "Requirement already satisfied: triton==3.2.0 in /usr/local/lib/python3.11/dist-packages (from torch>=1.8.0->ultralytics==8.3.89) (3.2.0)\n",
            "Requirement already satisfied: sympy==1.13.1 in /usr/local/lib/python3.11/dist-packages (from torch>=1.8.0->ultralytics==8.3.89) (1.13.1)\n",
            "Requirement already satisfied: mpmath<1.4,>=1.1.0 in /usr/local/lib/python3.11/dist-packages (from sympy==1.13.1->torch>=1.8.0->ultralytics==8.3.89) (1.3.0)\n",
            "Requirement already satisfied: termcolor in /usr/local/lib/python3.11/dist-packages (from fire->sahi==0.11.22) (3.1.0)\n",
            "Requirement already satisfied: six>=1.5 in /usr/local/lib/python3.11/dist-packages (from python-dateutil>=2.7->matplotlib>=3.3.0->ultralytics==8.3.89) (1.17.0)\n",
            "Requirement already satisfied: MarkupSafe>=2.0 in /usr/local/lib/python3.11/dist-packages (from jinja2->torch>=1.8.0->ultralytics==8.3.89) (3.0.2)\n",
            "Downloading ultralytics-8.3.89-py3-none-any.whl (932 kB)\n",
            "\u001b[2K   \u001b[90m━━━━━━━━━━━━━━━━━━━━━━━━━━━━━━━━━━━━━━━━\u001b[0m \u001b[32m932.6/932.6 kB\u001b[0m \u001b[31m33.6 MB/s\u001b[0m eta \u001b[36m0:00:00\u001b[0m\n",
            "\u001b[?25hDownloading sahi-0.11.22-py3-none-any.whl (114 kB)\n",
            "\u001b[2K   \u001b[90m━━━━━━━━━━━━━━━━━━━━━━━━━━━━━━━━━━━━━━━━\u001b[0m \u001b[32m114.2/114.2 kB\u001b[0m \u001b[31m12.0 MB/s\u001b[0m eta \u001b[36m0:00:00\u001b[0m\n",
            "\u001b[?25hDownloading pybboxes-0.1.6-py3-none-any.whl (24 kB)\n",
            "Downloading opencv_python-4.10.0.84-cp37-abi3-manylinux_2_17_x86_64.manylinux2014_x86_64.whl (62.5 MB)\n",
            "\u001b[2K   \u001b[90m━━━━━━━━━━━━━━━━━━━━━━━━━━━━━━━━━━━━━━━━\u001b[0m \u001b[32m62.5/62.5 MB\u001b[0m \u001b[31m15.1 MB/s\u001b[0m eta \u001b[36m0:00:00\u001b[0m\n",
            "\u001b[?25hDownloading nvidia_cublas_cu12-12.4.5.8-py3-none-manylinux2014_x86_64.whl (363.4 MB)\n",
            "\u001b[2K   \u001b[90m━━━━━━━━━━━━━━━━━━━━━━━━━━━━━━━━━━━━━━━━\u001b[0m \u001b[32m363.4/363.4 MB\u001b[0m \u001b[31m3.9 MB/s\u001b[0m eta \u001b[36m0:00:00\u001b[0m\n",
            "\u001b[?25hDownloading nvidia_cuda_cupti_cu12-12.4.127-py3-none-manylinux2014_x86_64.whl (13.8 MB)\n",
            "\u001b[2K   \u001b[90m━━━━━━━━━━━━━━━━━━━━━━━━━━━━━━━━━━━━━━━━\u001b[0m \u001b[32m13.8/13.8 MB\u001b[0m \u001b[31m92.7 MB/s\u001b[0m eta \u001b[36m0:00:00\u001b[0m\n",
            "\u001b[?25hDownloading nvidia_cuda_nvrtc_cu12-12.4.127-py3-none-manylinux2014_x86_64.whl (24.6 MB)\n",
            "\u001b[2K   \u001b[90m━━━━━━━━━━━━━━━━━━━━━━━━━━━━━━━━━━━━━━━━\u001b[0m \u001b[32m24.6/24.6 MB\u001b[0m \u001b[31m64.4 MB/s\u001b[0m eta \u001b[36m0:00:00\u001b[0m\n",
            "\u001b[?25hDownloading nvidia_cuda_runtime_cu12-12.4.127-py3-none-manylinux2014_x86_64.whl (883 kB)\n",
            "\u001b[2K   \u001b[90m━━━━━━━━━━━━━━━━━━━━━━━━━━━━━━━━━━━━━━━━\u001b[0m \u001b[32m883.7/883.7 kB\u001b[0m \u001b[31m55.7 MB/s\u001b[0m eta \u001b[36m0:00:00\u001b[0m\n",
            "\u001b[?25hDownloading nvidia_cudnn_cu12-9.1.0.70-py3-none-manylinux2014_x86_64.whl (664.8 MB)\n",
            "\u001b[2K   \u001b[90m━━━━━━━━━━━━━━━━━━━━━━━━━━━━━━━━━━━━━━━━\u001b[0m \u001b[32m664.8/664.8 MB\u001b[0m \u001b[31m2.8 MB/s\u001b[0m eta \u001b[36m0:00:00\u001b[0m\n",
            "\u001b[?25hDownloading nvidia_cufft_cu12-11.2.1.3-py3-none-manylinux2014_x86_64.whl (211.5 MB)\n",
            "\u001b[2K   \u001b[90m━━━━━━━━━━━━━━━━━━━━━━━━━━━━━━━━━━━━━━━━\u001b[0m \u001b[32m211.5/211.5 MB\u001b[0m \u001b[31m5.6 MB/s\u001b[0m eta \u001b[36m0:00:00\u001b[0m\n",
            "\u001b[?25hDownloading nvidia_curand_cu12-10.3.5.147-py3-none-manylinux2014_x86_64.whl (56.3 MB)\n",
            "\u001b[2K   \u001b[90m━━━━━━━━━━━━━━━━━━━━━━━━━━━━━━━━━━━━━━━━\u001b[0m \u001b[32m56.3/56.3 MB\u001b[0m \u001b[31m14.3 MB/s\u001b[0m eta \u001b[36m0:00:00\u001b[0m\n",
            "\u001b[?25hDownloading nvidia_cusolver_cu12-11.6.1.9-py3-none-manylinux2014_x86_64.whl (127.9 MB)\n",
            "\u001b[2K   \u001b[90m━━━━━━━━━━━━━━━━━━━━━━━━━━━━━━━━━━━━━━━━\u001b[0m \u001b[32m127.9/127.9 MB\u001b[0m \u001b[31m8.5 MB/s\u001b[0m eta \u001b[36m0:00:00\u001b[0m\n",
            "\u001b[?25hDownloading nvidia_cusparse_cu12-12.3.1.170-py3-none-manylinux2014_x86_64.whl (207.5 MB)\n",
            "\u001b[2K   \u001b[90m━━━━━━━━━━━━━━━━━━━━━━━━━━━━━━━━━━━━━━━━\u001b[0m \u001b[32m207.5/207.5 MB\u001b[0m \u001b[31m6.6 MB/s\u001b[0m eta \u001b[36m0:00:00\u001b[0m\n",
            "\u001b[?25hDownloading nvidia_nvjitlink_cu12-12.4.127-py3-none-manylinux2014_x86_64.whl (21.1 MB)\n",
            "\u001b[2K   \u001b[90m━━━━━━━━━━━━━━━━━━━━━━━━━━━━━━━━━━━━━━━━\u001b[0m \u001b[32m21.1/21.1 MB\u001b[0m \u001b[31m58.5 MB/s\u001b[0m eta \u001b[36m0:00:00\u001b[0m\n",
            "\u001b[?25hDownloading ultralytics_thop-2.0.14-py3-none-any.whl (26 kB)\n",
            "Downloading terminaltables-3.1.10-py2.py3-none-any.whl (15 kB)\n",
            "Building wheels for collected packages: fire\n",
            "  Building wheel for fire (setup.py) ... \u001b[?25l\u001b[?25hdone\n",
            "  Created wheel for fire: filename=fire-0.7.0-py3-none-any.whl size=114249 sha256=39d10ebb6d3b29671a95262cdc2bec0b166e044fef7b2e2c3abda43707de2bc8\n",
            "  Stored in directory: /root/.cache/pip/wheels/46/54/24/1624fd5b8674eb1188623f7e8e17cdf7c0f6c24b609dfb8a89\n",
            "Successfully built fire\n",
            "Installing collected packages: terminaltables, pybboxes, opencv-python, nvidia-nvjitlink-cu12, nvidia-curand-cu12, nvidia-cufft-cu12, nvidia-cuda-runtime-cu12, nvidia-cuda-nvrtc-cu12, nvidia-cuda-cupti-cu12, nvidia-cublas-cu12, fire, sahi, nvidia-cusparse-cu12, nvidia-cudnn-cu12, nvidia-cusolver-cu12, ultralytics-thop, ultralytics\n",
            "  Attempting uninstall: opencv-python\n",
            "    Found existing installation: opencv-python 4.11.0.86\n",
            "    Uninstalling opencv-python-4.11.0.86:\n",
            "      Successfully uninstalled opencv-python-4.11.0.86\n",
            "  Attempting uninstall: nvidia-nvjitlink-cu12\n",
            "    Found existing installation: nvidia-nvjitlink-cu12 12.5.82\n",
            "    Uninstalling nvidia-nvjitlink-cu12-12.5.82:\n",
            "      Successfully uninstalled nvidia-nvjitlink-cu12-12.5.82\n",
            "  Attempting uninstall: nvidia-curand-cu12\n",
            "    Found existing installation: nvidia-curand-cu12 10.3.6.82\n",
            "    Uninstalling nvidia-curand-cu12-10.3.6.82:\n",
            "      Successfully uninstalled nvidia-curand-cu12-10.3.6.82\n",
            "  Attempting uninstall: nvidia-cufft-cu12\n",
            "    Found existing installation: nvidia-cufft-cu12 11.2.3.61\n",
            "    Uninstalling nvidia-cufft-cu12-11.2.3.61:\n",
            "      Successfully uninstalled nvidia-cufft-cu12-11.2.3.61\n",
            "  Attempting uninstall: nvidia-cuda-runtime-cu12\n",
            "    Found existing installation: nvidia-cuda-runtime-cu12 12.5.82\n",
            "    Uninstalling nvidia-cuda-runtime-cu12-12.5.82:\n",
            "      Successfully uninstalled nvidia-cuda-runtime-cu12-12.5.82\n",
            "  Attempting uninstall: nvidia-cuda-nvrtc-cu12\n",
            "    Found existing installation: nvidia-cuda-nvrtc-cu12 12.5.82\n",
            "    Uninstalling nvidia-cuda-nvrtc-cu12-12.5.82:\n",
            "      Successfully uninstalled nvidia-cuda-nvrtc-cu12-12.5.82\n",
            "  Attempting uninstall: nvidia-cuda-cupti-cu12\n",
            "    Found existing installation: nvidia-cuda-cupti-cu12 12.5.82\n",
            "    Uninstalling nvidia-cuda-cupti-cu12-12.5.82:\n",
            "      Successfully uninstalled nvidia-cuda-cupti-cu12-12.5.82\n",
            "  Attempting uninstall: nvidia-cublas-cu12\n",
            "    Found existing installation: nvidia-cublas-cu12 12.5.3.2\n",
            "    Uninstalling nvidia-cublas-cu12-12.5.3.2:\n",
            "      Successfully uninstalled nvidia-cublas-cu12-12.5.3.2\n",
            "  Attempting uninstall: nvidia-cusparse-cu12\n",
            "    Found existing installation: nvidia-cusparse-cu12 12.5.1.3\n",
            "    Uninstalling nvidia-cusparse-cu12-12.5.1.3:\n",
            "      Successfully uninstalled nvidia-cusparse-cu12-12.5.1.3\n",
            "  Attempting uninstall: nvidia-cudnn-cu12\n",
            "    Found existing installation: nvidia-cudnn-cu12 9.3.0.75\n",
            "    Uninstalling nvidia-cudnn-cu12-9.3.0.75:\n",
            "      Successfully uninstalled nvidia-cudnn-cu12-9.3.0.75\n",
            "  Attempting uninstall: nvidia-cusolver-cu12\n",
            "    Found existing installation: nvidia-cusolver-cu12 11.6.3.83\n",
            "    Uninstalling nvidia-cusolver-cu12-11.6.3.83:\n",
            "      Successfully uninstalled nvidia-cusolver-cu12-11.6.3.83\n",
            "Successfully installed fire-0.7.0 nvidia-cublas-cu12-12.4.5.8 nvidia-cuda-cupti-cu12-12.4.127 nvidia-cuda-nvrtc-cu12-12.4.127 nvidia-cuda-runtime-cu12-12.4.127 nvidia-cudnn-cu12-9.1.0.70 nvidia-cufft-cu12-11.2.1.3 nvidia-curand-cu12-10.3.5.147 nvidia-cusolver-cu12-11.6.1.9 nvidia-cusparse-cu12-12.3.1.170 nvidia-nvjitlink-cu12-12.4.127 opencv-python-4.10.0.84 pybboxes-0.1.6 sahi-0.11.22 terminaltables-3.1.10 ultralytics-8.3.89 ultralytics-thop-2.0.14\n"
          ]
        }
      ]
    },
    {
      "cell_type": "code",
      "source": [
        "!pip freeze | grep -e ultralytics -e sahi"
      ],
      "metadata": {
        "colab": {
          "base_uri": "https://localhost:8080/"
        },
        "id": "imtUz00xNrNN",
        "outputId": "d04ea56e-63f7-412b-824d-616cfae38e29"
      },
      "execution_count": null,
      "outputs": [
        {
          "output_type": "stream",
          "name": "stdout",
          "text": [
            "sahi==0.11.22\n",
            "ultralytics==8.3.89\n",
            "ultralytics-thop==2.0.14\n"
          ]
        }
      ]
    },
    {
      "cell_type": "code",
      "source": [
        "from ultralytics import YOLO\n",
        "from sahi.utils.ultralytics import download_yolo11n_model\n",
        "import yaml\n",
        "import os\n",
        "import torch\n",
        "import shutil"
      ],
      "metadata": {
        "colab": {
          "base_uri": "https://localhost:8080/"
        },
        "id": "5yZr7slKdFgd",
        "outputId": "a0c09980-cfa3-4280-fbf0-ef3d65c9b1aa"
      },
      "execution_count": null,
      "outputs": [
        {
          "output_type": "stream",
          "name": "stdout",
          "text": [
            "Creating new Ultralytics Settings v0.0.6 file ✅ \n",
            "View Ultralytics Settings with 'yolo settings' or at '/root/.config/Ultralytics/settings.json'\n",
            "Update Settings with 'yolo settings key=value', i.e. 'yolo settings runs_dir=path/to/dir'. For help see https://docs.ultralytics.com/quickstart/#ultralytics-settings.\n"
          ]
        }
      ]
    },
    {
      "cell_type": "code",
      "source": [
        "if torch.cuda.is_available():\n",
        "    device_count = torch.cuda.device_count()\n",
        "    device_name = torch.cuda.get_device_name(0) if device_count > 0 else \"None\"\n",
        "    print(f\"Found {device_count} GPU devices.\")\n",
        "    print(f\"Active device: {device_name}\")\n",
        "    device = 0  # Użyj pierwszego GPU\n",
        "else:\n",
        "    print(\"GPU not found, using CPU.\")\n",
        "    device = 'cpu'"
      ],
      "metadata": {
        "colab": {
          "base_uri": "https://localhost:8080/"
        },
        "id": "4f7Mrwd2dkyP",
        "outputId": "71c775f9-ee68-4dd6-bd56-eeb8877de6b5"
      },
      "execution_count": null,
      "outputs": [
        {
          "output_type": "stream",
          "name": "stdout",
          "text": [
            "Found 1 GPU devices.\n",
            "Active device: Tesla T4\n"
          ]
        }
      ]
    },
    {
      "cell_type": "code",
      "source": [
        "DATASET_PATH = \"/content/train_data\"\n",
        "CLASS_NAMES = [\"hole\", \"crack\", \"block cracking\", \"patching\"]\n",
        "MODEL_DIR = \"./models\"\n",
        "MODEL_NAME = \"yolov11m.pt\"\n",
        "MODEL_PATH = os.path.join(MODEL_DIR, MODEL_NAME)\n",
        "BATCH_SIZE = 16\n",
        "WORKERS = 8\n",
        "CONFIG_YAML_FILE = \"./config/data.yaml\""
      ],
      "metadata": {
        "id": "nPgw5FmFdl-J"
      },
      "execution_count": null,
      "outputs": []
    },
    {
      "cell_type": "code",
      "source": [
        "os.makedirs(MODEL_DIR, exist_ok=True)\n",
        "\n",
        "if not os.path.exists(MODEL_PATH):\n",
        "    print(f\"Model {MODEL_NAME} not found. Downloading...\")\n",
        "\n",
        "    download_yolo11n_model(MODEL_PATH)\n",
        "    print(f\"Model has been downloaded, to {MODEL_PATH}\")"
      ],
      "metadata": {
        "colab": {
          "base_uri": "https://localhost:8080/"
        },
        "id": "bn-aIbOpdsR9",
        "outputId": "965915eb-46ff-481e-8b0e-06391462ede3"
      },
      "execution_count": null,
      "outputs": [
        {
          "output_type": "stream",
          "name": "stdout",
          "text": [
            "Model yolov11m.pt not found. Downloading...\n"
          ]
        },
        {
          "output_type": "stream",
          "name": "stderr",
          "text": [
            "yolov11m.pt: 100%|██████████| 5.35M/5.35M [00:00<00:00, 106MB/s]"
          ]
        },
        {
          "output_type": "stream",
          "name": "stdout",
          "text": [
            "Model has been downloaded, to ./models/yolov11m.pt\n"
          ]
        },
        {
          "output_type": "stream",
          "name": "stderr",
          "text": [
            "\n"
          ]
        }
      ]
    },
    {
      "cell_type": "code",
      "source": [
        "data_yaml = {\n",
        "    'path': DATASET_PATH,\n",
        "    'train': 'images/train',\n",
        "    'val': 'images/val',\n",
        "    'names': {i: name for i, name in enumerate(CLASS_NAMES)},\n",
        "    'nc': len(CLASS_NAMES)\n",
        "}\n",
        "\n",
        "os.makedirs(\"config\", exist_ok=True)\n",
        "with open(CONFIG_YAML_FILE, 'w') as f:\n",
        "    yaml.dump(data_yaml, f, sort_keys=False)\n",
        "\n",
        "print(f\"Config file created: {CONFIG_YAML_FILE}\")"
      ],
      "metadata": {
        "colab": {
          "base_uri": "https://localhost:8080/"
        },
        "id": "fZjWN6pOeExp",
        "outputId": "ab6a82f2-2f10-44c1-d234-b07496ca77c3"
      },
      "execution_count": null,
      "outputs": [
        {
          "output_type": "stream",
          "name": "stdout",
          "text": [
            "Config file created: ./config/data.yaml\n"
          ]
        }
      ]
    },
    {
      "cell_type": "code",
      "source": [
        "print(f\"Loading model from {MODEL_PATH}...\")\n",
        "model = YOLO(MODEL_PATH)"
      ],
      "metadata": {
        "colab": {
          "base_uri": "https://localhost:8080/"
        },
        "id": "OSj2bTYWeGZE",
        "outputId": "cd732948-4792-49c6-a142-866f69990881"
      },
      "execution_count": null,
      "outputs": [
        {
          "output_type": "stream",
          "name": "stdout",
          "text": [
            "Loading model from ./models/yolov11m.pt...\n"
          ]
        }
      ]
    },
    {
      "cell_type": "code",
      "source": [
        "results = model.train(\n",
        "    data=CONFIG_YAML_FILE,\n",
        "    epochs=80,\n",
        "    imgsz=800,\n",
        "    batch=BATCH_SIZE,\n",
        "    patience=30,\n",
        "    project=\"runs\",\n",
        "    name=\"yolov11_custom\",\n",
        "    pretrained=True,\n",
        "    optimizer='SGD',\n",
        "    momentum=0.937,\n",
        "    weight_decay=0.0005,\n",
        "    lr0=0.0015,       # More moderate learning rate - balance between stability and recall improvement\n",
        "    lrf=0.005,        # Gentler LR decay - less aggressive\n",
        "    warmup_epochs=5,  # Shorter warmup - faster transition to full LR\n",
        "    cos_lr=True,\n",
        "    augment=True,\n",
        "    mosaic=0.7,       # Less intense mosaic - cracks may disappear with too strong mosaic\n",
        "    mixup=0.15,       # Less intense mixup - preserves more distinct crack features\n",
        "    copy_paste=0.2,   # Remains high - good for rare classes\n",
        "    degrees=8.0,      # Reduced rotation - cracks may have directional characteristics\n",
        "    scale=0.6,        # Larger scale - various crack sizes\n",
        "    translate=0.2,    # Added translation - helps with different crack locations\n",
        "    fliplr=0.5,       # Added horizontal flip - increases data diversity\n",
        "    hsv_h=0.015,\n",
        "    hsv_s=0.7,\n",
        "    hsv_v=0.4,\n",
        "    perspective=0.0005,\n",
        "    shear=1.0,        # Reduced shearing - preserves natural appearance of cracks\n",
        "    cls=1.0,          # Higher weight for classification - crucial for recall\n",
        "    box=3.5,          # Lower weight for box loss - less emphasis on location accuracy\n",
        "    iou=0.35,         # Lower IoU threshold - increases recall at the cost of precision\n",
        "    save=True,\n",
        "    save_period=5,    # More frequent model saving\n",
        "    device=device,\n",
        "    workers=WORKERS\n",
        ")\n",
        "\n",
        "# results = model.train(\n",
        "#     data=CONFIG_YAML_FILE,\n",
        "#     epochs=80,\n",
        "#     imgsz=800,\n",
        "#     batch=BATCH_SIZE,\n",
        "#     patience=30,\n",
        "#     project=\"runs\",\n",
        "#     name=\"yolov11_custom\",\n",
        "#     pretrained=True,\n",
        "#     optimizer='SGD',\n",
        "#     momentum=0.937,\n",
        "#     weight_decay=0.0005,\n",
        "#     lr0=0.0015,       # More moderate learning rate - balance between stability and recall improvement\n",
        "#     lrf=0.005,        # Gentler LR decay - less aggressive\n",
        "#     warmup_epochs=5,  # Shorter warmup - faster transition to full LR\n",
        "#     cos_lr=True,\n",
        "#     augment=True,\n",
        "#     mosaic=0.7,       # Less intense mosaic - cracks may disappear with too strong mosaic\n",
        "#     mixup=0.15,       # Less intense mixup - preserves more distinct crack features\n",
        "#     copy_paste=0.2,   # Remains high - good for rare classes\n",
        "#     degrees=8.0,      # Reduced rotation - cracks may have directional characteristics\n",
        "#     scale=0.6,        # Larger scale - various crack sizes\n",
        "#     translate=0.2,    # Added translation - helps with different crack locations\n",
        "#     fliplr=0.5,       # Added horizontal flip - increases data diversity\n",
        "#     hsv_h=0.015,\n",
        "#     hsv_s=0.7,\n",
        "#     hsv_v=0.4,\n",
        "#     perspective=0.0005,\n",
        "#     shear=1.0,        # Reduced shearing - preserves natural appearance of cracks\n",
        "#     cls=1.0,          # Higher weight for classification - crucial for recall\n",
        "#     box=3.5,          # Lower weight for box loss - less emphasis on location accuracy\n",
        "#     iou=0.35,         # Lower IoU threshold - increases recall at the cost of precision\n",
        "#     save=True,\n",
        "#     save_period=5,    # More frequent model saving\n",
        "#     device=device,\n",
        "#     workers=WORKERS\n",
        "# )"
      ],
      "metadata": {
        "colab": {
          "base_uri": "https://localhost:8080/"
        },
        "id": "B-yvuwoVeJE9",
        "outputId": "f5bce268-b633-4e29-e667-4dada200d207"
      },
      "execution_count": null,
      "outputs": [
        {
          "output_type": "stream",
          "name": "stdout",
          "text": [
            "New https://pypi.org/project/ultralytics/8.3.130 available 😃 Update with 'pip install -U ultralytics'\n",
            "Ultralytics 8.3.89 🚀 Python-3.11.12 torch-2.6.0+cu124 CUDA:0 (Tesla T4, 15095MiB)\n",
            "\u001b[34m\u001b[1mengine/trainer: \u001b[0mtask=detect, mode=train, model=./models/yolov11m.pt, data=./config/data.yaml, epochs=80, time=None, patience=30, batch=16, imgsz=800, save=True, save_period=5, cache=False, device=0, workers=8, project=runs, name=yolov11_custom, exist_ok=False, pretrained=True, optimizer=SGD, verbose=True, seed=0, deterministic=True, single_cls=False, rect=False, cos_lr=True, close_mosaic=10, resume=False, amp=True, fraction=1.0, profile=False, freeze=None, multi_scale=False, overlap_mask=True, mask_ratio=4, dropout=0.0, val=True, split=val, save_json=False, save_hybrid=False, conf=None, iou=0.35, max_det=300, half=False, dnn=False, plots=True, source=None, vid_stride=1, stream_buffer=False, visualize=False, augment=True, agnostic_nms=False, classes=None, retina_masks=False, embed=None, show=False, save_frames=False, save_txt=False, save_conf=False, save_crop=False, show_labels=True, show_conf=True, show_boxes=True, line_width=None, format=torchscript, keras=False, optimize=False, int8=False, dynamic=False, simplify=True, opset=None, workspace=None, nms=False, lr0=0.0015, lrf=0.005, momentum=0.937, weight_decay=0.0005, warmup_epochs=5, warmup_momentum=0.8, warmup_bias_lr=0.1, box=3.5, cls=1.0, dfl=1.5, pose=12.0, kobj=1.0, nbs=64, hsv_h=0.015, hsv_s=0.7, hsv_v=0.4, degrees=8.0, translate=0.2, scale=0.6, shear=1.0, perspective=0.0005, flipud=0.0, fliplr=0.5, bgr=0.0, mosaic=0.7, mixup=0.15, copy_paste=0.2, copy_paste_mode=flip, auto_augment=randaugment, erasing=0.4, crop_fraction=1.0, cfg=None, tracker=botsort.yaml, save_dir=runs/yolov11_custom\n",
            "Downloading https://ultralytics.com/assets/Arial.ttf to '/root/.config/Ultralytics/Arial.ttf'...\n"
          ]
        },
        {
          "output_type": "stream",
          "name": "stderr",
          "text": [
            "100%|██████████| 755k/755k [00:00<00:00, 20.9MB/s]\n"
          ]
        },
        {
          "output_type": "stream",
          "name": "stdout",
          "text": [
            "Overriding model.yaml nc=80 with nc=4\n",
            "\n",
            "                   from  n    params  module                                       arguments                     \n",
            "  0                  -1  1       464  ultralytics.nn.modules.conv.Conv             [3, 16, 3, 2]                 \n",
            "  1                  -1  1      4672  ultralytics.nn.modules.conv.Conv             [16, 32, 3, 2]                \n",
            "  2                  -1  1      6640  ultralytics.nn.modules.block.C3k2            [32, 64, 1, False, 0.25]      \n",
            "  3                  -1  1     36992  ultralytics.nn.modules.conv.Conv             [64, 64, 3, 2]                \n",
            "  4                  -1  1     26080  ultralytics.nn.modules.block.C3k2            [64, 128, 1, False, 0.25]     \n",
            "  5                  -1  1    147712  ultralytics.nn.modules.conv.Conv             [128, 128, 3, 2]              \n",
            "  6                  -1  1     87040  ultralytics.nn.modules.block.C3k2            [128, 128, 1, True]           \n",
            "  7                  -1  1    295424  ultralytics.nn.modules.conv.Conv             [128, 256, 3, 2]              \n",
            "  8                  -1  1    346112  ultralytics.nn.modules.block.C3k2            [256, 256, 1, True]           \n",
            "  9                  -1  1    164608  ultralytics.nn.modules.block.SPPF            [256, 256, 5]                 \n",
            " 10                  -1  1    249728  ultralytics.nn.modules.block.C2PSA           [256, 256, 1]                 \n",
            " 11                  -1  1         0  torch.nn.modules.upsampling.Upsample         [None, 2, 'nearest']          \n",
            " 12             [-1, 6]  1         0  ultralytics.nn.modules.conv.Concat           [1]                           \n",
            " 13                  -1  1    111296  ultralytics.nn.modules.block.C3k2            [384, 128, 1, False]          \n",
            " 14                  -1  1         0  torch.nn.modules.upsampling.Upsample         [None, 2, 'nearest']          \n",
            " 15             [-1, 4]  1         0  ultralytics.nn.modules.conv.Concat           [1]                           \n",
            " 16                  -1  1     32096  ultralytics.nn.modules.block.C3k2            [256, 64, 1, False]           \n",
            " 17                  -1  1     36992  ultralytics.nn.modules.conv.Conv             [64, 64, 3, 2]                \n",
            " 18            [-1, 13]  1         0  ultralytics.nn.modules.conv.Concat           [1]                           \n",
            " 19                  -1  1     86720  ultralytics.nn.modules.block.C3k2            [192, 128, 1, False]          \n",
            " 20                  -1  1    147712  ultralytics.nn.modules.conv.Conv             [128, 128, 3, 2]              \n",
            " 21            [-1, 10]  1         0  ultralytics.nn.modules.conv.Concat           [1]                           \n",
            " 22                  -1  1    378880  ultralytics.nn.modules.block.C3k2            [384, 256, 1, True]           \n",
            " 23        [16, 19, 22]  1    431452  ultralytics.nn.modules.head.Detect           [4, [64, 128, 256]]           \n",
            "YOLO11n summary: 181 layers, 2,590,620 parameters, 2,590,604 gradients, 6.4 GFLOPs\n",
            "\n",
            "Transferred 448/499 items from pretrained weights\n",
            "\u001b[34m\u001b[1mTensorBoard: \u001b[0mStart with 'tensorboard --logdir runs/yolov11_custom', view at http://localhost:6006/\n",
            "Freezing layer 'model.23.dfl.conv.weight'\n",
            "\u001b[34m\u001b[1mAMP: \u001b[0mrunning Automatic Mixed Precision (AMP) checks...\n",
            "Downloading https://github.com/ultralytics/assets/releases/download/v8.3.0/yolo11n.pt to 'yolo11n.pt'...\n"
          ]
        },
        {
          "output_type": "stream",
          "name": "stderr",
          "text": [
            "100%|██████████| 5.35M/5.35M [00:00<00:00, 90.9MB/s]\n"
          ]
        },
        {
          "output_type": "stream",
          "name": "stdout",
          "text": [
            "\u001b[34m\u001b[1mAMP: \u001b[0mchecks passed ✅\n"
          ]
        },
        {
          "output_type": "stream",
          "name": "stderr",
          "text": [
            "\u001b[34m\u001b[1mtrain: \u001b[0mScanning /content/train_data/labels/train... 790 images, 0 backgrounds, 0 corrupt: 100%|██████████| 790/790 [00:01<00:00, 433.76it/s]"
          ]
        },
        {
          "output_type": "stream",
          "name": "stdout",
          "text": [
            "\u001b[34m\u001b[1mtrain: \u001b[0mWARNING ⚠️ /content/train_data/images/train/nwm_2_10.jpg: corrupt JPEG restored and saved\n",
            "\u001b[34m\u001b[1mtrain: \u001b[0mNew cache created: /content/train_data/labels/train.cache\n"
          ]
        },
        {
          "output_type": "stream",
          "name": "stderr",
          "text": [
            "\n"
          ]
        },
        {
          "output_type": "stream",
          "name": "stdout",
          "text": [
            "\u001b[34m\u001b[1malbumentations: \u001b[0mBlur(p=0.01, blur_limit=(3, 7)), MedianBlur(p=0.01, blur_limit=(3, 7)), ToGray(p=0.01, method='weighted_average', num_output_channels=3), CLAHE(p=0.01, clip_limit=(1.0, 4.0), tile_grid_size=(8, 8))\n"
          ]
        },
        {
          "output_type": "stream",
          "name": "stderr",
          "text": [
            "\u001b[34m\u001b[1mval: \u001b[0mScanning /content/train_data/labels/val... 26 images, 0 backgrounds, 0 corrupt: 100%|██████████| 26/26 [00:00<00:00, 231.74it/s]"
          ]
        },
        {
          "output_type": "stream",
          "name": "stdout",
          "text": [
            "\u001b[34m\u001b[1mval: \u001b[0mNew cache created: /content/train_data/labels/val.cache\n"
          ]
        },
        {
          "output_type": "stream",
          "name": "stderr",
          "text": [
            "\n"
          ]
        },
        {
          "output_type": "stream",
          "name": "stdout",
          "text": [
            "Plotting labels to runs/yolov11_custom/labels.jpg... \n",
            "\u001b[34m\u001b[1moptimizer:\u001b[0m SGD(lr=0.0015, momentum=0.937) with parameter groups 81 weight(decay=0.0), 88 weight(decay=0.0005), 87 bias(decay=0.0)\n",
            "\u001b[34m\u001b[1mTensorBoard: \u001b[0mmodel graph visualization added ✅\n",
            "Image sizes 800 train, 800 val\n",
            "Using 2 dataloader workers\n",
            "Logging results to \u001b[1mruns/yolov11_custom\u001b[0m\n",
            "Starting training for 80 epochs...\n",
            "\n",
            "      Epoch    GPU_mem   box_loss   cls_loss   dfl_loss  Instances       Size\n"
          ]
        },
        {
          "output_type": "stream",
          "name": "stderr",
          "text": [
            "       1/80      3.83G     0.9894      8.072      2.042         43        800: 100%|██████████| 50/50 [00:31<00:00,  1.57it/s]\n",
            "                 Class     Images  Instances      Box(P          R      mAP50  mAP50-95): 100%|██████████| 1/1 [00:02<00:00,  2.10s/it]"
          ]
        },
        {
          "output_type": "stream",
          "name": "stdout",
          "text": [
            "                   all         26         80    0.00481      0.467    0.00961    0.00294\n"
          ]
        },
        {
          "output_type": "stream",
          "name": "stderr",
          "text": [
            "\n"
          ]
        },
        {
          "output_type": "stream",
          "name": "stdout",
          "text": [
            "\n",
            "      Epoch    GPU_mem   box_loss   cls_loss   dfl_loss  Instances       Size\n"
          ]
        },
        {
          "output_type": "stream",
          "name": "stderr",
          "text": [
            "       2/80      4.04G     0.9181      7.733       1.92         18        800: 100%|██████████| 50/50 [00:28<00:00,  1.74it/s]\n",
            "                 Class     Images  Instances      Box(P          R      mAP50  mAP50-95): 100%|██████████| 1/1 [00:00<00:00,  2.43it/s]"
          ]
        },
        {
          "output_type": "stream",
          "name": "stdout",
          "text": [
            "                   all         26         80    0.00486      0.389     0.0113    0.00416\n"
          ]
        },
        {
          "output_type": "stream",
          "name": "stderr",
          "text": [
            "\n"
          ]
        },
        {
          "output_type": "stream",
          "name": "stdout",
          "text": [
            "\n",
            "      Epoch    GPU_mem   box_loss   cls_loss   dfl_loss  Instances       Size\n"
          ]
        },
        {
          "output_type": "stream",
          "name": "stderr",
          "text": [
            "       3/80      4.05G     0.8908      7.168      1.865         42        800: 100%|██████████| 50/50 [00:29<00:00,  1.68it/s]\n",
            "                 Class     Images  Instances      Box(P          R      mAP50  mAP50-95): 100%|██████████| 1/1 [00:00<00:00,  1.42it/s]"
          ]
        },
        {
          "output_type": "stream",
          "name": "stdout",
          "text": [
            "                   all         26         80      0.353      0.133     0.0297    0.00895\n"
          ]
        },
        {
          "output_type": "stream",
          "name": "stderr",
          "text": [
            "\n"
          ]
        },
        {
          "output_type": "stream",
          "name": "stdout",
          "text": [
            "\n",
            "      Epoch    GPU_mem   box_loss   cls_loss   dfl_loss  Instances       Size\n"
          ]
        },
        {
          "output_type": "stream",
          "name": "stderr",
          "text": [
            "       4/80      4.06G     0.8695      6.749      1.821         55        800: 100%|██████████| 50/50 [00:29<00:00,  1.68it/s]\n",
            "                 Class     Images  Instances      Box(P          R      mAP50  mAP50-95): 100%|██████████| 1/1 [00:00<00:00,  2.56it/s]"
          ]
        },
        {
          "output_type": "stream",
          "name": "stdout",
          "text": [
            "                   all         26         80      0.934      0.133      0.172      0.102\n"
          ]
        },
        {
          "output_type": "stream",
          "name": "stderr",
          "text": [
            "\n"
          ]
        },
        {
          "output_type": "stream",
          "name": "stdout",
          "text": [
            "\n",
            "      Epoch    GPU_mem   box_loss   cls_loss   dfl_loss  Instances       Size\n"
          ]
        },
        {
          "output_type": "stream",
          "name": "stderr",
          "text": [
            "       5/80      4.07G     0.8683       6.28      1.791         35        800: 100%|██████████| 50/50 [00:28<00:00,  1.75it/s]\n",
            "                 Class     Images  Instances      Box(P          R      mAP50  mAP50-95): 100%|██████████| 1/1 [00:00<00:00,  2.57it/s]"
          ]
        },
        {
          "output_type": "stream",
          "name": "stdout",
          "text": [
            "                   all         26         80      0.903        0.2      0.242      0.113\n"
          ]
        },
        {
          "output_type": "stream",
          "name": "stderr",
          "text": [
            "\n"
          ]
        },
        {
          "output_type": "stream",
          "name": "stdout",
          "text": [
            "\n",
            "      Epoch    GPU_mem   box_loss   cls_loss   dfl_loss  Instances       Size\n"
          ]
        },
        {
          "output_type": "stream",
          "name": "stderr",
          "text": [
            "       6/80      4.07G     0.8761      5.981      1.795         40        800: 100%|██████████| 50/50 [00:29<00:00,  1.70it/s]\n",
            "                 Class     Images  Instances      Box(P          R      mAP50  mAP50-95): 100%|██████████| 1/1 [00:00<00:00,  2.14it/s]"
          ]
        },
        {
          "output_type": "stream",
          "name": "stdout",
          "text": [
            "                   all         26         80      0.452      0.264      0.271      0.138\n"
          ]
        },
        {
          "output_type": "stream",
          "name": "stderr",
          "text": [
            "\n"
          ]
        },
        {
          "output_type": "stream",
          "name": "stdout",
          "text": [
            "\n",
            "      Epoch    GPU_mem   box_loss   cls_loss   dfl_loss  Instances       Size\n"
          ]
        },
        {
          "output_type": "stream",
          "name": "stderr",
          "text": [
            "       7/80      4.09G     0.8429      5.643      1.722         25        800: 100%|██████████| 50/50 [00:28<00:00,  1.77it/s]\n",
            "                 Class     Images  Instances      Box(P          R      mAP50  mAP50-95): 100%|██████████| 1/1 [00:00<00:00,  2.26it/s]"
          ]
        },
        {
          "output_type": "stream",
          "name": "stdout",
          "text": [
            "                   all         26         80      0.595      0.361      0.371      0.175\n"
          ]
        },
        {
          "output_type": "stream",
          "name": "stderr",
          "text": [
            "\n"
          ]
        },
        {
          "output_type": "stream",
          "name": "stdout",
          "text": [
            "\n",
            "      Epoch    GPU_mem   box_loss   cls_loss   dfl_loss  Instances       Size\n"
          ]
        },
        {
          "output_type": "stream",
          "name": "stderr",
          "text": [
            "       8/80      4.09G     0.8378      5.314      1.683         32        800: 100%|██████████| 50/50 [00:28<00:00,  1.78it/s]\n",
            "                 Class     Images  Instances      Box(P          R      mAP50  mAP50-95): 100%|██████████| 1/1 [00:00<00:00,  1.83it/s]"
          ]
        },
        {
          "output_type": "stream",
          "name": "stdout",
          "text": [
            "                   all         26         80      0.417      0.359      0.289      0.145\n"
          ]
        },
        {
          "output_type": "stream",
          "name": "stderr",
          "text": [
            "\n"
          ]
        },
        {
          "output_type": "stream",
          "name": "stdout",
          "text": [
            "\n",
            "      Epoch    GPU_mem   box_loss   cls_loss   dfl_loss  Instances       Size\n"
          ]
        },
        {
          "output_type": "stream",
          "name": "stderr",
          "text": [
            "       9/80      4.11G     0.8406      5.251      1.712         38        800: 100%|██████████| 50/50 [00:28<00:00,  1.78it/s]\n",
            "                 Class     Images  Instances      Box(P          R      mAP50  mAP50-95): 100%|██████████| 1/1 [00:00<00:00,  2.57it/s]"
          ]
        },
        {
          "output_type": "stream",
          "name": "stdout",
          "text": [
            "                   all         26         80      0.522      0.402      0.365       0.13\n"
          ]
        },
        {
          "output_type": "stream",
          "name": "stderr",
          "text": [
            "\n"
          ]
        },
        {
          "output_type": "stream",
          "name": "stdout",
          "text": [
            "\n",
            "      Epoch    GPU_mem   box_loss   cls_loss   dfl_loss  Instances       Size\n"
          ]
        },
        {
          "output_type": "stream",
          "name": "stderr",
          "text": [
            "      10/80      4.11G     0.8054      4.959       1.64         33        800: 100%|██████████| 50/50 [00:27<00:00,  1.83it/s]\n",
            "                 Class     Images  Instances      Box(P          R      mAP50  mAP50-95): 100%|██████████| 1/1 [00:00<00:00,  2.50it/s]"
          ]
        },
        {
          "output_type": "stream",
          "name": "stdout",
          "text": [
            "                   all         26         80      0.434      0.376      0.359      0.183\n"
          ]
        },
        {
          "output_type": "stream",
          "name": "stderr",
          "text": [
            "\n"
          ]
        },
        {
          "output_type": "stream",
          "name": "stdout",
          "text": [
            "\n",
            "      Epoch    GPU_mem   box_loss   cls_loss   dfl_loss  Instances       Size\n"
          ]
        },
        {
          "output_type": "stream",
          "name": "stderr",
          "text": [
            "      11/80      4.13G      0.805      4.774      1.627         31        800: 100%|██████████| 50/50 [00:29<00:00,  1.67it/s]\n",
            "                 Class     Images  Instances      Box(P          R      mAP50  mAP50-95): 100%|██████████| 1/1 [00:00<00:00,  2.54it/s]"
          ]
        },
        {
          "output_type": "stream",
          "name": "stdout",
          "text": [
            "                   all         26         80      0.608      0.356      0.432      0.176\n"
          ]
        },
        {
          "output_type": "stream",
          "name": "stderr",
          "text": [
            "\n"
          ]
        },
        {
          "output_type": "stream",
          "name": "stdout",
          "text": [
            "\n",
            "      Epoch    GPU_mem   box_loss   cls_loss   dfl_loss  Instances       Size\n"
          ]
        },
        {
          "output_type": "stream",
          "name": "stderr",
          "text": [
            "      12/80      4.13G     0.8034      4.812      1.639         28        800: 100%|██████████| 50/50 [00:27<00:00,  1.81it/s]\n",
            "                 Class     Images  Instances      Box(P          R      mAP50  mAP50-95): 100%|██████████| 1/1 [00:00<00:00,  1.52it/s]"
          ]
        },
        {
          "output_type": "stream",
          "name": "stdout",
          "text": [
            "                   all         26         80      0.331      0.344      0.308      0.125\n"
          ]
        },
        {
          "output_type": "stream",
          "name": "stderr",
          "text": [
            "\n"
          ]
        },
        {
          "output_type": "stream",
          "name": "stdout",
          "text": [
            "\n",
            "      Epoch    GPU_mem   box_loss   cls_loss   dfl_loss  Instances       Size\n"
          ]
        },
        {
          "output_type": "stream",
          "name": "stderr",
          "text": [
            "      13/80      4.15G     0.8147      4.699      1.633         55        800: 100%|██████████| 50/50 [00:26<00:00,  1.85it/s]\n",
            "                 Class     Images  Instances      Box(P          R      mAP50  mAP50-95): 100%|██████████| 1/1 [00:00<00:00,  1.72it/s]"
          ]
        },
        {
          "output_type": "stream",
          "name": "stdout",
          "text": [
            "                   all         26         80      0.452       0.43       0.45      0.177\n"
          ]
        },
        {
          "output_type": "stream",
          "name": "stderr",
          "text": [
            "\n"
          ]
        },
        {
          "output_type": "stream",
          "name": "stdout",
          "text": [
            "\n",
            "      Epoch    GPU_mem   box_loss   cls_loss   dfl_loss  Instances       Size\n"
          ]
        },
        {
          "output_type": "stream",
          "name": "stderr",
          "text": [
            "      14/80      4.15G     0.7911      4.516      1.593         29        800: 100%|██████████| 50/50 [00:28<00:00,  1.78it/s]\n",
            "                 Class     Images  Instances      Box(P          R      mAP50  mAP50-95): 100%|██████████| 1/1 [00:00<00:00,  1.60it/s]"
          ]
        },
        {
          "output_type": "stream",
          "name": "stdout",
          "text": [
            "                   all         26         80      0.509      0.368      0.369      0.169\n"
          ]
        },
        {
          "output_type": "stream",
          "name": "stderr",
          "text": [
            "\n"
          ]
        },
        {
          "output_type": "stream",
          "name": "stdout",
          "text": [
            "\n",
            "      Epoch    GPU_mem   box_loss   cls_loss   dfl_loss  Instances       Size\n"
          ]
        },
        {
          "output_type": "stream",
          "name": "stderr",
          "text": [
            "      15/80      4.17G     0.7797      4.471      1.603         45        800: 100%|██████████| 50/50 [00:27<00:00,  1.81it/s]\n",
            "                 Class     Images  Instances      Box(P          R      mAP50  mAP50-95): 100%|██████████| 1/1 [00:00<00:00,  1.61it/s]"
          ]
        },
        {
          "output_type": "stream",
          "name": "stdout",
          "text": [
            "                   all         26         80      0.506      0.322      0.337       0.14\n"
          ]
        },
        {
          "output_type": "stream",
          "name": "stderr",
          "text": [
            "\n"
          ]
        },
        {
          "output_type": "stream",
          "name": "stdout",
          "text": [
            "\n",
            "      Epoch    GPU_mem   box_loss   cls_loss   dfl_loss  Instances       Size\n"
          ]
        },
        {
          "output_type": "stream",
          "name": "stderr",
          "text": [
            "      16/80      4.17G     0.7982      4.435      1.607         59        800: 100%|██████████| 50/50 [00:28<00:00,  1.75it/s]\n",
            "                 Class     Images  Instances      Box(P          R      mAP50  mAP50-95): 100%|██████████| 1/1 [00:00<00:00,  2.66it/s]"
          ]
        },
        {
          "output_type": "stream",
          "name": "stdout",
          "text": [
            "                   all         26         80      0.607      0.389      0.425      0.201\n"
          ]
        },
        {
          "output_type": "stream",
          "name": "stderr",
          "text": [
            "\n"
          ]
        },
        {
          "output_type": "stream",
          "name": "stdout",
          "text": [
            "\n",
            "      Epoch    GPU_mem   box_loss   cls_loss   dfl_loss  Instances       Size\n"
          ]
        },
        {
          "output_type": "stream",
          "name": "stderr",
          "text": [
            "      17/80      4.19G     0.7871      4.416       1.59         79        800: 100%|██████████| 50/50 [00:28<00:00,  1.77it/s]\n",
            "                 Class     Images  Instances      Box(P          R      mAP50  mAP50-95): 100%|██████████| 1/1 [00:00<00:00,  1.94it/s]"
          ]
        },
        {
          "output_type": "stream",
          "name": "stdout",
          "text": [
            "                   all         26         80        0.5      0.383      0.334      0.154\n"
          ]
        },
        {
          "output_type": "stream",
          "name": "stderr",
          "text": [
            "\n"
          ]
        },
        {
          "output_type": "stream",
          "name": "stdout",
          "text": [
            "\n",
            "      Epoch    GPU_mem   box_loss   cls_loss   dfl_loss  Instances       Size\n"
          ]
        },
        {
          "output_type": "stream",
          "name": "stderr",
          "text": [
            "      18/80      4.19G     0.7889      4.372      1.609         30        800: 100%|██████████| 50/50 [00:30<00:00,  1.66it/s]\n",
            "                 Class     Images  Instances      Box(P          R      mAP50  mAP50-95): 100%|██████████| 1/1 [00:00<00:00,  2.59it/s]"
          ]
        },
        {
          "output_type": "stream",
          "name": "stdout",
          "text": [
            "                   all         26         80      0.333      0.433      0.349      0.141\n"
          ]
        },
        {
          "output_type": "stream",
          "name": "stderr",
          "text": [
            "\n"
          ]
        },
        {
          "output_type": "stream",
          "name": "stdout",
          "text": [
            "\n",
            "      Epoch    GPU_mem   box_loss   cls_loss   dfl_loss  Instances       Size\n"
          ]
        },
        {
          "output_type": "stream",
          "name": "stderr",
          "text": [
            "      19/80      4.21G     0.7852       4.32      1.585         44        800: 100%|██████████| 50/50 [00:28<00:00,  1.77it/s]\n",
            "                 Class     Images  Instances      Box(P          R      mAP50  mAP50-95): 100%|██████████| 1/1 [00:00<00:00,  2.43it/s]"
          ]
        },
        {
          "output_type": "stream",
          "name": "stdout",
          "text": [
            "                   all         26         80      0.481      0.428      0.437      0.194\n"
          ]
        },
        {
          "output_type": "stream",
          "name": "stderr",
          "text": [
            "\n"
          ]
        },
        {
          "output_type": "stream",
          "name": "stdout",
          "text": [
            "\n",
            "      Epoch    GPU_mem   box_loss   cls_loss   dfl_loss  Instances       Size\n"
          ]
        },
        {
          "output_type": "stream",
          "name": "stderr",
          "text": [
            "      20/80      4.21G     0.7805      4.327      1.585         24        800: 100%|██████████| 50/50 [00:29<00:00,  1.71it/s]\n",
            "                 Class     Images  Instances      Box(P          R      mAP50  mAP50-95): 100%|██████████| 1/1 [00:00<00:00,  2.46it/s]"
          ]
        },
        {
          "output_type": "stream",
          "name": "stdout",
          "text": [
            "                   all         26         80      0.608      0.449      0.441      0.157\n"
          ]
        },
        {
          "output_type": "stream",
          "name": "stderr",
          "text": [
            "\n"
          ]
        },
        {
          "output_type": "stream",
          "name": "stdout",
          "text": [
            "\n",
            "      Epoch    GPU_mem   box_loss   cls_loss   dfl_loss  Instances       Size\n"
          ]
        },
        {
          "output_type": "stream",
          "name": "stderr",
          "text": [
            "      21/80      4.23G      0.764      4.216      1.577         15        800: 100%|██████████| 50/50 [00:28<00:00,  1.76it/s]\n",
            "                 Class     Images  Instances      Box(P          R      mAP50  mAP50-95): 100%|██████████| 1/1 [00:00<00:00,  2.36it/s]"
          ]
        },
        {
          "output_type": "stream",
          "name": "stdout",
          "text": [
            "                   all         26         80      0.516      0.371       0.45      0.187\n"
          ]
        },
        {
          "output_type": "stream",
          "name": "stderr",
          "text": [
            "\n"
          ]
        },
        {
          "output_type": "stream",
          "name": "stdout",
          "text": [
            "\n",
            "      Epoch    GPU_mem   box_loss   cls_loss   dfl_loss  Instances       Size\n"
          ]
        },
        {
          "output_type": "stream",
          "name": "stderr",
          "text": [
            "      22/80      4.23G     0.7705      4.109      1.545         56        800: 100%|██████████| 50/50 [00:28<00:00,  1.77it/s]\n",
            "                 Class     Images  Instances      Box(P          R      mAP50  mAP50-95): 100%|██████████| 1/1 [00:00<00:00,  2.55it/s]"
          ]
        },
        {
          "output_type": "stream",
          "name": "stdout",
          "text": [
            "                   all         26         80      0.562       0.37      0.432      0.205\n"
          ]
        },
        {
          "output_type": "stream",
          "name": "stderr",
          "text": [
            "\n"
          ]
        },
        {
          "output_type": "stream",
          "name": "stdout",
          "text": [
            "\n",
            "      Epoch    GPU_mem   box_loss   cls_loss   dfl_loss  Instances       Size\n"
          ]
        },
        {
          "output_type": "stream",
          "name": "stderr",
          "text": [
            "      23/80      4.25G     0.7711      4.195       1.57         36        800: 100%|██████████| 50/50 [00:28<00:00,  1.76it/s]\n",
            "                 Class     Images  Instances      Box(P          R      mAP50  mAP50-95): 100%|██████████| 1/1 [00:00<00:00,  1.58it/s]"
          ]
        },
        {
          "output_type": "stream",
          "name": "stdout",
          "text": [
            "                   all         26         80       0.69      0.472      0.465      0.238\n"
          ]
        },
        {
          "output_type": "stream",
          "name": "stderr",
          "text": [
            "\n"
          ]
        },
        {
          "output_type": "stream",
          "name": "stdout",
          "text": [
            "\n",
            "      Epoch    GPU_mem   box_loss   cls_loss   dfl_loss  Instances       Size\n"
          ]
        },
        {
          "output_type": "stream",
          "name": "stderr",
          "text": [
            "      24/80      4.25G     0.7643       4.11      1.569         27        800: 100%|██████████| 50/50 [00:28<00:00,  1.76it/s]\n",
            "                 Class     Images  Instances      Box(P          R      mAP50  mAP50-95): 100%|██████████| 1/1 [00:00<00:00,  1.54it/s]"
          ]
        },
        {
          "output_type": "stream",
          "name": "stdout",
          "text": [
            "                   all         26         80      0.723      0.441      0.488      0.227\n"
          ]
        },
        {
          "output_type": "stream",
          "name": "stderr",
          "text": [
            "\n"
          ]
        },
        {
          "output_type": "stream",
          "name": "stdout",
          "text": [
            "\n",
            "      Epoch    GPU_mem   box_loss   cls_loss   dfl_loss  Instances       Size\n"
          ]
        },
        {
          "output_type": "stream",
          "name": "stderr",
          "text": [
            "      25/80      4.27G     0.7689      4.141      1.572         55        800: 100%|██████████| 50/50 [00:30<00:00,  1.65it/s]\n",
            "                 Class     Images  Instances      Box(P          R      mAP50  mAP50-95): 100%|██████████| 1/1 [00:00<00:00,  2.54it/s]"
          ]
        },
        {
          "output_type": "stream",
          "name": "stdout",
          "text": [
            "                   all         26         80      0.489      0.339      0.364       0.19\n"
          ]
        },
        {
          "output_type": "stream",
          "name": "stderr",
          "text": [
            "\n"
          ]
        },
        {
          "output_type": "stream",
          "name": "stdout",
          "text": [
            "\n",
            "      Epoch    GPU_mem   box_loss   cls_loss   dfl_loss  Instances       Size\n"
          ]
        },
        {
          "output_type": "stream",
          "name": "stderr",
          "text": [
            "      26/80      4.27G     0.7798      4.127      1.582         48        800: 100%|██████████| 50/50 [00:28<00:00,  1.72it/s]\n",
            "                 Class     Images  Instances      Box(P          R      mAP50  mAP50-95): 100%|██████████| 1/1 [00:00<00:00,  2.15it/s]"
          ]
        },
        {
          "output_type": "stream",
          "name": "stdout",
          "text": [
            "                   all         26         80      0.511      0.393      0.409      0.206\n"
          ]
        },
        {
          "output_type": "stream",
          "name": "stderr",
          "text": [
            "\n"
          ]
        },
        {
          "output_type": "stream",
          "name": "stdout",
          "text": [
            "\n",
            "      Epoch    GPU_mem   box_loss   cls_loss   dfl_loss  Instances       Size\n"
          ]
        },
        {
          "output_type": "stream",
          "name": "stderr",
          "text": [
            "      27/80      4.29G     0.7566      3.941      1.537         24        800: 100%|██████████| 50/50 [00:28<00:00,  1.76it/s]\n",
            "                 Class     Images  Instances      Box(P          R      mAP50  mAP50-95): 100%|██████████| 1/1 [00:00<00:00,  2.61it/s]"
          ]
        },
        {
          "output_type": "stream",
          "name": "stdout",
          "text": [
            "                   all         26         80      0.524      0.378      0.452      0.188\n"
          ]
        },
        {
          "output_type": "stream",
          "name": "stderr",
          "text": [
            "\n"
          ]
        },
        {
          "output_type": "stream",
          "name": "stdout",
          "text": [
            "\n",
            "      Epoch    GPU_mem   box_loss   cls_loss   dfl_loss  Instances       Size\n"
          ]
        },
        {
          "output_type": "stream",
          "name": "stderr",
          "text": [
            "      28/80      4.29G     0.7607      3.953      1.547         52        800: 100%|██████████| 50/50 [00:28<00:00,  1.74it/s]\n",
            "                 Class     Images  Instances      Box(P          R      mAP50  mAP50-95): 100%|██████████| 1/1 [00:00<00:00,  2.31it/s]"
          ]
        },
        {
          "output_type": "stream",
          "name": "stdout",
          "text": [
            "                   all         26         80      0.495      0.497        0.5      0.212\n"
          ]
        },
        {
          "output_type": "stream",
          "name": "stderr",
          "text": [
            "\n"
          ]
        },
        {
          "output_type": "stream",
          "name": "stdout",
          "text": [
            "\n",
            "      Epoch    GPU_mem   box_loss   cls_loss   dfl_loss  Instances       Size\n"
          ]
        },
        {
          "output_type": "stream",
          "name": "stderr",
          "text": [
            "      29/80      4.31G     0.7333      3.865      1.517         52        800: 100%|██████████| 50/50 [00:28<00:00,  1.75it/s]\n",
            "                 Class     Images  Instances      Box(P          R      mAP50  mAP50-95): 100%|██████████| 1/1 [00:00<00:00,  2.81it/s]"
          ]
        },
        {
          "output_type": "stream",
          "name": "stdout",
          "text": [
            "                   all         26         80      0.518      0.461       0.47       0.23\n"
          ]
        },
        {
          "output_type": "stream",
          "name": "stderr",
          "text": [
            "\n"
          ]
        },
        {
          "output_type": "stream",
          "name": "stdout",
          "text": [
            "\n",
            "      Epoch    GPU_mem   box_loss   cls_loss   dfl_loss  Instances       Size\n"
          ]
        },
        {
          "output_type": "stream",
          "name": "stderr",
          "text": [
            "      30/80      4.31G     0.7551      3.933       1.54         61        800: 100%|██████████| 50/50 [00:28<00:00,  1.73it/s]\n",
            "                 Class     Images  Instances      Box(P          R      mAP50  mAP50-95): 100%|██████████| 1/1 [00:00<00:00,  2.43it/s]"
          ]
        },
        {
          "output_type": "stream",
          "name": "stdout",
          "text": [
            "                   all         26         80      0.657        0.4      0.462       0.24\n"
          ]
        },
        {
          "output_type": "stream",
          "name": "stderr",
          "text": [
            "\n"
          ]
        },
        {
          "output_type": "stream",
          "name": "stdout",
          "text": [
            "\n",
            "      Epoch    GPU_mem   box_loss   cls_loss   dfl_loss  Instances       Size\n"
          ]
        },
        {
          "output_type": "stream",
          "name": "stderr",
          "text": [
            "      31/80      4.33G     0.7615      3.932      1.544         37        800: 100%|██████████| 50/50 [00:30<00:00,  1.66it/s]\n",
            "                 Class     Images  Instances      Box(P          R      mAP50  mAP50-95): 100%|██████████| 1/1 [00:00<00:00,  1.57it/s]"
          ]
        },
        {
          "output_type": "stream",
          "name": "stdout",
          "text": [
            "                   all         26         80      0.497       0.45      0.459      0.242\n"
          ]
        },
        {
          "output_type": "stream",
          "name": "stderr",
          "text": [
            "\n"
          ]
        },
        {
          "output_type": "stream",
          "name": "stdout",
          "text": [
            "\n",
            "      Epoch    GPU_mem   box_loss   cls_loss   dfl_loss  Instances       Size\n"
          ]
        },
        {
          "output_type": "stream",
          "name": "stderr",
          "text": [
            "      32/80      4.33G      0.735      3.811      1.512         18        800: 100%|██████████| 50/50 [00:30<00:00,  1.62it/s]\n",
            "                 Class     Images  Instances      Box(P          R      mAP50  mAP50-95): 100%|██████████| 1/1 [00:00<00:00,  2.57it/s]"
          ]
        },
        {
          "output_type": "stream",
          "name": "stdout",
          "text": [
            "                   all         26         80      0.527      0.419      0.462      0.238\n"
          ]
        },
        {
          "output_type": "stream",
          "name": "stderr",
          "text": [
            "\n"
          ]
        },
        {
          "output_type": "stream",
          "name": "stdout",
          "text": [
            "\n",
            "      Epoch    GPU_mem   box_loss   cls_loss   dfl_loss  Instances       Size\n"
          ]
        },
        {
          "output_type": "stream",
          "name": "stderr",
          "text": [
            "      33/80      4.35G     0.7573      3.839      1.527         53        800: 100%|██████████| 50/50 [00:29<00:00,  1.70it/s]\n",
            "                 Class     Images  Instances      Box(P          R      mAP50  mAP50-95): 100%|██████████| 1/1 [00:00<00:00,  2.46it/s]"
          ]
        },
        {
          "output_type": "stream",
          "name": "stdout",
          "text": [
            "                   all         26         80      0.602      0.383      0.447      0.211\n"
          ]
        },
        {
          "output_type": "stream",
          "name": "stderr",
          "text": [
            "\n"
          ]
        },
        {
          "output_type": "stream",
          "name": "stdout",
          "text": [
            "\n",
            "      Epoch    GPU_mem   box_loss   cls_loss   dfl_loss  Instances       Size\n"
          ]
        },
        {
          "output_type": "stream",
          "name": "stderr",
          "text": [
            "      34/80      4.35G     0.7563      3.824      1.532         41        800: 100%|██████████| 50/50 [00:28<00:00,  1.76it/s]\n",
            "                 Class     Images  Instances      Box(P          R      mAP50  mAP50-95): 100%|██████████| 1/1 [00:00<00:00,  2.27it/s]"
          ]
        },
        {
          "output_type": "stream",
          "name": "stdout",
          "text": [
            "                   all         26         80      0.518      0.428      0.424      0.232\n"
          ]
        },
        {
          "output_type": "stream",
          "name": "stderr",
          "text": [
            "\n"
          ]
        },
        {
          "output_type": "stream",
          "name": "stdout",
          "text": [
            "\n",
            "      Epoch    GPU_mem   box_loss   cls_loss   dfl_loss  Instances       Size\n"
          ]
        },
        {
          "output_type": "stream",
          "name": "stderr",
          "text": [
            "      35/80      4.37G     0.7507      3.814      1.543         70        800: 100%|██████████| 50/50 [00:28<00:00,  1.74it/s]\n",
            "                 Class     Images  Instances      Box(P          R      mAP50  mAP50-95): 100%|██████████| 1/1 [00:00<00:00,  2.46it/s]"
          ]
        },
        {
          "output_type": "stream",
          "name": "stdout",
          "text": [
            "                   all         26         80      0.595      0.423      0.461       0.22\n"
          ]
        },
        {
          "output_type": "stream",
          "name": "stderr",
          "text": [
            "\n"
          ]
        },
        {
          "output_type": "stream",
          "name": "stdout",
          "text": [
            "\n",
            "      Epoch    GPU_mem   box_loss   cls_loss   dfl_loss  Instances       Size\n"
          ]
        },
        {
          "output_type": "stream",
          "name": "stderr",
          "text": [
            "      36/80      4.37G      0.746      3.765      1.521         23        800: 100%|██████████| 50/50 [00:29<00:00,  1.71it/s]\n",
            "                 Class     Images  Instances      Box(P          R      mAP50  mAP50-95): 100%|██████████| 1/1 [00:00<00:00,  2.51it/s]"
          ]
        },
        {
          "output_type": "stream",
          "name": "stdout",
          "text": [
            "                   all         26         80      0.569      0.361      0.413       0.21\n"
          ]
        },
        {
          "output_type": "stream",
          "name": "stderr",
          "text": [
            "\n"
          ]
        },
        {
          "output_type": "stream",
          "name": "stdout",
          "text": [
            "\n",
            "      Epoch    GPU_mem   box_loss   cls_loss   dfl_loss  Instances       Size\n"
          ]
        },
        {
          "output_type": "stream",
          "name": "stderr",
          "text": [
            "      37/80      4.39G     0.7495      3.741      1.538         51        800: 100%|██████████| 50/50 [00:28<00:00,  1.73it/s]\n",
            "                 Class     Images  Instances      Box(P          R      mAP50  mAP50-95): 100%|██████████| 1/1 [00:00<00:00,  2.71it/s]"
          ]
        },
        {
          "output_type": "stream",
          "name": "stdout",
          "text": [
            "                   all         26         80      0.625      0.339      0.494      0.232\n"
          ]
        },
        {
          "output_type": "stream",
          "name": "stderr",
          "text": [
            "\n"
          ]
        },
        {
          "output_type": "stream",
          "name": "stdout",
          "text": [
            "\n",
            "      Epoch    GPU_mem   box_loss   cls_loss   dfl_loss  Instances       Size\n"
          ]
        },
        {
          "output_type": "stream",
          "name": "stderr",
          "text": [
            "      38/80      4.39G     0.7391      3.647      1.503         36        800: 100%|██████████| 50/50 [00:28<00:00,  1.75it/s]\n",
            "                 Class     Images  Instances      Box(P          R      mAP50  mAP50-95): 100%|██████████| 1/1 [00:00<00:00,  1.79it/s]"
          ]
        },
        {
          "output_type": "stream",
          "name": "stdout",
          "text": [
            "                   all         26         80      0.653      0.361      0.455      0.227\n"
          ]
        },
        {
          "output_type": "stream",
          "name": "stderr",
          "text": [
            "\n"
          ]
        },
        {
          "output_type": "stream",
          "name": "stdout",
          "text": [
            "\n",
            "      Epoch    GPU_mem   box_loss   cls_loss   dfl_loss  Instances       Size\n"
          ]
        },
        {
          "output_type": "stream",
          "name": "stderr",
          "text": [
            "      39/80      4.41G     0.7359       3.65      1.513         61        800: 100%|██████████| 50/50 [00:30<00:00,  1.66it/s]\n",
            "                 Class     Images  Instances      Box(P          R      mAP50  mAP50-95): 100%|██████████| 1/1 [00:00<00:00,  1.60it/s]"
          ]
        },
        {
          "output_type": "stream",
          "name": "stdout",
          "text": [
            "                   all         26         80      0.729      0.387      0.452      0.246\n"
          ]
        },
        {
          "output_type": "stream",
          "name": "stderr",
          "text": [
            "\n"
          ]
        },
        {
          "output_type": "stream",
          "name": "stdout",
          "text": [
            "\n",
            "      Epoch    GPU_mem   box_loss   cls_loss   dfl_loss  Instances       Size\n"
          ]
        },
        {
          "output_type": "stream",
          "name": "stderr",
          "text": [
            "      40/80      4.41G     0.7476      3.663      1.504         38        800: 100%|██████████| 50/50 [00:29<00:00,  1.72it/s]\n",
            "                 Class     Images  Instances      Box(P          R      mAP50  mAP50-95): 100%|██████████| 1/1 [00:00<00:00,  1.90it/s]"
          ]
        },
        {
          "output_type": "stream",
          "name": "stdout",
          "text": [
            "                   all         26         80      0.642      0.421      0.459      0.223\n"
          ]
        },
        {
          "output_type": "stream",
          "name": "stderr",
          "text": [
            "\n"
          ]
        },
        {
          "output_type": "stream",
          "name": "stdout",
          "text": [
            "\n",
            "      Epoch    GPU_mem   box_loss   cls_loss   dfl_loss  Instances       Size\n"
          ]
        },
        {
          "output_type": "stream",
          "name": "stderr",
          "text": [
            "      41/80      4.43G     0.7341      3.682      1.513         16        800: 100%|██████████| 50/50 [00:28<00:00,  1.75it/s]\n",
            "                 Class     Images  Instances      Box(P          R      mAP50  mAP50-95): 100%|██████████| 1/1 [00:00<00:00,  2.70it/s]"
          ]
        },
        {
          "output_type": "stream",
          "name": "stdout",
          "text": [
            "                   all         26         80      0.512      0.428      0.419       0.19\n"
          ]
        },
        {
          "output_type": "stream",
          "name": "stderr",
          "text": [
            "\n"
          ]
        },
        {
          "output_type": "stream",
          "name": "stdout",
          "text": [
            "\n",
            "      Epoch    GPU_mem   box_loss   cls_loss   dfl_loss  Instances       Size\n"
          ]
        },
        {
          "output_type": "stream",
          "name": "stderr",
          "text": [
            "      42/80      4.43G     0.7437      3.692      1.526         60        800: 100%|██████████| 50/50 [00:29<00:00,  1.71it/s]\n",
            "                 Class     Images  Instances      Box(P          R      mAP50  mAP50-95): 100%|██████████| 1/1 [00:00<00:00,  2.54it/s]"
          ]
        },
        {
          "output_type": "stream",
          "name": "stdout",
          "text": [
            "                   all         26         80      0.537      0.498      0.462      0.213\n"
          ]
        },
        {
          "output_type": "stream",
          "name": "stderr",
          "text": [
            "\n"
          ]
        },
        {
          "output_type": "stream",
          "name": "stdout",
          "text": [
            "\n",
            "      Epoch    GPU_mem   box_loss   cls_loss   dfl_loss  Instances       Size\n"
          ]
        },
        {
          "output_type": "stream",
          "name": "stderr",
          "text": [
            "      43/80      4.45G     0.7299      3.542      1.483        104        800: 100%|██████████| 50/50 [00:28<00:00,  1.78it/s]\n",
            "                 Class     Images  Instances      Box(P          R      mAP50  mAP50-95): 100%|██████████| 1/1 [00:00<00:00,  2.52it/s]"
          ]
        },
        {
          "output_type": "stream",
          "name": "stdout",
          "text": [
            "                   all         26         80       0.59      0.439      0.454      0.197\n"
          ]
        },
        {
          "output_type": "stream",
          "name": "stderr",
          "text": [
            "\n"
          ]
        },
        {
          "output_type": "stream",
          "name": "stdout",
          "text": [
            "\n",
            "      Epoch    GPU_mem   box_loss   cls_loss   dfl_loss  Instances       Size\n"
          ]
        },
        {
          "output_type": "stream",
          "name": "stderr",
          "text": [
            "      44/80      4.45G     0.7386      3.575      1.497         47        800: 100%|██████████| 50/50 [00:28<00:00,  1.74it/s]\n",
            "                 Class     Images  Instances      Box(P          R      mAP50  mAP50-95): 100%|██████████| 1/1 [00:00<00:00,  2.90it/s]"
          ]
        },
        {
          "output_type": "stream",
          "name": "stdout",
          "text": [
            "                   all         26         80      0.688      0.417      0.495      0.219\n"
          ]
        },
        {
          "output_type": "stream",
          "name": "stderr",
          "text": [
            "\n"
          ]
        },
        {
          "output_type": "stream",
          "name": "stdout",
          "text": [
            "\n",
            "      Epoch    GPU_mem   box_loss   cls_loss   dfl_loss  Instances       Size\n"
          ]
        },
        {
          "output_type": "stream",
          "name": "stderr",
          "text": [
            "      45/80      4.47G     0.7228      3.429      1.459         37        800: 100%|██████████| 50/50 [00:30<00:00,  1.65it/s]\n",
            "                 Class     Images  Instances      Box(P          R      mAP50  mAP50-95): 100%|██████████| 1/1 [00:00<00:00,  1.36it/s]"
          ]
        },
        {
          "output_type": "stream",
          "name": "stdout",
          "text": [
            "                   all         26         80      0.718      0.437      0.521      0.221\n"
          ]
        },
        {
          "output_type": "stream",
          "name": "stderr",
          "text": [
            "\n"
          ]
        },
        {
          "output_type": "stream",
          "name": "stdout",
          "text": [
            "\n",
            "      Epoch    GPU_mem   box_loss   cls_loss   dfl_loss  Instances       Size\n"
          ]
        },
        {
          "output_type": "stream",
          "name": "stderr",
          "text": [
            "      46/80      4.47G     0.7294      3.554      1.494         62        800: 100%|██████████| 50/50 [00:28<00:00,  1.76it/s]\n",
            "                 Class     Images  Instances      Box(P          R      mAP50  mAP50-95): 100%|██████████| 1/1 [00:00<00:00,  1.65it/s]"
          ]
        },
        {
          "output_type": "stream",
          "name": "stdout",
          "text": [
            "                   all         26         80      0.757      0.424      0.521       0.23\n"
          ]
        },
        {
          "output_type": "stream",
          "name": "stderr",
          "text": [
            "\n"
          ]
        },
        {
          "output_type": "stream",
          "name": "stdout",
          "text": [
            "\n",
            "      Epoch    GPU_mem   box_loss   cls_loss   dfl_loss  Instances       Size\n"
          ]
        },
        {
          "output_type": "stream",
          "name": "stderr",
          "text": [
            "      47/80      4.49G     0.7226      3.442      1.457         42        800: 100%|██████████| 50/50 [00:28<00:00,  1.75it/s]\n",
            "                 Class     Images  Instances      Box(P          R      mAP50  mAP50-95): 100%|██████████| 1/1 [00:00<00:00,  2.83it/s]"
          ]
        },
        {
          "output_type": "stream",
          "name": "stdout",
          "text": [
            "                   all         26         80      0.556      0.467      0.482      0.201\n"
          ]
        },
        {
          "output_type": "stream",
          "name": "stderr",
          "text": [
            "\n"
          ]
        },
        {
          "output_type": "stream",
          "name": "stdout",
          "text": [
            "\n",
            "      Epoch    GPU_mem   box_loss   cls_loss   dfl_loss  Instances       Size\n"
          ]
        },
        {
          "output_type": "stream",
          "name": "stderr",
          "text": [
            "      48/80      4.49G      0.716       3.48      1.479         60        800: 100%|██████████| 50/50 [00:27<00:00,  1.81it/s]\n",
            "                 Class     Images  Instances      Box(P          R      mAP50  mAP50-95): 100%|██████████| 1/1 [00:00<00:00,  2.91it/s]"
          ]
        },
        {
          "output_type": "stream",
          "name": "stdout",
          "text": [
            "                   all         26         80      0.747      0.413      0.514      0.222\n"
          ]
        },
        {
          "output_type": "stream",
          "name": "stderr",
          "text": [
            "\n"
          ]
        },
        {
          "output_type": "stream",
          "name": "stdout",
          "text": [
            "\n",
            "      Epoch    GPU_mem   box_loss   cls_loss   dfl_loss  Instances       Size\n"
          ]
        },
        {
          "output_type": "stream",
          "name": "stderr",
          "text": [
            "      49/80      4.51G      0.716      3.505      1.483         27        800: 100%|██████████| 50/50 [00:28<00:00,  1.77it/s]\n",
            "                 Class     Images  Instances      Box(P          R      mAP50  mAP50-95): 100%|██████████| 1/1 [00:00<00:00,  3.02it/s]"
          ]
        },
        {
          "output_type": "stream",
          "name": "stdout",
          "text": [
            "                   all         26         80      0.501      0.451      0.471      0.214\n"
          ]
        },
        {
          "output_type": "stream",
          "name": "stderr",
          "text": [
            "\n"
          ]
        },
        {
          "output_type": "stream",
          "name": "stdout",
          "text": [
            "\n",
            "      Epoch    GPU_mem   box_loss   cls_loss   dfl_loss  Instances       Size\n"
          ]
        },
        {
          "output_type": "stream",
          "name": "stderr",
          "text": [
            "      50/80      4.51G     0.7257      3.555      1.502         80        800: 100%|██████████| 50/50 [00:28<00:00,  1.76it/s]\n",
            "                 Class     Images  Instances      Box(P          R      mAP50  mAP50-95): 100%|██████████| 1/1 [00:00<00:00,  2.61it/s]"
          ]
        },
        {
          "output_type": "stream",
          "name": "stdout",
          "text": [
            "                   all         26         80      0.737      0.441      0.504      0.227\n"
          ]
        },
        {
          "output_type": "stream",
          "name": "stderr",
          "text": [
            "\n"
          ]
        },
        {
          "output_type": "stream",
          "name": "stdout",
          "text": [
            "\n",
            "      Epoch    GPU_mem   box_loss   cls_loss   dfl_loss  Instances       Size\n"
          ]
        },
        {
          "output_type": "stream",
          "name": "stderr",
          "text": [
            "      51/80      4.53G     0.7138      3.415      1.485         47        800: 100%|██████████| 50/50 [00:28<00:00,  1.74it/s]\n",
            "                 Class     Images  Instances      Box(P          R      mAP50  mAP50-95): 100%|██████████| 1/1 [00:00<00:00,  2.49it/s]"
          ]
        },
        {
          "output_type": "stream",
          "name": "stdout",
          "text": [
            "                   all         26         80       0.74      0.396      0.505      0.247\n"
          ]
        },
        {
          "output_type": "stream",
          "name": "stderr",
          "text": [
            "\n"
          ]
        },
        {
          "output_type": "stream",
          "name": "stdout",
          "text": [
            "\n",
            "      Epoch    GPU_mem   box_loss   cls_loss   dfl_loss  Instances       Size\n"
          ]
        },
        {
          "output_type": "stream",
          "name": "stderr",
          "text": [
            "      52/80      4.53G     0.7284      3.493      1.479         52        800: 100%|██████████| 50/50 [00:30<00:00,  1.66it/s]\n",
            "                 Class     Images  Instances      Box(P          R      mAP50  mAP50-95): 100%|██████████| 1/1 [00:00<00:00,  2.73it/s]"
          ]
        },
        {
          "output_type": "stream",
          "name": "stdout",
          "text": [
            "                   all         26         80      0.529      0.548        0.5      0.213\n"
          ]
        },
        {
          "output_type": "stream",
          "name": "stderr",
          "text": [
            "\n"
          ]
        },
        {
          "output_type": "stream",
          "name": "stdout",
          "text": [
            "\n",
            "      Epoch    GPU_mem   box_loss   cls_loss   dfl_loss  Instances       Size\n"
          ]
        },
        {
          "output_type": "stream",
          "name": "stderr",
          "text": [
            "      53/80      4.54G     0.7255      3.436      1.482         24        800: 100%|██████████| 50/50 [00:28<00:00,  1.78it/s]\n",
            "                 Class     Images  Instances      Box(P          R      mAP50  mAP50-95): 100%|██████████| 1/1 [00:00<00:00,  2.36it/s]"
          ]
        },
        {
          "output_type": "stream",
          "name": "stdout",
          "text": [
            "                   all         26         80      0.504      0.456       0.49      0.216\n"
          ]
        },
        {
          "output_type": "stream",
          "name": "stderr",
          "text": [
            "\n"
          ]
        },
        {
          "output_type": "stream",
          "name": "stdout",
          "text": [
            "\n",
            "      Epoch    GPU_mem   box_loss   cls_loss   dfl_loss  Instances       Size\n"
          ]
        },
        {
          "output_type": "stream",
          "name": "stderr",
          "text": [
            "      54/80      4.55G     0.7166      3.411      1.463         24        800: 100%|██████████| 50/50 [00:28<00:00,  1.78it/s]\n",
            "                 Class     Images  Instances      Box(P          R      mAP50  mAP50-95): 100%|██████████| 1/1 [00:00<00:00,  2.45it/s]"
          ]
        },
        {
          "output_type": "stream",
          "name": "stdout",
          "text": [
            "                   all         26         80      0.548      0.428      0.478      0.218\n"
          ]
        },
        {
          "output_type": "stream",
          "name": "stderr",
          "text": [
            "\n"
          ]
        },
        {
          "output_type": "stream",
          "name": "stdout",
          "text": [
            "\n",
            "      Epoch    GPU_mem   box_loss   cls_loss   dfl_loss  Instances       Size\n"
          ]
        },
        {
          "output_type": "stream",
          "name": "stderr",
          "text": [
            "      55/80      4.56G     0.7211      3.345      1.455         27        800: 100%|██████████| 50/50 [00:28<00:00,  1.75it/s]\n",
            "                 Class     Images  Instances      Box(P          R      mAP50  mAP50-95): 100%|██████████| 1/1 [00:00<00:00,  2.70it/s]"
          ]
        },
        {
          "output_type": "stream",
          "name": "stdout",
          "text": [
            "                   all         26         80      0.559      0.488       0.51      0.236\n"
          ]
        },
        {
          "output_type": "stream",
          "name": "stderr",
          "text": [
            "\n"
          ]
        },
        {
          "output_type": "stream",
          "name": "stdout",
          "text": [
            "\n",
            "      Epoch    GPU_mem   box_loss   cls_loss   dfl_loss  Instances       Size\n"
          ]
        },
        {
          "output_type": "stream",
          "name": "stderr",
          "text": [
            "      56/80      4.57G     0.7132      3.438      1.479         34        800: 100%|██████████| 50/50 [00:29<00:00,  1.71it/s]\n",
            "                 Class     Images  Instances      Box(P          R      mAP50  mAP50-95): 100%|██████████| 1/1 [00:00<00:00,  2.16it/s]"
          ]
        },
        {
          "output_type": "stream",
          "name": "stdout",
          "text": [
            "                   all         26         80      0.638      0.431       0.51      0.238\n"
          ]
        },
        {
          "output_type": "stream",
          "name": "stderr",
          "text": [
            "\n"
          ]
        },
        {
          "output_type": "stream",
          "name": "stdout",
          "text": [
            "\n",
            "      Epoch    GPU_mem   box_loss   cls_loss   dfl_loss  Instances       Size\n"
          ]
        },
        {
          "output_type": "stream",
          "name": "stderr",
          "text": [
            "      57/80      4.59G     0.7036      3.262      1.429         48        800: 100%|██████████| 50/50 [00:27<00:00,  1.80it/s]\n",
            "                 Class     Images  Instances      Box(P          R      mAP50  mAP50-95): 100%|██████████| 1/1 [00:00<00:00,  2.06it/s]"
          ]
        },
        {
          "output_type": "stream",
          "name": "stdout",
          "text": [
            "                   all         26         80      0.648       0.46      0.494      0.233\n"
          ]
        },
        {
          "output_type": "stream",
          "name": "stderr",
          "text": [
            "\n"
          ]
        },
        {
          "output_type": "stream",
          "name": "stdout",
          "text": [
            "\n",
            "      Epoch    GPU_mem   box_loss   cls_loss   dfl_loss  Instances       Size\n"
          ]
        },
        {
          "output_type": "stream",
          "name": "stderr",
          "text": [
            "      58/80      4.59G     0.7123      3.336      1.461         45        800: 100%|██████████| 50/50 [00:28<00:00,  1.73it/s]\n",
            "                 Class     Images  Instances      Box(P          R      mAP50  mAP50-95): 100%|██████████| 1/1 [00:00<00:00,  2.69it/s]"
          ]
        },
        {
          "output_type": "stream",
          "name": "stdout",
          "text": [
            "                   all         26         80      0.657      0.453      0.508      0.235\n"
          ]
        },
        {
          "output_type": "stream",
          "name": "stderr",
          "text": [
            "\n"
          ]
        },
        {
          "output_type": "stream",
          "name": "stdout",
          "text": [
            "\n",
            "      Epoch    GPU_mem   box_loss   cls_loss   dfl_loss  Instances       Size\n"
          ]
        },
        {
          "output_type": "stream",
          "name": "stderr",
          "text": [
            "      59/80      4.61G     0.7056      3.334      1.442         33        800: 100%|██████████| 50/50 [00:30<00:00,  1.65it/s]\n",
            "                 Class     Images  Instances      Box(P          R      mAP50  mAP50-95): 100%|██████████| 1/1 [00:00<00:00,  2.83it/s]"
          ]
        },
        {
          "output_type": "stream",
          "name": "stdout",
          "text": [
            "                   all         26         80      0.633      0.453      0.499      0.246\n"
          ]
        },
        {
          "output_type": "stream",
          "name": "stderr",
          "text": [
            "\n"
          ]
        },
        {
          "output_type": "stream",
          "name": "stdout",
          "text": [
            "\n",
            "      Epoch    GPU_mem   box_loss   cls_loss   dfl_loss  Instances       Size\n"
          ]
        },
        {
          "output_type": "stream",
          "name": "stderr",
          "text": [
            "      60/80      4.61G     0.7168      3.359      1.465         47        800: 100%|██████████| 50/50 [00:28<00:00,  1.76it/s]\n",
            "                 Class     Images  Instances      Box(P          R      mAP50  mAP50-95): 100%|██████████| 1/1 [00:00<00:00,  2.74it/s]"
          ]
        },
        {
          "output_type": "stream",
          "name": "stdout",
          "text": [
            "                   all         26         80      0.661      0.448      0.507       0.24\n"
          ]
        },
        {
          "output_type": "stream",
          "name": "stderr",
          "text": [
            "\n"
          ]
        },
        {
          "output_type": "stream",
          "name": "stdout",
          "text": [
            "\n",
            "      Epoch    GPU_mem   box_loss   cls_loss   dfl_loss  Instances       Size\n"
          ]
        },
        {
          "output_type": "stream",
          "name": "stderr",
          "text": [
            "      61/80      4.62G     0.7038      3.269      1.441         25        800: 100%|██████████| 50/50 [00:29<00:00,  1.71it/s]\n",
            "                 Class     Images  Instances      Box(P          R      mAP50  mAP50-95): 100%|██████████| 1/1 [00:00<00:00,  2.56it/s]"
          ]
        },
        {
          "output_type": "stream",
          "name": "stdout",
          "text": [
            "                   all         26         80      0.623      0.428      0.486      0.241\n"
          ]
        },
        {
          "output_type": "stream",
          "name": "stderr",
          "text": [
            "\n"
          ]
        },
        {
          "output_type": "stream",
          "name": "stdout",
          "text": [
            "\n",
            "      Epoch    GPU_mem   box_loss   cls_loss   dfl_loss  Instances       Size\n"
          ]
        },
        {
          "output_type": "stream",
          "name": "stderr",
          "text": [
            "      62/80      4.63G     0.7137      3.371      1.456         55        800: 100%|██████████| 50/50 [00:28<00:00,  1.74it/s]\n",
            "                 Class     Images  Instances      Box(P          R      mAP50  mAP50-95): 100%|██████████| 1/1 [00:00<00:00,  2.73it/s]"
          ]
        },
        {
          "output_type": "stream",
          "name": "stdout",
          "text": [
            "                   all         26         80      0.702       0.42      0.498      0.252\n"
          ]
        },
        {
          "output_type": "stream",
          "name": "stderr",
          "text": [
            "\n"
          ]
        },
        {
          "output_type": "stream",
          "name": "stdout",
          "text": [
            "\n",
            "      Epoch    GPU_mem   box_loss   cls_loss   dfl_loss  Instances       Size\n"
          ]
        },
        {
          "output_type": "stream",
          "name": "stderr",
          "text": [
            "      63/80      4.64G     0.7061      3.279      1.444         47        800: 100%|██████████| 50/50 [00:28<00:00,  1.74it/s]\n",
            "                 Class     Images  Instances      Box(P          R      mAP50  mAP50-95): 100%|██████████| 1/1 [00:00<00:00,  2.81it/s]"
          ]
        },
        {
          "output_type": "stream",
          "name": "stdout",
          "text": [
            "                   all         26         80      0.669      0.446      0.493      0.216\n"
          ]
        },
        {
          "output_type": "stream",
          "name": "stderr",
          "text": [
            "\n"
          ]
        },
        {
          "output_type": "stream",
          "name": "stdout",
          "text": [
            "\n",
            "      Epoch    GPU_mem   box_loss   cls_loss   dfl_loss  Instances       Size\n"
          ]
        },
        {
          "output_type": "stream",
          "name": "stderr",
          "text": [
            "      64/80      4.65G     0.7014      3.268      1.444         43        800: 100%|██████████| 50/50 [00:29<00:00,  1.68it/s]\n",
            "                 Class     Images  Instances      Box(P          R      mAP50  mAP50-95): 100%|██████████| 1/1 [00:00<00:00,  1.71it/s]"
          ]
        },
        {
          "output_type": "stream",
          "name": "stdout",
          "text": [
            "                   all         26         80       0.72      0.467      0.505      0.244\n"
          ]
        },
        {
          "output_type": "stream",
          "name": "stderr",
          "text": [
            "\n"
          ]
        },
        {
          "output_type": "stream",
          "name": "stdout",
          "text": [
            "\n",
            "      Epoch    GPU_mem   box_loss   cls_loss   dfl_loss  Instances       Size\n"
          ]
        },
        {
          "output_type": "stream",
          "name": "stderr",
          "text": [
            "      65/80      4.67G     0.7164      3.383      1.479         68        800: 100%|██████████| 50/50 [00:29<00:00,  1.72it/s]\n",
            "                 Class     Images  Instances      Box(P          R      mAP50  mAP50-95): 100%|██████████| 1/1 [00:00<00:00,  2.32it/s]"
          ]
        },
        {
          "output_type": "stream",
          "name": "stdout",
          "text": [
            "                   all         26         80      0.652      0.439      0.486      0.245\n"
          ]
        },
        {
          "output_type": "stream",
          "name": "stderr",
          "text": [
            "\n"
          ]
        },
        {
          "output_type": "stream",
          "name": "stdout",
          "text": [
            "\n",
            "      Epoch    GPU_mem   box_loss   cls_loss   dfl_loss  Instances       Size\n"
          ]
        },
        {
          "output_type": "stream",
          "name": "stderr",
          "text": [
            "      66/80      4.67G     0.7074      3.316      1.459         29        800: 100%|██████████| 50/50 [00:29<00:00,  1.67it/s]\n",
            "                 Class     Images  Instances      Box(P          R      mAP50  mAP50-95): 100%|██████████| 1/1 [00:00<00:00,  2.38it/s]"
          ]
        },
        {
          "output_type": "stream",
          "name": "stdout",
          "text": [
            "                   all         26         80      0.701      0.421      0.491      0.242\n"
          ]
        },
        {
          "output_type": "stream",
          "name": "stderr",
          "text": [
            "\n"
          ]
        },
        {
          "output_type": "stream",
          "name": "stdout",
          "text": [
            "\n",
            "      Epoch    GPU_mem   box_loss   cls_loss   dfl_loss  Instances       Size\n"
          ]
        },
        {
          "output_type": "stream",
          "name": "stderr",
          "text": [
            "      67/80      4.68G      0.691      3.204      1.431         38        800: 100%|██████████| 50/50 [00:28<00:00,  1.77it/s]\n",
            "                 Class     Images  Instances      Box(P          R      mAP50  mAP50-95): 100%|██████████| 1/1 [00:00<00:00,  2.45it/s]"
          ]
        },
        {
          "output_type": "stream",
          "name": "stdout",
          "text": [
            "                   all         26         80      0.638      0.406      0.489      0.242\n"
          ]
        },
        {
          "output_type": "stream",
          "name": "stderr",
          "text": [
            "\n"
          ]
        },
        {
          "output_type": "stream",
          "name": "stdout",
          "text": [
            "\n",
            "      Epoch    GPU_mem   box_loss   cls_loss   dfl_loss  Instances       Size\n"
          ]
        },
        {
          "output_type": "stream",
          "name": "stderr",
          "text": [
            "      68/80      4.69G     0.7215      3.358       1.47         34        800: 100%|██████████| 50/50 [00:28<00:00,  1.74it/s]\n",
            "                 Class     Images  Instances      Box(P          R      mAP50  mAP50-95): 100%|██████████| 1/1 [00:00<00:00,  2.86it/s]"
          ]
        },
        {
          "output_type": "stream",
          "name": "stdout",
          "text": [
            "                   all         26         80      0.716      0.432      0.511      0.248\n"
          ]
        },
        {
          "output_type": "stream",
          "name": "stderr",
          "text": [
            "\n"
          ]
        },
        {
          "output_type": "stream",
          "name": "stdout",
          "text": [
            "\n",
            "      Epoch    GPU_mem   box_loss   cls_loss   dfl_loss  Instances       Size\n"
          ]
        },
        {
          "output_type": "stream",
          "name": "stderr",
          "text": [
            "      69/80       4.7G     0.7079      3.248      1.445         60        800: 100%|██████████| 50/50 [00:29<00:00,  1.71it/s]\n",
            "                 Class     Images  Instances      Box(P          R      mAP50  mAP50-95): 100%|██████████| 1/1 [00:00<00:00,  2.21it/s]"
          ]
        },
        {
          "output_type": "stream",
          "name": "stdout",
          "text": [
            "                   all         26         80      0.708      0.416      0.508      0.252\n"
          ]
        },
        {
          "output_type": "stream",
          "name": "stderr",
          "text": [
            "\n"
          ]
        },
        {
          "output_type": "stream",
          "name": "stdout",
          "text": [
            "\n",
            "      Epoch    GPU_mem   box_loss   cls_loss   dfl_loss  Instances       Size\n"
          ]
        },
        {
          "output_type": "stream",
          "name": "stderr",
          "text": [
            "      70/80      4.71G     0.7014      3.186      1.445         52        800: 100%|██████████| 50/50 [00:29<00:00,  1.70it/s]\n",
            "                 Class     Images  Instances      Box(P          R      mAP50  mAP50-95): 100%|██████████| 1/1 [00:00<00:00,  2.55it/s]"
          ]
        },
        {
          "output_type": "stream",
          "name": "stdout",
          "text": [
            "                   all         26         80      0.727      0.393      0.502      0.242\n"
          ]
        },
        {
          "output_type": "stream",
          "name": "stderr",
          "text": [
            "\n"
          ]
        },
        {
          "output_type": "stream",
          "name": "stdout",
          "text": [
            "Closing dataloader mosaic\n",
            "\u001b[34m\u001b[1malbumentations: \u001b[0mBlur(p=0.01, blur_limit=(3, 7)), MedianBlur(p=0.01, blur_limit=(3, 7)), ToGray(p=0.01, method='weighted_average', num_output_channels=3), CLAHE(p=0.01, clip_limit=(1.0, 4.0), tile_grid_size=(8, 8))\n",
            "\n",
            "      Epoch    GPU_mem   box_loss   cls_loss   dfl_loss  Instances       Size\n"
          ]
        },
        {
          "output_type": "stream",
          "name": "stderr",
          "text": [
            "      71/80      4.72G     0.6416      3.208      1.362         14        800: 100%|██████████| 50/50 [00:28<00:00,  1.76it/s]\n",
            "                 Class     Images  Instances      Box(P          R      mAP50  mAP50-95): 100%|██████████| 1/1 [00:00<00:00,  2.23it/s]"
          ]
        },
        {
          "output_type": "stream",
          "name": "stdout",
          "text": [
            "                   all         26         80      0.444      0.544      0.508      0.243\n"
          ]
        },
        {
          "output_type": "stream",
          "name": "stderr",
          "text": [
            "\n"
          ]
        },
        {
          "output_type": "stream",
          "name": "stdout",
          "text": [
            "\n",
            "      Epoch    GPU_mem   box_loss   cls_loss   dfl_loss  Instances       Size\n"
          ]
        },
        {
          "output_type": "stream",
          "name": "stderr",
          "text": [
            "      72/80      4.73G     0.6471      3.169      1.361         10        800: 100%|██████████| 50/50 [00:26<00:00,  1.91it/s]\n",
            "                 Class     Images  Instances      Box(P          R      mAP50  mAP50-95): 100%|██████████| 1/1 [00:00<00:00,  2.10it/s]"
          ]
        },
        {
          "output_type": "stream",
          "name": "stdout",
          "text": [
            "                   all         26         80       0.46      0.522      0.483      0.245\n"
          ]
        },
        {
          "output_type": "stream",
          "name": "stderr",
          "text": [
            "\n"
          ]
        },
        {
          "output_type": "stream",
          "name": "stdout",
          "text": [
            "\n",
            "      Epoch    GPU_mem   box_loss   cls_loss   dfl_loss  Instances       Size\n"
          ]
        },
        {
          "output_type": "stream",
          "name": "stderr",
          "text": [
            "      73/80      4.74G       0.64       3.08      1.344         17        800: 100%|██████████| 50/50 [00:26<00:00,  1.90it/s]\n",
            "                 Class     Images  Instances      Box(P          R      mAP50  mAP50-95): 100%|██████████| 1/1 [00:00<00:00,  2.44it/s]"
          ]
        },
        {
          "output_type": "stream",
          "name": "stdout",
          "text": [
            "                   all         26         80      0.453      0.495      0.487      0.243\n"
          ]
        },
        {
          "output_type": "stream",
          "name": "stderr",
          "text": [
            "\n"
          ]
        },
        {
          "output_type": "stream",
          "name": "stdout",
          "text": [
            "\n",
            "      Epoch    GPU_mem   box_loss   cls_loss   dfl_loss  Instances       Size\n"
          ]
        },
        {
          "output_type": "stream",
          "name": "stderr",
          "text": [
            "      74/80      4.75G     0.6367       3.08      1.341          7        800: 100%|██████████| 50/50 [00:25<00:00,  1.94it/s]\n",
            "                 Class     Images  Instances      Box(P          R      mAP50  mAP50-95): 100%|██████████| 1/1 [00:00<00:00,  2.60it/s]"
          ]
        },
        {
          "output_type": "stream",
          "name": "stdout",
          "text": [
            "                   all         26         80      0.454      0.481      0.463      0.239\n"
          ]
        },
        {
          "output_type": "stream",
          "name": "stderr",
          "text": [
            "\n"
          ]
        },
        {
          "output_type": "stream",
          "name": "stdout",
          "text": [
            "\n",
            "      Epoch    GPU_mem   box_loss   cls_loss   dfl_loss  Instances       Size\n"
          ]
        },
        {
          "output_type": "stream",
          "name": "stderr",
          "text": [
            "      75/80      4.76G     0.6368      3.107      1.339         58        800: 100%|██████████| 50/50 [00:25<00:00,  1.94it/s]\n",
            "                 Class     Images  Instances      Box(P          R      mAP50  mAP50-95): 100%|██████████| 1/1 [00:00<00:00,  2.63it/s]"
          ]
        },
        {
          "output_type": "stream",
          "name": "stdout",
          "text": [
            "                   all         26         80      0.525      0.462      0.492      0.246\n"
          ]
        },
        {
          "output_type": "stream",
          "name": "stderr",
          "text": [
            "\n"
          ]
        },
        {
          "output_type": "stream",
          "name": "stdout",
          "text": [
            "\n",
            "      Epoch    GPU_mem   box_loss   cls_loss   dfl_loss  Instances       Size\n"
          ]
        },
        {
          "output_type": "stream",
          "name": "stderr",
          "text": [
            "      76/80      4.77G     0.6419      3.064      1.338         17        800: 100%|██████████| 50/50 [00:25<00:00,  1.94it/s]\n",
            "                 Class     Images  Instances      Box(P          R      mAP50  mAP50-95): 100%|██████████| 1/1 [00:00<00:00,  3.54it/s]"
          ]
        },
        {
          "output_type": "stream",
          "name": "stdout",
          "text": [
            "                   all         26         80      0.502      0.472      0.489      0.243\n"
          ]
        },
        {
          "output_type": "stream",
          "name": "stderr",
          "text": [
            "\n"
          ]
        },
        {
          "output_type": "stream",
          "name": "stdout",
          "text": [
            "\n",
            "      Epoch    GPU_mem   box_loss   cls_loss   dfl_loss  Instances       Size\n"
          ]
        },
        {
          "output_type": "stream",
          "name": "stderr",
          "text": [
            "      77/80      4.79G     0.6404      3.031      1.336         12        800: 100%|██████████| 50/50 [00:25<00:00,  1.94it/s]\n",
            "                 Class     Images  Instances      Box(P          R      mAP50  mAP50-95): 100%|██████████| 1/1 [00:00<00:00,  2.72it/s]"
          ]
        },
        {
          "output_type": "stream",
          "name": "stdout",
          "text": [
            "                   all         26         80      0.488      0.484      0.487      0.242\n"
          ]
        },
        {
          "output_type": "stream",
          "name": "stderr",
          "text": [
            "\n"
          ]
        },
        {
          "output_type": "stream",
          "name": "stdout",
          "text": [
            "\n",
            "      Epoch    GPU_mem   box_loss   cls_loss   dfl_loss  Instances       Size\n"
          ]
        },
        {
          "output_type": "stream",
          "name": "stderr",
          "text": [
            "      78/80      4.79G     0.6404      3.024      1.344         16        800: 100%|██████████| 50/50 [00:25<00:00,  1.94it/s]\n",
            "                 Class     Images  Instances      Box(P          R      mAP50  mAP50-95): 100%|██████████| 1/1 [00:00<00:00,  2.02it/s]"
          ]
        },
        {
          "output_type": "stream",
          "name": "stdout",
          "text": [
            "                   all         26         80      0.564      0.479      0.497      0.247\n"
          ]
        },
        {
          "output_type": "stream",
          "name": "stderr",
          "text": [
            "\n"
          ]
        },
        {
          "output_type": "stream",
          "name": "stdout",
          "text": [
            "\n",
            "      Epoch    GPU_mem   box_loss   cls_loss   dfl_loss  Instances       Size\n"
          ]
        },
        {
          "output_type": "stream",
          "name": "stderr",
          "text": [
            "      79/80      4.81G     0.6376      3.066      1.342          7        800: 100%|██████████| 50/50 [00:25<00:00,  1.99it/s]\n",
            "                 Class     Images  Instances      Box(P          R      mAP50  mAP50-95): 100%|██████████| 1/1 [00:00<00:00,  1.47it/s]"
          ]
        },
        {
          "output_type": "stream",
          "name": "stdout",
          "text": [
            "                   all         26         80      0.492      0.489      0.496      0.245\n"
          ]
        },
        {
          "output_type": "stream",
          "name": "stderr",
          "text": [
            "\n"
          ]
        },
        {
          "output_type": "stream",
          "name": "stdout",
          "text": [
            "\n",
            "      Epoch    GPU_mem   box_loss   cls_loss   dfl_loss  Instances       Size\n"
          ]
        },
        {
          "output_type": "stream",
          "name": "stderr",
          "text": [
            "      80/80      4.81G     0.6406      3.035      1.343         40        800: 100%|██████████| 50/50 [00:26<00:00,  1.88it/s]\n",
            "                 Class     Images  Instances      Box(P          R      mAP50  mAP50-95): 100%|██████████| 1/1 [00:00<00:00,  1.58it/s]"
          ]
        },
        {
          "output_type": "stream",
          "name": "stdout",
          "text": [
            "                   all         26         80      0.521      0.489      0.495      0.246\n"
          ]
        },
        {
          "output_type": "stream",
          "name": "stderr",
          "text": [
            "\n"
          ]
        },
        {
          "output_type": "stream",
          "name": "stdout",
          "text": [
            "\n",
            "80 epochs completed in 0.666 hours.\n",
            "Optimizer stripped from runs/yolov11_custom/weights/last.pt, 5.5MB\n",
            "Optimizer stripped from runs/yolov11_custom/weights/best.pt, 5.5MB\n",
            "\n",
            "Validating runs/yolov11_custom/weights/best.pt...\n",
            "Ultralytics 8.3.89 🚀 Python-3.11.12 torch-2.6.0+cu124 CUDA:0 (Tesla T4, 15095MiB)\n",
            "YOLO11n summary (fused): 100 layers, 2,582,932 parameters, 0 gradients, 6.3 GFLOPs\n"
          ]
        },
        {
          "output_type": "stream",
          "name": "stderr",
          "text": [
            "                 Class     Images  Instances      Box(P          R      mAP50  mAP50-95): 100%|██████████| 1/1 [00:00<00:00,  1.88it/s]\n"
          ]
        },
        {
          "output_type": "stream",
          "name": "stdout",
          "text": [
            "                   all         26         80       0.87      0.333      0.474      0.229\n",
            "                  hole          3          5      0.834        0.6      0.611      0.311\n",
            "                 crack         23         60      0.819        0.2      0.448      0.194\n",
            "        block cracking          9         15      0.955        0.2      0.364      0.182\n",
            "Speed: 0.3ms preprocess, 14.9ms inference, 0.0ms loss, 1.8ms postprocess per image\n",
            "Results saved to \u001b[1mruns/yolov11_custom\u001b[0m\n"
          ]
        }
      ]
    },
    {
      "cell_type": "code",
      "source": [
        "model = YOLO('/content/runs/yolov11_custom/weights/best.pt')  # Load the best model from previous training\n",
        "results = model.train(\n",
        "    data=CONFIG_YAML_FILE,\n",
        "    epochs=50,\n",
        "    imgsz=800,\n",
        "    batch=max(4, BATCH_SIZE//2),  # Smaller batch size for better generalization\n",
        "    patience=20,\n",
        "    project=\"runs\",\n",
        "    name=\"yolov11_custom_finetuned\",\n",
        "    optimizer='SGD',\n",
        "    momentum=0.9,\n",
        "    weight_decay=0.0005,\n",
        "    lr0=0.0005,        # Very low LR for fine-tuning\n",
        "    lrf=0.001,\n",
        "    cos_lr=True,\n",
        "    augment=True,\n",
        "    mosaic=0.1,        # Less intense mosaic\n",
        "    mixup=0.4,\n",
        "    copy_paste=0.6,    # Very intense copy-paste for rare classes\n",
        "    cls=3,           # Very high weight for classification\n",
        "    box=2.5,           # Low weight for box loss\n",
        "    iou=0.3,           # Lower IoU threshold\n",
        "    device=device,\n",
        "    workers=WORKERS\n",
        ")"
      ],
      "metadata": {
        "colab": {
          "base_uri": "https://localhost:8080/"
        },
        "id": "dLvHjEz6QW-T",
        "outputId": "8e140639-b89b-4eeb-bbbb-1c716f5a48e0"
      },
      "execution_count": null,
      "outputs": [
        {
          "output_type": "stream",
          "name": "stdout",
          "text": [
            "New https://pypi.org/project/ultralytics/8.3.130 available 😃 Update with 'pip install -U ultralytics'\n",
            "Ultralytics 8.3.89 🚀 Python-3.11.12 torch-2.6.0+cu124 CUDA:0 (Tesla T4, 15095MiB)\n",
            "\u001b[34m\u001b[1mengine/trainer: \u001b[0mtask=detect, mode=train, model=/content/runs/yolov11_custom/weights/best.pt, data=./config/data.yaml, epochs=50, time=None, patience=20, batch=8, imgsz=800, save=True, save_period=-1, cache=False, device=0, workers=8, project=runs, name=yolov11_custom_finetuned, exist_ok=False, pretrained=True, optimizer=SGD, verbose=True, seed=0, deterministic=True, single_cls=False, rect=False, cos_lr=True, close_mosaic=10, resume=False, amp=True, fraction=1.0, profile=False, freeze=None, multi_scale=False, overlap_mask=True, mask_ratio=4, dropout=0.0, val=True, split=val, save_json=False, save_hybrid=False, conf=None, iou=0.3, max_det=300, half=False, dnn=False, plots=True, source=None, vid_stride=1, stream_buffer=False, visualize=False, augment=True, agnostic_nms=False, classes=None, retina_masks=False, embed=None, show=False, save_frames=False, save_txt=False, save_conf=False, save_crop=False, show_labels=True, show_conf=True, show_boxes=True, line_width=None, format=torchscript, keras=False, optimize=False, int8=False, dynamic=False, simplify=True, opset=None, workspace=None, nms=False, lr0=0.0005, lrf=0.001, momentum=0.9, weight_decay=0.0005, warmup_epochs=3.0, warmup_momentum=0.8, warmup_bias_lr=0.1, box=2.5, cls=3, dfl=1.5, pose=12.0, kobj=1.0, nbs=64, hsv_h=0.015, hsv_s=0.7, hsv_v=0.4, degrees=0.0, translate=0.1, scale=0.5, shear=0.0, perspective=0.0, flipud=0.0, fliplr=0.5, bgr=0.0, mosaic=0.1, mixup=0.4, copy_paste=0.6, copy_paste_mode=flip, auto_augment=randaugment, erasing=0.4, crop_fraction=1.0, cfg=None, tracker=botsort.yaml, save_dir=runs/yolov11_custom_finetuned\n",
            "\n",
            "                   from  n    params  module                                       arguments                     \n",
            "  0                  -1  1       464  ultralytics.nn.modules.conv.Conv             [3, 16, 3, 2]                 \n",
            "  1                  -1  1      4672  ultralytics.nn.modules.conv.Conv             [16, 32, 3, 2]                \n",
            "  2                  -1  1      6640  ultralytics.nn.modules.block.C3k2            [32, 64, 1, False, 0.25]      \n",
            "  3                  -1  1     36992  ultralytics.nn.modules.conv.Conv             [64, 64, 3, 2]                \n",
            "  4                  -1  1     26080  ultralytics.nn.modules.block.C3k2            [64, 128, 1, False, 0.25]     \n",
            "  5                  -1  1    147712  ultralytics.nn.modules.conv.Conv             [128, 128, 3, 2]              \n",
            "  6                  -1  1     87040  ultralytics.nn.modules.block.C3k2            [128, 128, 1, True]           \n",
            "  7                  -1  1    295424  ultralytics.nn.modules.conv.Conv             [128, 256, 3, 2]              \n",
            "  8                  -1  1    346112  ultralytics.nn.modules.block.C3k2            [256, 256, 1, True]           \n",
            "  9                  -1  1    164608  ultralytics.nn.modules.block.SPPF            [256, 256, 5]                 \n",
            " 10                  -1  1    249728  ultralytics.nn.modules.block.C2PSA           [256, 256, 1]                 \n",
            " 11                  -1  1         0  torch.nn.modules.upsampling.Upsample         [None, 2, 'nearest']          \n",
            " 12             [-1, 6]  1         0  ultralytics.nn.modules.conv.Concat           [1]                           \n",
            " 13                  -1  1    111296  ultralytics.nn.modules.block.C3k2            [384, 128, 1, False]          \n",
            " 14                  -1  1         0  torch.nn.modules.upsampling.Upsample         [None, 2, 'nearest']          \n",
            " 15             [-1, 4]  1         0  ultralytics.nn.modules.conv.Concat           [1]                           \n",
            " 16                  -1  1     32096  ultralytics.nn.modules.block.C3k2            [256, 64, 1, False]           \n",
            " 17                  -1  1     36992  ultralytics.nn.modules.conv.Conv             [64, 64, 3, 2]                \n",
            " 18            [-1, 13]  1         0  ultralytics.nn.modules.conv.Concat           [1]                           \n",
            " 19                  -1  1     86720  ultralytics.nn.modules.block.C3k2            [192, 128, 1, False]          \n",
            " 20                  -1  1    147712  ultralytics.nn.modules.conv.Conv             [128, 128, 3, 2]              \n",
            " 21            [-1, 10]  1         0  ultralytics.nn.modules.conv.Concat           [1]                           \n",
            " 22                  -1  1    378880  ultralytics.nn.modules.block.C3k2            [384, 256, 1, True]           \n",
            " 23        [16, 19, 22]  1    431452  ultralytics.nn.modules.head.Detect           [4, [64, 128, 256]]           \n",
            "YOLO11n summary: 181 layers, 2,590,620 parameters, 2,590,604 gradients, 6.4 GFLOPs\n",
            "\n",
            "Transferred 499/499 items from pretrained weights\n",
            "\u001b[34m\u001b[1mTensorBoard: \u001b[0mStart with 'tensorboard --logdir runs/yolov11_custom_finetuned', view at http://localhost:6006/\n",
            "Freezing layer 'model.23.dfl.conv.weight'\n",
            "\u001b[34m\u001b[1mAMP: \u001b[0mrunning Automatic Mixed Precision (AMP) checks...\n",
            "\u001b[34m\u001b[1mAMP: \u001b[0mchecks passed ✅\n"
          ]
        },
        {
          "output_type": "stream",
          "name": "stderr",
          "text": [
            "\u001b[34m\u001b[1mtrain: \u001b[0mScanning /content/train_data/labels/train.cache... 790 images, 0 backgrounds, 0 corrupt: 100%|██████████| 790/790 [00:00<?, ?it/s]"
          ]
        },
        {
          "output_type": "stream",
          "name": "stdout",
          "text": [
            "\u001b[34m\u001b[1mtrain: \u001b[0mWARNING ⚠️ /content/train_data/images/train/nwm_2_10.jpg: corrupt JPEG restored and saved\n",
            "\u001b[34m\u001b[1malbumentations: \u001b[0mBlur(p=0.01, blur_limit=(3, 7)), MedianBlur(p=0.01, blur_limit=(3, 7)), ToGray(p=0.01, method='weighted_average', num_output_channels=3), CLAHE(p=0.01, clip_limit=(1.0, 4.0), tile_grid_size=(8, 8))\n"
          ]
        },
        {
          "output_type": "stream",
          "name": "stderr",
          "text": [
            "\n",
            "\u001b[34m\u001b[1mval: \u001b[0mScanning /content/train_data/labels/val.cache... 26 images, 0 backgrounds, 0 corrupt: 100%|██████████| 26/26 [00:00<?, ?it/s]\n"
          ]
        },
        {
          "output_type": "stream",
          "name": "stdout",
          "text": [
            "Plotting labels to runs/yolov11_custom_finetuned/labels.jpg... \n",
            "\u001b[34m\u001b[1moptimizer:\u001b[0m SGD(lr=0.0005, momentum=0.9) with parameter groups 81 weight(decay=0.0), 88 weight(decay=0.0005), 87 bias(decay=0.0)\n",
            "\u001b[34m\u001b[1mTensorBoard: \u001b[0mmodel graph visualization added ✅\n",
            "Image sizes 800 train, 800 val\n",
            "Using 2 dataloader workers\n",
            "Logging results to \u001b[1mruns/yolov11_custom_finetuned\u001b[0m\n",
            "Starting training for 50 epochs...\n",
            "\n",
            "      Epoch    GPU_mem   box_loss   cls_loss   dfl_loss  Instances       Size\n"
          ]
        },
        {
          "output_type": "stream",
          "name": "stderr",
          "text": [
            "       1/50      2.27G     0.6207      11.85       1.64         46        800: 100%|██████████| 99/99 [00:36<00:00,  2.74it/s]\n",
            "                 Class     Images  Instances      Box(P          R      mAP50  mAP50-95): 100%|██████████| 2/2 [00:01<00:00,  1.70it/s]"
          ]
        },
        {
          "output_type": "stream",
          "name": "stdout",
          "text": [
            "                   all         26         80      0.447      0.439      0.437      0.232\n"
          ]
        },
        {
          "output_type": "stream",
          "name": "stderr",
          "text": [
            "\n"
          ]
        },
        {
          "output_type": "stream",
          "name": "stdout",
          "text": [
            "\n",
            "      Epoch    GPU_mem   box_loss   cls_loss   dfl_loss  Instances       Size\n"
          ]
        },
        {
          "output_type": "stream",
          "name": "stderr",
          "text": [
            "       2/50      2.33G      0.556      11.03       1.54         46        800: 100%|██████████| 99/99 [00:33<00:00,  2.97it/s]\n",
            "                 Class     Images  Instances      Box(P          R      mAP50  mAP50-95): 100%|██████████| 2/2 [00:00<00:00,  4.09it/s]"
          ]
        },
        {
          "output_type": "stream",
          "name": "stdout",
          "text": [
            "                   all         26         80       0.49      0.561      0.496      0.253\n"
          ]
        },
        {
          "output_type": "stream",
          "name": "stderr",
          "text": [
            "\n"
          ]
        },
        {
          "output_type": "stream",
          "name": "stdout",
          "text": [
            "\n",
            "      Epoch    GPU_mem   box_loss   cls_loss   dfl_loss  Instances       Size\n"
          ]
        },
        {
          "output_type": "stream",
          "name": "stderr",
          "text": [
            "       3/50      2.33G     0.5373      10.99      1.547         33        800: 100%|██████████| 99/99 [00:33<00:00,  2.92it/s]\n",
            "                 Class     Images  Instances      Box(P          R      mAP50  mAP50-95): 100%|██████████| 2/2 [00:00<00:00,  4.04it/s]"
          ]
        },
        {
          "output_type": "stream",
          "name": "stdout",
          "text": [
            "                   all         26         80      0.517      0.532      0.457      0.252\n"
          ]
        },
        {
          "output_type": "stream",
          "name": "stderr",
          "text": [
            "\n"
          ]
        },
        {
          "output_type": "stream",
          "name": "stdout",
          "text": [
            "\n",
            "      Epoch    GPU_mem   box_loss   cls_loss   dfl_loss  Instances       Size\n"
          ]
        },
        {
          "output_type": "stream",
          "name": "stderr",
          "text": [
            "       4/50      2.33G     0.5279      11.03      1.531         38        800: 100%|██████████| 99/99 [00:33<00:00,  2.95it/s]\n",
            "                 Class     Images  Instances      Box(P          R      mAP50  mAP50-95): 100%|██████████| 2/2 [00:00<00:00,  4.83it/s]"
          ]
        },
        {
          "output_type": "stream",
          "name": "stdout",
          "text": [
            "                   all         26         80      0.552      0.361      0.407      0.234\n"
          ]
        },
        {
          "output_type": "stream",
          "name": "stderr",
          "text": [
            "\n"
          ]
        },
        {
          "output_type": "stream",
          "name": "stdout",
          "text": [
            "\n",
            "      Epoch    GPU_mem   box_loss   cls_loss   dfl_loss  Instances       Size\n"
          ]
        },
        {
          "output_type": "stream",
          "name": "stderr",
          "text": [
            "       5/50       2.4G     0.5245      10.89       1.51         24        800: 100%|██████████| 99/99 [00:32<00:00,  3.04it/s]\n",
            "                 Class     Images  Instances      Box(P          R      mAP50  mAP50-95): 100%|██████████| 2/2 [00:00<00:00,  3.58it/s]"
          ]
        },
        {
          "output_type": "stream",
          "name": "stdout",
          "text": [
            "                   all         26         80      0.444      0.433       0.42      0.248\n"
          ]
        },
        {
          "output_type": "stream",
          "name": "stderr",
          "text": [
            "\n"
          ]
        },
        {
          "output_type": "stream",
          "name": "stdout",
          "text": [
            "\n",
            "      Epoch    GPU_mem   box_loss   cls_loss   dfl_loss  Instances       Size\n"
          ]
        },
        {
          "output_type": "stream",
          "name": "stderr",
          "text": [
            "       6/50       2.4G     0.5242      11.09      1.541         15        800: 100%|██████████| 99/99 [00:34<00:00,  2.90it/s]\n",
            "                 Class     Images  Instances      Box(P          R      mAP50  mAP50-95): 100%|██████████| 2/2 [00:00<00:00,  2.42it/s]"
          ]
        },
        {
          "output_type": "stream",
          "name": "stdout",
          "text": [
            "                   all         26         80      0.505      0.504      0.468      0.264\n"
          ]
        },
        {
          "output_type": "stream",
          "name": "stderr",
          "text": [
            "\n"
          ]
        },
        {
          "output_type": "stream",
          "name": "stdout",
          "text": [
            "\n",
            "      Epoch    GPU_mem   box_loss   cls_loss   dfl_loss  Instances       Size\n"
          ]
        },
        {
          "output_type": "stream",
          "name": "stderr",
          "text": [
            "       7/50       2.4G     0.4983      10.46      1.476         16        800: 100%|██████████| 99/99 [00:31<00:00,  3.11it/s]\n",
            "                 Class     Images  Instances      Box(P          R      mAP50  mAP50-95): 100%|██████████| 2/2 [00:00<00:00,  4.24it/s]"
          ]
        },
        {
          "output_type": "stream",
          "name": "stdout",
          "text": [
            "                   all         26         80      0.519      0.517      0.473      0.256\n"
          ]
        },
        {
          "output_type": "stream",
          "name": "stderr",
          "text": [
            "\n"
          ]
        },
        {
          "output_type": "stream",
          "name": "stdout",
          "text": [
            "\n",
            "      Epoch    GPU_mem   box_loss   cls_loss   dfl_loss  Instances       Size\n"
          ]
        },
        {
          "output_type": "stream",
          "name": "stderr",
          "text": [
            "       8/50       2.4G     0.5149      10.81      1.519         36        800: 100%|██████████| 99/99 [00:32<00:00,  3.08it/s]\n",
            "                 Class     Images  Instances      Box(P          R      mAP50  mAP50-95): 100%|██████████| 2/2 [00:00<00:00,  3.41it/s]"
          ]
        },
        {
          "output_type": "stream",
          "name": "stdout",
          "text": [
            "                   all         26         80      0.521      0.522      0.484      0.276\n"
          ]
        },
        {
          "output_type": "stream",
          "name": "stderr",
          "text": [
            "\n"
          ]
        },
        {
          "output_type": "stream",
          "name": "stdout",
          "text": [
            "\n",
            "      Epoch    GPU_mem   box_loss   cls_loss   dfl_loss  Instances       Size\n"
          ]
        },
        {
          "output_type": "stream",
          "name": "stderr",
          "text": [
            "       9/50       2.4G     0.5146      10.72      1.504         33        800: 100%|██████████| 99/99 [00:35<00:00,  2.82it/s]\n",
            "                 Class     Images  Instances      Box(P          R      mAP50  mAP50-95): 100%|██████████| 2/2 [00:00<00:00,  4.19it/s]"
          ]
        },
        {
          "output_type": "stream",
          "name": "stdout",
          "text": [
            "                   all         26         80      0.533      0.546      0.504      0.279\n"
          ]
        },
        {
          "output_type": "stream",
          "name": "stderr",
          "text": [
            "\n"
          ]
        },
        {
          "output_type": "stream",
          "name": "stdout",
          "text": [
            "\n",
            "      Epoch    GPU_mem   box_loss   cls_loss   dfl_loss  Instances       Size\n"
          ]
        },
        {
          "output_type": "stream",
          "name": "stderr",
          "text": [
            "      10/50       2.4G     0.5119       10.7      1.488         33        800: 100%|██████████| 99/99 [00:31<00:00,  3.11it/s]\n",
            "                 Class     Images  Instances      Box(P          R      mAP50  mAP50-95): 100%|██████████| 2/2 [00:00<00:00,  3.67it/s]"
          ]
        },
        {
          "output_type": "stream",
          "name": "stdout",
          "text": [
            "                   all         26         80      0.611      0.537      0.478       0.26\n"
          ]
        },
        {
          "output_type": "stream",
          "name": "stderr",
          "text": [
            "\n"
          ]
        },
        {
          "output_type": "stream",
          "name": "stdout",
          "text": [
            "\n",
            "      Epoch    GPU_mem   box_loss   cls_loss   dfl_loss  Instances       Size\n"
          ]
        },
        {
          "output_type": "stream",
          "name": "stderr",
          "text": [
            "      11/50       2.4G      0.504      10.38      1.465         20        800: 100%|██████████| 99/99 [00:33<00:00,  2.94it/s]\n",
            "                 Class     Images  Instances      Box(P          R      mAP50  mAP50-95): 100%|██████████| 2/2 [00:00<00:00,  3.07it/s]"
          ]
        },
        {
          "output_type": "stream",
          "name": "stdout",
          "text": [
            "                   all         26         80      0.607      0.535      0.509       0.27\n"
          ]
        },
        {
          "output_type": "stream",
          "name": "stderr",
          "text": [
            "\n"
          ]
        },
        {
          "output_type": "stream",
          "name": "stdout",
          "text": [
            "\n",
            "      Epoch    GPU_mem   box_loss   cls_loss   dfl_loss  Instances       Size\n"
          ]
        },
        {
          "output_type": "stream",
          "name": "stderr",
          "text": [
            "      12/50       2.4G     0.5125       10.7      1.491         46        800: 100%|██████████| 99/99 [00:32<00:00,  3.08it/s]\n",
            "                 Class     Images  Instances      Box(P          R      mAP50  mAP50-95): 100%|██████████| 2/2 [00:00<00:00,  5.26it/s]\n"
          ]
        },
        {
          "output_type": "stream",
          "name": "stdout",
          "text": [
            "                   all         26         80      0.644      0.434      0.467      0.253\n",
            "\n",
            "      Epoch    GPU_mem   box_loss   cls_loss   dfl_loss  Instances       Size\n"
          ]
        },
        {
          "output_type": "stream",
          "name": "stderr",
          "text": [
            "      13/50       2.4G     0.5093       10.7      1.488         31        800: 100%|██████████| 99/99 [00:32<00:00,  3.08it/s]\n",
            "                 Class     Images  Instances      Box(P          R      mAP50  mAP50-95): 100%|██████████| 2/2 [00:00<00:00,  5.00it/s]"
          ]
        },
        {
          "output_type": "stream",
          "name": "stdout",
          "text": [
            "                   all         26         80       0.65       0.49      0.499      0.258\n"
          ]
        },
        {
          "output_type": "stream",
          "name": "stderr",
          "text": [
            "\n"
          ]
        },
        {
          "output_type": "stream",
          "name": "stdout",
          "text": [
            "\n",
            "      Epoch    GPU_mem   box_loss   cls_loss   dfl_loss  Instances       Size\n"
          ]
        },
        {
          "output_type": "stream",
          "name": "stderr",
          "text": [
            "      14/50       2.4G      0.517      10.78      1.515         26        800: 100%|██████████| 99/99 [00:34<00:00,  2.89it/s]\n",
            "                 Class     Images  Instances      Box(P          R      mAP50  mAP50-95): 100%|██████████| 2/2 [00:00<00:00,  3.61it/s]"
          ]
        },
        {
          "output_type": "stream",
          "name": "stdout",
          "text": [
            "                   all         26         80      0.551      0.543      0.509      0.268\n"
          ]
        },
        {
          "output_type": "stream",
          "name": "stderr",
          "text": [
            "\n"
          ]
        },
        {
          "output_type": "stream",
          "name": "stdout",
          "text": [
            "\n",
            "      Epoch    GPU_mem   box_loss   cls_loss   dfl_loss  Instances       Size\n"
          ]
        },
        {
          "output_type": "stream",
          "name": "stderr",
          "text": [
            "      15/50       2.4G     0.5015      10.36      1.472         32        800: 100%|██████████| 99/99 [00:34<00:00,  2.88it/s]\n",
            "                 Class     Images  Instances      Box(P          R      mAP50  mAP50-95): 100%|██████████| 2/2 [00:00<00:00,  3.72it/s]"
          ]
        },
        {
          "output_type": "stream",
          "name": "stdout",
          "text": [
            "                   all         26         80      0.524      0.511      0.472      0.265\n"
          ]
        },
        {
          "output_type": "stream",
          "name": "stderr",
          "text": [
            "\n"
          ]
        },
        {
          "output_type": "stream",
          "name": "stdout",
          "text": [
            "\n",
            "      Epoch    GPU_mem   box_loss   cls_loss   dfl_loss  Instances       Size\n"
          ]
        },
        {
          "output_type": "stream",
          "name": "stderr",
          "text": [
            "      16/50       2.4G     0.5192      10.78      1.523         32        800: 100%|██████████| 99/99 [00:33<00:00,  2.92it/s]\n",
            "                 Class     Images  Instances      Box(P          R      mAP50  mAP50-95): 100%|██████████| 2/2 [00:00<00:00,  5.63it/s]"
          ]
        },
        {
          "output_type": "stream",
          "name": "stdout",
          "text": [
            "                   all         26         80      0.479        0.5      0.478      0.274\n"
          ]
        },
        {
          "output_type": "stream",
          "name": "stderr",
          "text": [
            "\n"
          ]
        },
        {
          "output_type": "stream",
          "name": "stdout",
          "text": [
            "\n",
            "      Epoch    GPU_mem   box_loss   cls_loss   dfl_loss  Instances       Size\n"
          ]
        },
        {
          "output_type": "stream",
          "name": "stderr",
          "text": [
            "      17/50       2.4G     0.5147      10.78      1.525         48        800: 100%|██████████| 99/99 [00:33<00:00,  3.00it/s]\n",
            "                 Class     Images  Instances      Box(P          R      mAP50  mAP50-95): 100%|██████████| 2/2 [00:00<00:00,  3.86it/s]"
          ]
        },
        {
          "output_type": "stream",
          "name": "stdout",
          "text": [
            "                   all         26         80      0.574      0.516      0.496      0.272\n"
          ]
        },
        {
          "output_type": "stream",
          "name": "stderr",
          "text": [
            "\n"
          ]
        },
        {
          "output_type": "stream",
          "name": "stdout",
          "text": [
            "\n",
            "      Epoch    GPU_mem   box_loss   cls_loss   dfl_loss  Instances       Size\n"
          ]
        },
        {
          "output_type": "stream",
          "name": "stderr",
          "text": [
            "      18/50       2.4G     0.5036      10.44      1.495         36        800: 100%|██████████| 99/99 [00:33<00:00,  3.00it/s]\n",
            "                 Class     Images  Instances      Box(P          R      mAP50  mAP50-95): 100%|██████████| 2/2 [00:00<00:00,  2.55it/s]"
          ]
        },
        {
          "output_type": "stream",
          "name": "stdout",
          "text": [
            "                   all         26         80      0.493      0.512      0.487      0.246\n"
          ]
        },
        {
          "output_type": "stream",
          "name": "stderr",
          "text": [
            "\n"
          ]
        },
        {
          "output_type": "stream",
          "name": "stdout",
          "text": [
            "\n",
            "      Epoch    GPU_mem   box_loss   cls_loss   dfl_loss  Instances       Size\n"
          ]
        },
        {
          "output_type": "stream",
          "name": "stderr",
          "text": [
            "      19/50       2.4G     0.5075       10.6      1.499         44        800: 100%|██████████| 99/99 [00:32<00:00,  3.06it/s]\n",
            "                 Class     Images  Instances      Box(P          R      mAP50  mAP50-95): 100%|██████████| 2/2 [00:00<00:00,  3.53it/s]"
          ]
        },
        {
          "output_type": "stream",
          "name": "stdout",
          "text": [
            "                   all         26         80      0.532      0.498      0.454      0.263\n"
          ]
        },
        {
          "output_type": "stream",
          "name": "stderr",
          "text": [
            "\n"
          ]
        },
        {
          "output_type": "stream",
          "name": "stdout",
          "text": [
            "\n",
            "      Epoch    GPU_mem   box_loss   cls_loss   dfl_loss  Instances       Size\n"
          ]
        },
        {
          "output_type": "stream",
          "name": "stderr",
          "text": [
            "      20/50       2.4G     0.5022      10.39      1.488         31        800: 100%|██████████| 99/99 [00:32<00:00,  3.06it/s]\n",
            "                 Class     Images  Instances      Box(P          R      mAP50  mAP50-95): 100%|██████████| 2/2 [00:00<00:00,  4.33it/s]"
          ]
        },
        {
          "output_type": "stream",
          "name": "stdout",
          "text": [
            "                   all         26         80       0.53      0.508      0.473      0.258\n"
          ]
        },
        {
          "output_type": "stream",
          "name": "stderr",
          "text": [
            "\n"
          ]
        },
        {
          "output_type": "stream",
          "name": "stdout",
          "text": [
            "\n",
            "      Epoch    GPU_mem   box_loss   cls_loss   dfl_loss  Instances       Size\n"
          ]
        },
        {
          "output_type": "stream",
          "name": "stderr",
          "text": [
            "      21/50       2.4G     0.5133      10.56      1.502         24        800: 100%|██████████| 99/99 [00:35<00:00,  2.79it/s]\n",
            "                 Class     Images  Instances      Box(P          R      mAP50  mAP50-95): 100%|██████████| 2/2 [00:00<00:00,  3.53it/s]"
          ]
        },
        {
          "output_type": "stream",
          "name": "stdout",
          "text": [
            "                   all         26         80      0.534      0.493      0.482      0.257\n"
          ]
        },
        {
          "output_type": "stream",
          "name": "stderr",
          "text": [
            "\n"
          ]
        },
        {
          "output_type": "stream",
          "name": "stdout",
          "text": [
            "\n",
            "      Epoch    GPU_mem   box_loss   cls_loss   dfl_loss  Instances       Size\n"
          ]
        },
        {
          "output_type": "stream",
          "name": "stderr",
          "text": [
            "      22/50       2.4G     0.5008      10.31      1.482         60        800: 100%|██████████| 99/99 [00:32<00:00,  3.01it/s]\n",
            "                 Class     Images  Instances      Box(P          R      mAP50  mAP50-95): 100%|██████████| 2/2 [00:00<00:00,  4.82it/s]"
          ]
        },
        {
          "output_type": "stream",
          "name": "stdout",
          "text": [
            "                   all         26         80      0.606      0.506      0.491      0.267\n"
          ]
        },
        {
          "output_type": "stream",
          "name": "stderr",
          "text": [
            "\n"
          ]
        },
        {
          "output_type": "stream",
          "name": "stdout",
          "text": [
            "\n",
            "      Epoch    GPU_mem   box_loss   cls_loss   dfl_loss  Instances       Size\n"
          ]
        },
        {
          "output_type": "stream",
          "name": "stderr",
          "text": [
            "      23/50       2.4G     0.5081      10.38      1.491         26        800: 100%|██████████| 99/99 [00:33<00:00,  2.95it/s]\n",
            "                 Class     Images  Instances      Box(P          R      mAP50  mAP50-95): 100%|██████████| 2/2 [00:00<00:00,  5.00it/s]"
          ]
        },
        {
          "output_type": "stream",
          "name": "stdout",
          "text": [
            "                   all         26         80      0.482      0.511       0.45      0.262\n"
          ]
        },
        {
          "output_type": "stream",
          "name": "stderr",
          "text": [
            "\n"
          ]
        },
        {
          "output_type": "stream",
          "name": "stdout",
          "text": [
            "\n",
            "      Epoch    GPU_mem   box_loss   cls_loss   dfl_loss  Instances       Size\n"
          ]
        },
        {
          "output_type": "stream",
          "name": "stderr",
          "text": [
            "      24/50       2.4G     0.5093      10.55      1.506         25        800: 100%|██████████| 99/99 [00:32<00:00,  3.05it/s]\n",
            "                 Class     Images  Instances      Box(P          R      mAP50  mAP50-95): 100%|██████████| 2/2 [00:00<00:00,  3.77it/s]"
          ]
        },
        {
          "output_type": "stream",
          "name": "stdout",
          "text": [
            "                   all         26         80      0.573      0.567      0.492      0.283\n"
          ]
        },
        {
          "output_type": "stream",
          "name": "stderr",
          "text": [
            "\n"
          ]
        },
        {
          "output_type": "stream",
          "name": "stdout",
          "text": [
            "\n",
            "      Epoch    GPU_mem   box_loss   cls_loss   dfl_loss  Instances       Size\n"
          ]
        },
        {
          "output_type": "stream",
          "name": "stderr",
          "text": [
            "      25/50       2.4G     0.5058      10.47      1.491         74        800: 100%|██████████| 99/99 [00:33<00:00,  2.98it/s]\n",
            "                 Class     Images  Instances      Box(P          R      mAP50  mAP50-95): 100%|██████████| 2/2 [00:00<00:00,  2.70it/s]"
          ]
        },
        {
          "output_type": "stream",
          "name": "stdout",
          "text": [
            "                   all         26         80      0.577      0.477      0.503      0.266\n"
          ]
        },
        {
          "output_type": "stream",
          "name": "stderr",
          "text": [
            "\n"
          ]
        },
        {
          "output_type": "stream",
          "name": "stdout",
          "text": [
            "\n",
            "      Epoch    GPU_mem   box_loss   cls_loss   dfl_loss  Instances       Size\n"
          ]
        },
        {
          "output_type": "stream",
          "name": "stderr",
          "text": [
            "      26/50       2.4G     0.5079      10.29      1.488         42        800: 100%|██████████| 99/99 [00:33<00:00,  2.98it/s]\n",
            "                 Class     Images  Instances      Box(P          R      mAP50  mAP50-95): 100%|██████████| 2/2 [00:00<00:00,  2.76it/s]"
          ]
        },
        {
          "output_type": "stream",
          "name": "stdout",
          "text": [
            "                   all         26         80      0.578      0.483      0.469      0.262\n"
          ]
        },
        {
          "output_type": "stream",
          "name": "stderr",
          "text": [
            "\n"
          ]
        },
        {
          "output_type": "stream",
          "name": "stdout",
          "text": [
            "\n",
            "      Epoch    GPU_mem   box_loss   cls_loss   dfl_loss  Instances       Size\n"
          ]
        },
        {
          "output_type": "stream",
          "name": "stderr",
          "text": [
            "      27/50       2.4G     0.4999      10.23      1.482         22        800: 100%|██████████| 99/99 [00:34<00:00,  2.87it/s]\n",
            "                 Class     Images  Instances      Box(P          R      mAP50  mAP50-95): 100%|██████████| 2/2 [00:00<00:00,  2.48it/s]"
          ]
        },
        {
          "output_type": "stream",
          "name": "stdout",
          "text": [
            "                   all         26         80       0.57      0.521      0.488      0.263\n"
          ]
        },
        {
          "output_type": "stream",
          "name": "stderr",
          "text": [
            "\n"
          ]
        },
        {
          "output_type": "stream",
          "name": "stdout",
          "text": [
            "\n",
            "      Epoch    GPU_mem   box_loss   cls_loss   dfl_loss  Instances       Size\n"
          ]
        },
        {
          "output_type": "stream",
          "name": "stderr",
          "text": [
            "      28/50       2.4G     0.4958      10.19      1.462         31        800: 100%|██████████| 99/99 [00:32<00:00,  3.05it/s]\n",
            "                 Class     Images  Instances      Box(P          R      mAP50  mAP50-95): 100%|██████████| 2/2 [00:00<00:00,  3.87it/s]"
          ]
        },
        {
          "output_type": "stream",
          "name": "stdout",
          "text": [
            "                   all         26         80      0.606      0.482      0.475      0.272\n"
          ]
        },
        {
          "output_type": "stream",
          "name": "stderr",
          "text": [
            "\n"
          ]
        },
        {
          "output_type": "stream",
          "name": "stdout",
          "text": [
            "\n",
            "      Epoch    GPU_mem   box_loss   cls_loss   dfl_loss  Instances       Size\n"
          ]
        },
        {
          "output_type": "stream",
          "name": "stderr",
          "text": [
            "      29/50       2.4G     0.4999      10.19      1.469         18        800: 100%|██████████| 99/99 [00:32<00:00,  3.05it/s]\n",
            "                 Class     Images  Instances      Box(P          R      mAP50  mAP50-95): 100%|██████████| 2/2 [00:00<00:00,  3.37it/s]"
          ]
        },
        {
          "output_type": "stream",
          "name": "stdout",
          "text": [
            "                   all         26         80      0.531      0.482       0.48      0.268\n"
          ]
        },
        {
          "output_type": "stream",
          "name": "stderr",
          "text": [
            "\n"
          ]
        },
        {
          "output_type": "stream",
          "name": "stdout",
          "text": [
            "\n",
            "      Epoch    GPU_mem   box_loss   cls_loss   dfl_loss  Instances       Size\n"
          ]
        },
        {
          "output_type": "stream",
          "name": "stderr",
          "text": [
            "      30/50       2.4G     0.4995      10.25      1.476         37        800: 100%|██████████| 99/99 [00:33<00:00,  2.92it/s]\n",
            "                 Class     Images  Instances      Box(P          R      mAP50  mAP50-95): 100%|██████████| 2/2 [00:00<00:00,  4.01it/s]"
          ]
        },
        {
          "output_type": "stream",
          "name": "stdout",
          "text": [
            "                   all         26         80      0.567      0.494      0.482      0.272\n"
          ]
        },
        {
          "output_type": "stream",
          "name": "stderr",
          "text": [
            "\n"
          ]
        },
        {
          "output_type": "stream",
          "name": "stdout",
          "text": [
            "\n",
            "      Epoch    GPU_mem   box_loss   cls_loss   dfl_loss  Instances       Size\n"
          ]
        },
        {
          "output_type": "stream",
          "name": "stderr",
          "text": [
            "      31/50       2.4G     0.4996      10.11      1.473         53        800: 100%|██████████| 99/99 [00:32<00:00,  3.08it/s]\n",
            "                 Class     Images  Instances      Box(P          R      mAP50  mAP50-95): 100%|██████████| 2/2 [00:00<00:00,  3.73it/s]"
          ]
        },
        {
          "output_type": "stream",
          "name": "stdout",
          "text": [
            "                   all         26         80      0.565      0.498      0.499      0.268\n"
          ]
        },
        {
          "output_type": "stream",
          "name": "stderr",
          "text": [
            "\n"
          ]
        },
        {
          "output_type": "stream",
          "name": "stdout",
          "text": [
            "\n",
            "      Epoch    GPU_mem   box_loss   cls_loss   dfl_loss  Instances       Size\n"
          ]
        },
        {
          "output_type": "stream",
          "name": "stderr",
          "text": [
            "      32/50       2.4G     0.4968      9.925      1.452         12        800: 100%|██████████| 99/99 [00:35<00:00,  2.78it/s]\n",
            "                 Class     Images  Instances      Box(P          R      mAP50  mAP50-95): 100%|██████████| 2/2 [00:00<00:00,  3.80it/s]"
          ]
        },
        {
          "output_type": "stream",
          "name": "stdout",
          "text": [
            "                   all         26         80      0.487       0.57      0.505      0.263\n"
          ]
        },
        {
          "output_type": "stream",
          "name": "stderr",
          "text": [
            "\n"
          ]
        },
        {
          "output_type": "stream",
          "name": "stdout",
          "text": [
            "\n",
            "      Epoch    GPU_mem   box_loss   cls_loss   dfl_loss  Instances       Size\n"
          ]
        },
        {
          "output_type": "stream",
          "name": "stderr",
          "text": [
            "      33/50       2.4G      0.497      10.07      1.462         33        800: 100%|██████████| 99/99 [00:32<00:00,  3.05it/s]\n",
            "                 Class     Images  Instances      Box(P          R      mAP50  mAP50-95): 100%|██████████| 2/2 [00:00<00:00,  4.29it/s]"
          ]
        },
        {
          "output_type": "stream",
          "name": "stdout",
          "text": [
            "                   all         26         80      0.595      0.467       0.48      0.264\n"
          ]
        },
        {
          "output_type": "stream",
          "name": "stderr",
          "text": [
            "\n"
          ]
        },
        {
          "output_type": "stream",
          "name": "stdout",
          "text": [
            "\n",
            "      Epoch    GPU_mem   box_loss   cls_loss   dfl_loss  Instances       Size\n"
          ]
        },
        {
          "output_type": "stream",
          "name": "stderr",
          "text": [
            "      34/50       2.4G     0.4865       10.1      1.452         42        800: 100%|██████████| 99/99 [00:32<00:00,  3.01it/s]\n",
            "                 Class     Images  Instances      Box(P          R      mAP50  mAP50-95): 100%|██████████| 2/2 [00:00<00:00,  2.92it/s]"
          ]
        },
        {
          "output_type": "stream",
          "name": "stdout",
          "text": [
            "                   all         26         80      0.623      0.467      0.497      0.275\n"
          ]
        },
        {
          "output_type": "stream",
          "name": "stderr",
          "text": [
            "\n"
          ]
        },
        {
          "output_type": "stream",
          "name": "stdout",
          "text": [
            "\n",
            "      Epoch    GPU_mem   box_loss   cls_loss   dfl_loss  Instances       Size\n"
          ]
        },
        {
          "output_type": "stream",
          "name": "stderr",
          "text": [
            "      35/50       2.4G     0.5095      10.43      1.497         44        800: 100%|██████████| 99/99 [00:33<00:00,  2.99it/s]\n",
            "                 Class     Images  Instances      Box(P          R      mAP50  mAP50-95): 100%|██████████| 2/2 [00:00<00:00,  3.38it/s]"
          ]
        },
        {
          "output_type": "stream",
          "name": "stdout",
          "text": [
            "                   all         26         80      0.587       0.45      0.475       0.27\n"
          ]
        },
        {
          "output_type": "stream",
          "name": "stderr",
          "text": [
            "\n"
          ]
        },
        {
          "output_type": "stream",
          "name": "stdout",
          "text": [
            "\n",
            "      Epoch    GPU_mem   box_loss   cls_loss   dfl_loss  Instances       Size\n"
          ]
        },
        {
          "output_type": "stream",
          "name": "stderr",
          "text": [
            "      36/50       2.4G      0.502      10.19      1.468         66        800: 100%|██████████| 99/99 [00:33<00:00,  2.97it/s]\n",
            "                 Class     Images  Instances      Box(P          R      mAP50  mAP50-95): 100%|██████████| 2/2 [00:00<00:00,  2.68it/s]"
          ]
        },
        {
          "output_type": "stream",
          "name": "stdout",
          "text": [
            "                   all         26         80      0.449      0.528      0.493      0.274\n"
          ]
        },
        {
          "output_type": "stream",
          "name": "stderr",
          "text": [
            "\n"
          ]
        },
        {
          "output_type": "stream",
          "name": "stdout",
          "text": [
            "\n",
            "      Epoch    GPU_mem   box_loss   cls_loss   dfl_loss  Instances       Size\n"
          ]
        },
        {
          "output_type": "stream",
          "name": "stderr",
          "text": [
            "      37/50       2.4G      0.507       10.3      1.494         19        800: 100%|██████████| 99/99 [00:33<00:00,  2.99it/s]\n",
            "                 Class     Images  Instances      Box(P          R      mAP50  mAP50-95): 100%|██████████| 2/2 [00:00<00:00,  5.60it/s]"
          ]
        },
        {
          "output_type": "stream",
          "name": "stdout",
          "text": [
            "                   all         26         80       0.41       0.55      0.472      0.266\n"
          ]
        },
        {
          "output_type": "stream",
          "name": "stderr",
          "text": [
            "\n"
          ]
        },
        {
          "output_type": "stream",
          "name": "stdout",
          "text": [
            "\n",
            "      Epoch    GPU_mem   box_loss   cls_loss   dfl_loss  Instances       Size\n"
          ]
        },
        {
          "output_type": "stream",
          "name": "stderr",
          "text": [
            "      38/50       2.4G     0.5019      10.09      1.494         38        800: 100%|██████████| 99/99 [00:34<00:00,  2.89it/s]\n",
            "                 Class     Images  Instances      Box(P          R      mAP50  mAP50-95): 100%|██████████| 2/2 [00:00<00:00,  3.79it/s]"
          ]
        },
        {
          "output_type": "stream",
          "name": "stdout",
          "text": [
            "                   all         26         80      0.572      0.456      0.461      0.255\n"
          ]
        },
        {
          "output_type": "stream",
          "name": "stderr",
          "text": [
            "\n"
          ]
        },
        {
          "output_type": "stream",
          "name": "stdout",
          "text": [
            "\n",
            "      Epoch    GPU_mem   box_loss   cls_loss   dfl_loss  Instances       Size\n"
          ]
        },
        {
          "output_type": "stream",
          "name": "stderr",
          "text": [
            "      39/50       2.4G     0.4979      9.984      1.458         27        800: 100%|██████████| 99/99 [00:33<00:00,  2.96it/s]\n",
            "                 Class     Images  Instances      Box(P          R      mAP50  mAP50-95): 100%|██████████| 2/2 [00:00<00:00,  2.50it/s]"
          ]
        },
        {
          "output_type": "stream",
          "name": "stdout",
          "text": [
            "                   all         26         80      0.576      0.478      0.475      0.255\n"
          ]
        },
        {
          "output_type": "stream",
          "name": "stderr",
          "text": [
            "\n"
          ]
        },
        {
          "output_type": "stream",
          "name": "stdout",
          "text": [
            "\n",
            "      Epoch    GPU_mem   box_loss   cls_loss   dfl_loss  Instances       Size\n"
          ]
        },
        {
          "output_type": "stream",
          "name": "stderr",
          "text": [
            "      40/50       2.4G     0.4986      10.07      1.477         49        800: 100%|██████████| 99/99 [00:32<00:00,  3.09it/s]\n",
            "                 Class     Images  Instances      Box(P          R      mAP50  mAP50-95): 100%|██████████| 2/2 [00:00<00:00,  3.61it/s]"
          ]
        },
        {
          "output_type": "stream",
          "name": "stdout",
          "text": [
            "                   all         26         80      0.643      0.501      0.498      0.257\n"
          ]
        },
        {
          "output_type": "stream",
          "name": "stderr",
          "text": [
            "\n"
          ]
        },
        {
          "output_type": "stream",
          "name": "stdout",
          "text": [
            "Closing dataloader mosaic\n",
            "\u001b[34m\u001b[1malbumentations: \u001b[0mBlur(p=0.01, blur_limit=(3, 7)), MedianBlur(p=0.01, blur_limit=(3, 7)), ToGray(p=0.01, method='weighted_average', num_output_channels=3), CLAHE(p=0.01, clip_limit=(1.0, 4.0), tile_grid_size=(8, 8))\n",
            "\n",
            "      Epoch    GPU_mem   box_loss   cls_loss   dfl_loss  Instances       Size\n"
          ]
        },
        {
          "output_type": "stream",
          "name": "stderr",
          "text": [
            "      41/50       2.4G     0.4051      7.838       1.25         26        800: 100%|██████████| 99/99 [00:28<00:00,  3.48it/s]\n",
            "                 Class     Images  Instances      Box(P          R      mAP50  mAP50-95): 100%|██████████| 2/2 [00:00<00:00,  5.58it/s]\n"
          ]
        },
        {
          "output_type": "stream",
          "name": "stdout",
          "text": [
            "                   all         26         80      0.546      0.417      0.445      0.245\n",
            "\n",
            "      Epoch    GPU_mem   box_loss   cls_loss   dfl_loss  Instances       Size\n"
          ]
        },
        {
          "output_type": "stream",
          "name": "stderr",
          "text": [
            "      42/50       2.4G     0.4079      7.815      1.248         22        800: 100%|██████████| 99/99 [00:26<00:00,  3.67it/s]\n",
            "                 Class     Images  Instances      Box(P          R      mAP50  mAP50-95): 100%|██████████| 2/2 [00:00<00:00,  4.37it/s]"
          ]
        },
        {
          "output_type": "stream",
          "name": "stdout",
          "text": [
            "                   all         26         80      0.607      0.508      0.484      0.245\n"
          ]
        },
        {
          "output_type": "stream",
          "name": "stderr",
          "text": [
            "\n"
          ]
        },
        {
          "output_type": "stream",
          "name": "stdout",
          "text": [
            "\n",
            "      Epoch    GPU_mem   box_loss   cls_loss   dfl_loss  Instances       Size\n"
          ]
        },
        {
          "output_type": "stream",
          "name": "stderr",
          "text": [
            "      43/50       2.4G     0.4007      7.634      1.233         36        800: 100%|██████████| 99/99 [00:26<00:00,  3.69it/s]\n",
            "                 Class     Images  Instances      Box(P          R      mAP50  mAP50-95): 100%|██████████| 2/2 [00:00<00:00,  6.74it/s]"
          ]
        },
        {
          "output_type": "stream",
          "name": "stdout",
          "text": [
            "                   all         26         80      0.626      0.516      0.492      0.261\n"
          ]
        },
        {
          "output_type": "stream",
          "name": "stderr",
          "text": [
            "\n"
          ]
        },
        {
          "output_type": "stream",
          "name": "stdout",
          "text": [
            "\n",
            "      Epoch    GPU_mem   box_loss   cls_loss   dfl_loss  Instances       Size\n"
          ]
        },
        {
          "output_type": "stream",
          "name": "stderr",
          "text": [
            "      44/50       2.4G     0.4047      7.798      1.241         37        800: 100%|██████████| 99/99 [00:28<00:00,  3.48it/s]\n",
            "                 Class     Images  Instances      Box(P          R      mAP50  mAP50-95): 100%|██████████| 2/2 [00:00<00:00,  8.07it/s]"
          ]
        },
        {
          "output_type": "stream",
          "name": "stdout",
          "text": [
            "                   all         26         80       0.45      0.523      0.447      0.254\n",
            "\u001b[34m\u001b[1mEarlyStopping: \u001b[0mTraining stopped early as no improvement observed in last 20 epochs. Best results observed at epoch 24, best model saved as best.pt.\n",
            "To update EarlyStopping(patience=20) pass a new patience value, i.e. `patience=300` or use `patience=0` to disable EarlyStopping.\n"
          ]
        },
        {
          "output_type": "stream",
          "name": "stderr",
          "text": [
            "\n"
          ]
        },
        {
          "output_type": "stream",
          "name": "stdout",
          "text": [
            "\n",
            "44 epochs completed in 0.416 hours.\n",
            "Optimizer stripped from runs/yolov11_custom_finetuned/weights/last.pt, 5.5MB\n",
            "Optimizer stripped from runs/yolov11_custom_finetuned/weights/best.pt, 5.5MB\n",
            "\n",
            "Validating runs/yolov11_custom_finetuned/weights/best.pt...\n",
            "Ultralytics 8.3.89 🚀 Python-3.11.12 torch-2.6.0+cu124 CUDA:0 (Tesla T4, 15095MiB)\n",
            "YOLO11n summary (fused): 100 layers, 2,582,932 parameters, 0 gradients, 6.3 GFLOPs\n"
          ]
        },
        {
          "output_type": "stream",
          "name": "stderr",
          "text": [
            "                 Class     Images  Instances      Box(P          R      mAP50  mAP50-95): 100%|██████████| 2/2 [00:01<00:00,  1.78it/s]\n"
          ]
        },
        {
          "output_type": "stream",
          "name": "stdout",
          "text": [
            "                   all         26         80      0.587      0.522      0.504      0.281\n",
            "                  hole          3          5      0.514        0.8      0.679      0.422\n",
            "                 crack         23         60      0.555      0.467       0.46       0.25\n",
            "        block cracking          9         15      0.691        0.3      0.373      0.172\n",
            "Speed: 0.3ms preprocess, 38.6ms inference, 0.0ms loss, 0.9ms postprocess per image\n",
            "Results saved to \u001b[1mruns/yolov11_custom_finetuned\u001b[0m\n"
          ]
        }
      ]
    },
    {
      "cell_type": "markdown",
      "source": [
        "# YOLOv11 Training Parameters\n",
        "https://docs.ultralytics.com/modes/train/#train-settings\n",
        "<br>\n",
        "https://www.ultralytics.com/glossary/data-augmentation\n",
        "\n",
        "\n",
        "# YOLOv11 Training Parameters with Practical Guidelines\n",
        "\n",
        "| Argument | Type | Default | Description | Practical Guideline |\n",
        "|----------|------|---------|-------------|---------------------|\n",
        "| `model` | str | None | Specifies the model file for training. Accepts a path to either a .pt pretrained model or a .yaml configuration file. | For most tasks, use a pretrained YOLOv11 model (e.g., 'yolov11n.pt') for transfer learning rather than training from scratch. |\n",
        "| `data` | str | None | Path to the dataset configuration file (e.g., coco8.yaml) containing dataset-specific parameters. | Create a custom YAML file with your dataset paths and class names; follow the COCO format for best compatibility. |\n",
        "| `epochs` | int | 100 | Total number of training epochs, each representing a full pass over the dataset. | Use 50-100 for transfer learning; 100-300 for training from scratch; monitor validation metrics to avoid overfitting. |\n",
        "| `time` | float | None | Maximum training time in hours, overriding the epochs argument. | Useful for time-boxed experiments; set to 24-48 hours for complex datasets when exact epoch count is less important than time constraints. |\n",
        "| `patience` | int | 100 | Number of epochs to wait without improvement before early stopping. | Set to 20-50 for most tasks; lower (10-15) for quick experiments; higher (50-100) for complex datasets with slow convergence. |\n",
        "| `batch` | int | 16 | Batch size for training (integer value, -1 for auto-sizing, or fraction for GPU utilization). | Use largest value that fits in memory; 8-16 for 8GB GPU; 32-64 for 24GB+ GPUs; smaller batches (4-8) can improve generalization. |\n",
        "| `imgsz` | int or list | 640 | Target image size for training, affecting model accuracy and speed. | Use 640-1280 for general detection; larger (1280+) for small objects; smaller (416-512) for speed-critical applications. |\n",
        "| `save` | bool | True | Enables saving of training checkpoints and final model weights. | Always keep True unless running purely experimental tests where saving is unnecessary. |\n",
        "| `save_period` | int | -1 | Frequency of saving model checkpoints in epochs. | Set to 10-20 for long trainings to capture model evolution; lower (5) for critical/expensive trainings. |\n",
        "| `cache` | bool | False | Enables caching of dataset images (True/ram, disk, or False). | Use 'disk' for large datasets; True/ram for small datasets (<5GB) with sufficient RAM; False for most typical cases. |\n",
        "| `device` | int or str or list | None | Specifies computational device(s) for training. | For single GPU use '0'; multi-GPU use [0,1,2]; CPU-only use 'cpu'; use 'mps' for Apple Silicon. |\n",
        "| `workers` | int | 8 | Number of worker threads for data loading per GPU. | Set to CPU core count minus 2; reduce to 0-4 if experiencing memory issues; increase to 12-16 for high-speed storage systems. |\n",
        "| `project` | str | None | Name of the project directory for saving training outputs. | Use descriptive names for specific tasks (\"traffic-detection\", \"crack-segmentation\") to organize different research directions. |\n",
        "| `name` | str | None | Name of the training run, creating a subdirectory within the project folder. | Use versioned names (\"v1\", \"small-batch\", \"high-lr\") that describe the specific training configuration for easy comparison. |\n",
        "| `exist_ok` | bool | False | Allows overwriting of an existing project/name directory. | Set True during active development; False for production to prevent accidental overwriting of important results. |\n",
        "| `pretrained` | bool or str | True | Determines whether to start training from a pretrained model. | Use True for most cases; False only when training on very specialized data unlike any pretraining dataset. |\n",
        "| `optimizer` | str | 'auto' | Choice of optimizer for training. | Use 'SGD' for best generalization; 'Adam' for faster convergence; 'auto' works well for standard cases. |\n",
        "| `seed` | int | 0 | Sets the random seed for training reproducibility. | Change only when comparing different architectures to ensure fair comparison with identical initialization. |\n",
        "| `deterministic` | bool | True | Forces deterministic algorithm use, ensuring reproducibility. | Keep True for research and benchmarking; can set False for slight speed improvements in production training. |\n",
        "| `single_cls` | bool | False | Treats all classes as a single class during training. | Set True only for presence/absence detection problems; False for all multi-class detection tasks. |\n",
        "| `classes` | list[int] | None | Specifies class IDs to train on. | Use to focus on specific classes in a larger dataset; helpful for transfer learning on a subset of original classes. |\n",
        "| `rect` | bool | False | Enables rectangular training, optimizing batch composition. | Set True for inference speed optimization; keep False during main training for better data augmentation. |\n",
        "| `multi_scale` | bool | False | Enables multi-scale training by varying image size during training. | Enable for models that need robust multi-scale detection (traffic, aerial); unnecessary for fixed-distance applications. |\n",
        "| `cos_lr` | bool | False | Utilizes a cosine learning rate scheduler. | Set True for most trainings; provides smoother LR decay and often better final convergence than step-based schedules. |\n",
        "| `close_mosaic` | int | 10 | Disables mosaic augmentation in the last N epochs. | Set to 5-10% of total epochs; critical for stabilizing final training phase and improving precision. |\n",
        "| `resume` | bool | False | Resumes training from the last saved checkpoint. | Use when training was interrupted; ensures consistent continuation of optimization process. |\n",
        "| `amp` | bool | True | Enables Automatic Mixed Precision training. | Keep True on modern GPUs for memory savings and speed; set False only if experiencing numerical stability issues. |\n",
        "| `fraction` | float | 1.0 | Fraction of the dataset to use for training. | Use 0.1-0.2 for quick experiments; 0.5 for prototype development; 1.0 for final training. |\n",
        "| `profile` | bool | False | Enables ONNX and TensorRT speed profiling. | Enable only when planning to deploy with these frameworks to identify potential optimization bottlenecks. |\n",
        "| `freeze` | int or list | None | Freezes the first N layers or specified layer indices. | Freeze 0-10 backbone layers when fine-tuning; more layers (10-15) for very similar datasets to the pretrained one. |\n",
        "| `lr0` | float | 0.01 | Initial learning rate. | Use 0.01 for SGD with new models; 0.001-0.005 for fine-tuning; 0.0001-0.0005 for delicate final tuning. |\n",
        "| `lrf` | float | 0.01 | Final learning rate as a fraction of initial rate. | Set 0.01-0.1 for typical training; lower (0.001-0.01) for longer trainings for smoother decay. |\n",
        "| `momentum` | float | 0.937 | Momentum factor for SGD or beta1 for Adam. | Keep at 0.9-0.95 for most cases; lower (0.8-0.9) for noisy data; higher (0.95-0.99) for stable, well-behaved loss landscapes. |\n",
        "| `weight_decay` | float | 0.0005 | L2 regularization factor, penalizing large weights. | Use 0.0005-0.001 for most cases; increase to 0.001-0.005 for small datasets prone to overfitting. |\n",
        "| `warmup_epochs` | float | 3.0 | Number of epochs for learning rate warmup. | Set to 3-5 for stable training start; higher (5-10) for very large batch sizes or high learning rates. |\n",
        "| `warmup_momentum` | float | 0.8 | Initial momentum for warmup phase. | Keep at default 0.8 for most cases; rarely needs adjustment. |\n",
        "| `warmup_bias_lr` | float | 0.1 | Learning rate for bias parameters during warmup. | Keep at default 0.1; higher values (0.2-0.5) can sometimes improve initial detection of rare classes. |\n",
        "| `box` | float | 7.5 | Weight of the box loss component in the loss function. | Use 5.0-7.5 for accurate localization; higher (8.0-10.0) when precise boundaries are critical; lower (3.0-5.0) to prioritize recall. |\n",
        "| `cls` | float | 0.5 | Weight of the classification loss in the total loss function. | Increase to 1.0-2.0 to improve classification accuracy; decrease to 0.3-0.5 when localization is more important than classification. |\n",
        "| `dfl` | float | 1.5 | Weight of the distribution focal loss. | Keep at default 1.5 for most cases; increase to 2.0-3.0 for highly overlapping objects requiring precise distribution. |\n",
        "| `pose` | float | 12.0 | Weight of the pose loss in models trained for pose estimation. | Only relevant for pose models; increase to 15.0-20.0 for applications requiring very precise keypoint localization. |\n",
        "| `kobj` | float | 2.0 | Weight of the keypoint objectness loss in pose estimation. | Only for pose models; balance with pose parameter (typically 1:5 to 1:8 ratio) depending on application needs. |\n",
        "| `nbs` | int | 64 | Nominal batch size for normalization of loss. | Rarely needs changing; adjust only if experiencing unstable gradients with very large or small batch sizes. |\n",
        "| `overlap_mask` | bool | True | Determines mask merging strategy for overlapping objects. | Keep True for most segmentation tasks; set False only for specialized cases with transparent overlapping objects. |\n",
        "| `mask_ratio` | int | 4 | Downsample ratio for segmentation masks. | Use 4 for balance of speed and accuracy; lower (2) for fine detail preservation; higher (8) for speed on large masks. |\n",
        "| `dropout` | float | 0.0 | Dropout rate for regularization in classification. | Set to 0.1-0.3 for classifiers prone to overfitting; keep at 0.0 for most detection tasks unless overfitting is observed. |\n",
        "| `val` | bool | True | Enables validation during training. | Always keep True to monitor training progress; False only in rare cases where validation would be redundant. |\n",
        "| `plots` | bool | False | Generates and saves plots of training metrics and examples. | Enable for visualizing training progress and model performance; especially useful for debugging or tuning hyperparameters. |\n",
        "\n",
        "# YOLO Augmentation Parameters with Practical Guidelines\n",
        "\n",
        "| Argument | Type | Default | Range | Description | Practical Guideline |\n",
        "|----------|------|---------|-------|-------------|---------------------|\n",
        "| `hsv_h` | float | 0.015 | 0.0 - 1.0 | Adjusts the hue of the image by a fraction of the color wheel, introducing color variability. Helps the model generalize across different lighting conditions. | Keep values small (0.015-0.05) for realistic colors; use higher values (0.1-0.2) only when color variation is critical for detection. |\n",
        "| `hsv_s` | float | 0.7 | 0.0 - 1.0 | Alters the saturation of the image by a fraction, affecting the intensity of colors. Useful for simulating different environmental conditions. | Use higher values (0.5-0.7) for outdoor datasets with varying lighting conditions; lower (0.2-0.4) for controlled indoor environments. |\n",
        "| `hsv_v` | float | 0.4 | 0.0 - 1.0 | Modifies the value (brightness) of the image by a fraction, helping the model to perform well under various lighting conditions. | Set to 0.3-0.5 for datasets with mixed lighting; increase to 0.6-0.8 for night/low-light detection scenarios. |\n",
        "| `degrees` | float | 0.0 | 0.0 - 180 | Rotates the image randomly within the specified degree range, improving the model's ability to recognize objects at various orientations. | Use 0-10° for objects with directional properties (road markings, text); 10-30° for orientation-independent objects (people, animals); avoid for horizon-aligned scenes. |\n",
        "| `translate` | float | 0.1 | 0.0 - 1.0 | Translates the image horizontally and vertically by a fraction of the image size, aiding in learning to detect partially visible objects. | Set to 0.1-0.2 for centered objects; increase to 0.3-0.5 for objects that appear at image edges or are partially visible. |\n",
        "| `scale` | float | 0.5 | >=0.0 | Scales the image by a gain factor, simulating objects at different distances from the camera. | Use 0.4-0.6 for general detection tasks; higher (0.7-0.9) when object size varies significantly in your dataset. |\n",
        "| `shear` | float | 0.0 | -180 - +180 | Shears the image by a specified degree, mimicking the effect of objects being viewed from different angles. | Keep low (1.0-3.0) for most tasks; increase to 5.0-10.0 for datasets with varied camera angles; use cautiously as it can distort object shapes. |\n",
        "| `perspective` | float | 0.0 | 0.0 - 0.001 | Applies a random perspective transformation to the image, enhancing the model's ability to understand objects in 3D space. | Use very small values (0.0001-0.0005) to maintain realistic object appearances; higher values distort objects excessively. |\n",
        "| `flipud` | float | 0.0 | 0.0 - 1.0 | Flips the image upside down with the specified probability, increasing the data variability without affecting the object's characteristics. | Generally keep at 0.0; only use (0.3-0.5) for orientation-invariant objects like aerial imagery or symmetric objects. |\n",
        "| `fliplr` | float | 0.5 | 0.0 - 1.0 | Flips the image left to right with the specified probability, useful for learning symmetrical objects and increasing dataset diversity. | Set to 0.5 for most datasets; reduce to 0.0 for directional objects (text, arrows); essential for doubling effective dataset size. |\n",
        "| `bgr` | float | 0.0 | 0.0 - 1.0 | Flips the image channels from RGB to BGR with the specified probability, useful for increasing robustness to incorrect channel ordering. | Usually keep at 0.0; set to 0.1-0.3 only when developing models that might be deployed across different image processing pipelines. |\n",
        "| `mosaic` | float | 1.0 | 0.0 - 1.0 | Combines four training images into one, simulating different scene compositions and object interactions. | Set to 0.7-0.9 for small object detection tasks; reduce to 0.5-0.6 for datasets with thin or fine features (cracks, wires); disable (0.0) in the final few epochs. |\n",
        "| `mixup` | float | 0.0 | 0.0 - 1.0 | Blends two images and their labels, creating a composite image. Enhances the model's ability to generalize by introducing label noise and visual variability. | Use 0.1-0.2 for small datasets; 0.3-0.4 for complex scenes; avoid or keep very low (0.05) for fine-detail detection tasks. |\n",
        "| `cutmix` | float | 0.0 | 0.0 - 1.0 | Combines portions of two images, creating a partial blend while maintaining distinct regions. | Set to 0.2-0.3 for classification tasks; lower (0.1) for detection of small objects; higher (0.4-0.5) for robust multi-class detection. |\n",
        "| `copy_paste` | float | 0.0 | 0.0 - 1.0 | *Segmentation only*. Copies and pastes objects across images to increase object instances. | Use 0.2-0.4 for rare classes with few samples; increase to 0.5-0.7 for extreme class imbalance; critical for improving recall of uncommon objects. |\n",
        "| `copy_paste_mode` | str | flip | - | *Segmentation only*. Specifies the `copy-paste` strategy to use. Options include `'flip'` and `'mixup'`. | Use 'flip' for most segmentation tasks; try 'mixup' when diversity in object appearance is more important than position. |\n",
        "| `auto_augment` | str | randaugment | - | *Classification only*. Applies a predefined augmentation policy to enhance model performance through visual diversity. | 'randaugment' works well for general tasks; try 'autoaugment' for known datasets (CIFAR, ImageNet); 'augmix' for highest robustness to distribution shifts. |\n",
        "| `erasing` | float | 0.4 | 0.0 - 0.9 | *Classification only*. Randomly erases regions of the image during training to encourage the model to focus on less obvious features. | Set to 0.3-0.5 for general classification; increase to 0.6-0.8 for objects with distinctive parts that should not be relied on exclusively. |\n",
        "\n",
        "## Recommended Parameters\n",
        "\n",
        "### For General Object Detection\n",
        "- `mosaic=0.8` - Strong but not overwhelming mosaic augmentation\n",
        "- `mixup=0.1` - Light blending to maintain feature clarity\n",
        "- `degrees=10.0` - Moderate rotation for orientation robustness\n",
        "- `fliplr=0.5` - Standard horizontal flipping\n",
        "- `translate=0.1` - Slight position variation\n",
        "- `scale=0.5` - Balanced size variation\n",
        "- `pretrained=True` - Use transfer learning from COCO dataset\n",
        "- `batch=16` (or highest that fits on GPU)\n",
        "- `imgsz=640`\n",
        "- `epochs=100`\n",
        "- `patience=50`\n",
        "- `lr0=0.002`, `lrf=0.01`\n",
        "- `cos_lr=True`\n",
        "- `close_mosaic=10`\n",
        "\n",
        "### For Small Object Detection (e.g., defects, cracks)\n",
        "- `mosaic=0.6` - Lower mosaic to prevent tiny objects from disappearing\n",
        "- `mixup=0.05` - Very light blending to preserve small features\n",
        "- `degrees=5.0` - Minimal rotation\n",
        "- `scale=0.6` - Emphasize varying sizes\n",
        "- `hsv_v=0.5` - Enhanced brightness variation\n",
        "- `copy_paste=0.3` - Increase instances of rare defects\n",
        "- `imgsz=1280` (larger input size)\n",
        "- `batch=8` (accommodate larger images)\n",
        "- `box=10.0` (emphasize localization accuracy)\n",
        "- `iou=0.35` (more lenient matching criteria)\n",
        "- `epochs=150` (longer training)\n",
        "- `close_mosaic=15` (more stabilization epochs)\n",
        "\n",
        "### For Robust Real-World Deployment\n",
        "- `hsv_h=0.02, hsv_s=0.7, hsv_v=0.4` - Comprehensive color variation\n",
        "- `mosaic=0.7` - Balanced mosaic augmentation\n",
        "- `mixup=0.2` - Moderate blending for robustness\n",
        "- `translate=0.2` - Increased position variation\n",
        "- `perspective=0.0003` - Slight perspective change\n",
        "- `degrees=15.0` - Stronger rotation for viewpoint invariance\n",
        "- Final training phase after main training:\n",
        "  - `lr0=0.0001` (very low learning rate)\n",
        "  - `epochs=20` (short fine-tuning)\n",
        "  - `rect=True` (rectangular inference optimization)\n",
        "  - `multi_scale=True` (robust to different image sizes)\n",
        "  - `batch=4` (smallest stable batch size for best generalization)\n",
        "\n",
        "### For Limited Dataset Training\n",
        "- `mosaic=0.9` - Heavy mosaic to maximize data combination\n",
        "- `mixup=0.2` - Moderate blending for artificial diversity\n",
        "- `cutmix=0.2` - Additional variation technique\n",
        "- `copy_paste=0.4` - Replicate scarce objects\n",
        "- `fliplr=0.5, scale=0.7` - Maximize effective data variation"
      ],
      "metadata": {
        "id": "R1a-FMpCQ4hf"
      }
    },
    {
      "cell_type": "code",
      "source": [],
      "metadata": {
        "id": "CFe25pe-Xi3O"
      },
      "execution_count": null,
      "outputs": []
    }
  ]
}